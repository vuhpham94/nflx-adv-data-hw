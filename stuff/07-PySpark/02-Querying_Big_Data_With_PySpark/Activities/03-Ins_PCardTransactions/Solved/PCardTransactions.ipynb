{
 "cells": [
  {
   "cell_type": "code",
   "execution_count": 1,
   "metadata": {
    "colab": {
     "base_uri": "https://localhost:8080/"
    },
    "id": "TRYa0HhhhaGG",
    "outputId": "fb0d9c06-40fe-4269-e7d7-eb779da799d4"
   },
   "outputs": [
    {
     "name": "stdout",
     "output_type": "stream",
     "text": [
      "Get:1 https://cloud.r-project.org/bin/linux/ubuntu bionic-cran40/ InRelease [3,626 B]\n",
      "Ign:2 https://developer.download.nvidia.com/compute/cuda/repos/ubuntu1804/x86_64  InRelease\n",
      "Ign:3 https://developer.download.nvidia.com/compute/machine-learning/repos/ubuntu1804/x86_64  InRelease\n",
      "Hit:4 https://developer.download.nvidia.com/compute/cuda/repos/ubuntu1804/x86_64  Release\n",
      "Hit:5 https://developer.download.nvidia.com/compute/machine-learning/repos/ubuntu1804/x86_64  Release\n",
      "Get:6 http://security.ubuntu.com/ubuntu bionic-security InRelease [88.7 kB]\n",
      "Get:7 http://ppa.launchpad.net/c2d4u.team/c2d4u4.0+/ubuntu bionic InRelease [15.9 kB]\n",
      "Hit:8 http://archive.ubuntu.com/ubuntu bionic InRelease\n",
      "Get:9 http://archive.ubuntu.com/ubuntu bionic-updates InRelease [88.7 kB]\n",
      "Hit:11 http://ppa.launchpad.net/cran/libgit2/ubuntu bionic InRelease\n",
      "Hit:13 http://ppa.launchpad.net/graphics-drivers/ppa/ubuntu bionic InRelease\n",
      "Get:14 http://archive.ubuntu.com/ubuntu bionic-backports InRelease [74.6 kB]\n",
      "Get:15 http://ppa.launchpad.net/c2d4u.team/c2d4u4.0+/ubuntu bionic/main Sources [1,733 kB]\n",
      "Get:16 http://security.ubuntu.com/ubuntu bionic-security/universe amd64 Packages [1,391 kB]\n",
      "Get:17 http://archive.ubuntu.com/ubuntu bionic-updates/universe amd64 Packages [2,162 kB]\n",
      "Get:18 http://security.ubuntu.com/ubuntu bionic-security/main amd64 Packages [1,929 kB]\n",
      "Get:19 http://ppa.launchpad.net/c2d4u.team/c2d4u4.0+/ubuntu bionic/main amd64 Packages [887 kB]\n",
      "Get:20 http://archive.ubuntu.com/ubuntu bionic-updates/main amd64 Packages [2,360 kB]\n",
      "Fetched 10.7 MB in 4s (3,035 kB/s)\n",
      "Reading package lists... Done\n"
     ]
    }
   ],
   "source": [
    "import os\n",
    "# Find the latest version of spark 3.0  from http://www-us.apache.org/dist/spark/ and enter as the spark version\n",
    "# For example:\n",
    "# spark_version = 'spark-3.0.2'\n",
    "spark_version = 'spark-3.<INSERT_VERSION>'\n",
    "os.environ['SPARK_VERSION']=spark_version\n",
    "\n",
    "# Install Spark and Java\n",
    "!apt-get update\n",
    "!apt-get install openjdk-11-jdk-headless -qq > /dev/null\n",
    "!wget -q http://www-us.apache.org/dist/spark/$SPARK_VERSION/$SPARK_VERSION-bin-hadoop2.7.tgz\n",
    "!tar xf $SPARK_VERSION-bin-hadoop2.7.tgz\n",
    "!pip install -q findspark\n",
    "\n",
    "# Set Environment Variables\n",
    "os.environ[\"JAVA_HOME\"] = \"/usr/lib/jvm/java-11-openjdk-amd64\"\n",
    "os.environ[\"SPARK_HOME\"] = f\"/content/{spark_version}-bin-hadoop2.7\"\n",
    "\n",
    "# Start a SparkSession\n",
    "import findspark\n",
    "findspark.init()"
   ]
  },
  {
   "cell_type": "code",
   "execution_count": null,
   "metadata": {
    "id": "PI2Ck8-XmCg9"
   },
   "outputs": [],
   "source": [
    "# Start Spark session\n",
    "from pyspark.sql import SparkSession\n",
    "spark = SparkSession.builder.appName(\"PCard Transactions\").getOrCreate()"
   ]
  },
  {
   "cell_type": "code",
   "execution_count": null,
   "metadata": {
    "colab": {
     "base_uri": "https://localhost:8080/"
    },
    "id": "WeAgnm-7kqs6",
    "outputId": "2386ac93-6e1c-4de3-9a45-43ffedcb3860"
   },
   "outputs": [
    {
     "name": "stdout",
     "output_type": "stream",
     "text": [
      "+----------+-------------+--------------------+--------------------+------------------------+--------------------+------+--------------------+--------------------+--------------------+----------------------------+\n",
      "|Year-Month|Agency Number|         Agency Name|Cardholder Last Name|Cardholder First Initial|         Description|Amount|              Vendor|    Transaction Date|         Posted Date|Merchant Category Code (MCC)|\n",
      "+----------+-------------+--------------------+--------------------+------------------------+--------------------+------+--------------------+--------------------+--------------------+----------------------------+\n",
      "|    201307|         1000|OKLAHOMA STATE UN...|               Mason|                       C|    GENERAL PURCHASE|   890|               NACAS|07/30/2013 12:00:...|07/31/2013 12:00:...|        CHARITABLE AND SO...|\n",
      "|    201307|         1000|OKLAHOMA STATE UN...|               Mason|                       C|        ROOM CHARGES|368.96|      SHERATON HOTEL|07/30/2013 12:00:...|07/31/2013 12:00:...|                    SHERATON|\n",
      "|    201307|         1000|OKLAHOMA STATE UN...|              Massey|                       J|    GENERAL PURCHASE|165.82|      SEARS.COM 9300|07/29/2013 12:00:...|07/31/2013 12:00:...|        DIRCT MARKETING/D...|\n",
      "|    201307|         1000|OKLAHOMA STATE UN...|              Massey|                       T|    GENERAL PURCHASE| 96.39|      WAL-MART #0137|07/30/2013 12:00:...|07/31/2013 12:00:...|        GROCERY STORES,AN...|\n",
      "|    201307|         1000|OKLAHOMA STATE UN...|       Mauro-Herrera|                       M|HAMMERMILL COPY P...|125.96|      STAPLES DIRECT|07/30/2013 12:00:...|07/31/2013 12:00:...|        STATIONERY, OFFIC...|\n",
      "|    201307|         1000|OKLAHOMA STATE UN...|       Mauro-Herrera|                       M|    GENERAL PURCHASE|394.28|KYOCERA DOCUMENT ...|07/29/2013 12:00:...|07/31/2013 12:00:...|        OFFICE, PHOTOGRAP...|\n",
      "|    201307|         1000|OKLAHOMA STATE UN...|                Mays|                       B|    GENERAL PURCHASE| 19.87|      WAL-MART #0137|07/30/2013 12:00:...|07/31/2013 12:00:...|        GROCERY STORES,AN...|\n",
      "|    201307|         1000|OKLAHOMA STATE UN...|                Mays|                       B|    GENERAL PURCHASE|  10.1|     DAYLIGHT DONUTS|07/29/2013 12:00:...|07/31/2013 12:00:...|        FAST FOOD RESTAUR...|\n",
      "|    201307|         1000|OKLAHOMA STATE UN...|            McCarthy|                       D|    GENERAL PURCHASE| 142.6|UFIRST  LAUNDRY SVCS|07/30/2013 12:00:...|07/31/2013 12:00:...|        MENS, WOMENS AND ...|\n",
      "|    201307|         1000|OKLAHOMA STATE UN...|             McClurg|                       L|AT&T SERVICE PAYM...| 29.99|           AT&T DATA|07/30/2013 12:00:...|07/31/2013 12:00:...|        TELECOMMUNICATION...|\n",
      "|    201307|         1000|OKLAHOMA STATE UN...|             McGowin|                       R|    GENERAL PURCHASE|278.23|       RANDY'S FOODS|07/29/2013 12:00:...|07/31/2013 12:00:...|        FREEZER AND LOCKE...|\n",
      "|    201307|         1000|OKLAHOMA STATE UN...|               McKee|                       P|    GENERAL PURCHASE| 127.8|DEARINGER PRINTIN...|07/30/2013 12:00:...|07/31/2013 12:00:...|        MISCELLANEOUS AND...|\n",
      "|    201307|         1000|OKLAHOMA STATE UN...|            McLemore|                       A|    GENERAL PURCHASE|572.27|GIDDINGS MACHINE CO.|07/30/2013 12:00:...|07/31/2013 12:00:...|        COMMERCIAL EQUIPM...|\n",
      "|    201307|         1000|OKLAHOMA STATE UN...|             McMurry|                       S|50-LB PLAY SAND B...|  12.9|        LOWES #00241|07/30/2013 12:00:...|07/31/2013 12:00:...|        HOME SUPPLY WAREH...|\n",
      "|    201307|         1000|OKLAHOMA STATE UN...|              Meints|                       K|    GENERAL PURCHASE|   445|OK DEPT OF VO-TEC...|07/30/2013 12:00:...|07/31/2013 12:00:...|        GOVERNMENT SERVIC...|\n",
      "|    201307|         1000|OKLAHOMA STATE UN...|           Mohiuddin|                       A|    GENERAL PURCHASE|452.91| TFS THERMOASHEVILLE|07/31/2013 12:00:...|07/31/2013 12:00:...|        DENTAL/LABORATORY...|\n",
      "|    201307|         1000|OKLAHOMA STATE UN...|           Mohiuddin|                       I|    GENERAL PURCHASE|  2425|WESTERN EQUIPMENT...|07/29/2013 12:00:...|07/31/2013 12:00:...|             HARDWARE STORES|\n",
      "|    201307|         1000|OKLAHOMA STATE UN...|           Mohiuddin|                       I|    GENERAL PURCHASE|  2425|WESTERN EQUIPMENT...|07/29/2013 12:00:...|07/31/2013 12:00:...|             HARDWARE STORES|\n",
      "|    201307|         1000|OKLAHOMA STATE UN...|         Mollenhauer|                       R|    GENERAL PURCHASE|  7.63|   HOBBY-LOBBY #0005|07/29/2013 12:00:...|07/31/2013 12:00:...|        HOBBY,TOY,AND GAM...|\n",
      "|    201307|         1000|OKLAHOMA STATE UN...|          MONTGOMERY|                       R|    GENERAL PURCHASE| 18.97|      WAL-MART #0121|07/30/2013 12:00:...|07/31/2013 12:00:...|        GROCERY STORES,AN...|\n",
      "+----------+-------------+--------------------+--------------------+------------------------+--------------------+------+--------------------+--------------------+--------------------+----------------------------+\n",
      "only showing top 20 rows\n",
      "\n"
     ]
    }
   ],
   "source": [
    "# Read in data from S3 Buckets\n",
    "from pyspark import SparkFiles\n",
    "url = \"https://2u-data-curriculum-team.s3.amazonaws.com/dataviz-netflix/unit-7/pcard_transactions.csv\"\n",
    "spark.sparkContext.addFile(url)\n",
    "df = spark.read.csv(SparkFiles.get(\"pcard_transactions.csv\"), sep=\",\", header=True)\n",
    "\n",
    "# Show DataFrame\n",
    "df.show()"
   ]
  },
  {
   "cell_type": "code",
   "execution_count": null,
   "metadata": {
    "colab": {
     "base_uri": "https://localhost:8080/"
    },
    "id": "CNTEmrCmnSBm",
    "outputId": "8331f114-56be-4050-e180-675b4160f147"
   },
   "outputs": [
    {
     "data": {
      "text/plain": [
       "<pyspark.sql.group.GroupedData at 0x7f5141ab2438>"
      ]
     },
     "execution_count": 4,
     "metadata": {
      "tags": []
     },
     "output_type": "execute_result"
    }
   ],
   "source": [
    "df.groupBy('Agency Name')"
   ]
  },
  {
   "cell_type": "code",
   "execution_count": null,
   "metadata": {
    "id": "HJEX_0jhUrKs"
   },
   "outputs": [],
   "source": [
    "amountUpdated = df.withColumn(\"Amount\", df[\"Amount\"].cast('float'))"
   ]
  },
  {
   "cell_type": "code",
   "execution_count": null,
   "metadata": {
    "colab": {
     "base_uri": "https://localhost:8080/"
    },
    "id": "hcCfoUZyvT79",
    "outputId": "76754dc5-9bb8-41ca-b706-886e237c5773"
   },
   "outputs": [
    {
     "name": "stdout",
     "output_type": "stream",
     "text": [
      "+--------------------+-----------+\n",
      "|         Agency Name|max(Amount)|\n",
      "+--------------------+-----------+\n",
      "|BOLL WEEVIL ERADI...|    1639.99|\n",
      "|   ROSE STATE COLEGE|     4580.0|\n",
      "|EMPLOYMENT SECURI...|   12872.19|\n",
      "|DEPARTMENT OF TOU...|   61000.72|\n",
      "|DEPARTMENT OF LIB...|     4000.0|\n",
      "|S. W. OKLA. ST. U...|   11073.09|\n",
      "|DEPARTMENT OF EME...|     1166.0|\n",
      "|OKLAHOMA MILITARY...|  183367.94|\n",
      "| COMPSOURCE OKLAHOMA|     4995.0|\n",
      "|COUNCIL ON LAW EN...|    4547.92|\n",
      "|MULTIPLE INJURY T...|      200.0|\n",
      "|MERIT PROTECTION ...|     2550.0|\n",
      "|OKLAHOMA ABSTRACT...|      405.3|\n",
      "|SPEECH-LANGUAGE P...|      418.7|\n",
      "|     STATE TREASURER|     4875.0|\n",
      "|OFFICE OF THE CHI...|     6110.0|\n",
      "|  HISTORICAL SOCIETY|    90108.0|\n",
      "|OK. LAW ENFORCE. ...|    7063.03|\n",
      "|DEPARTMENT OF VET...|   12395.03|\n",
      "|CONSERVATION COMM...|     4520.0|\n",
      "+--------------------+-----------+\n",
      "only showing top 20 rows\n",
      "\n"
     ]
    }
   ],
   "source": [
    "amountUpdated.groupBy('Agency Name').max().show()"
   ]
  },
  {
   "cell_type": "code",
   "execution_count": null,
   "metadata": {
    "colab": {
     "base_uri": "https://localhost:8080/"
    },
    "id": "I9-GoCzjWj3H",
    "outputId": "8dbeba3d-eed5-490f-a115-fbfecb8946e6"
   },
   "outputs": [
    {
     "name": "stdout",
     "output_type": "stream",
     "text": [
      "+--------------------+------------------+\n",
      "|         Agency Name|       sum(Amount)|\n",
      "+--------------------+------------------+\n",
      "|BOLL WEEVIL ERADI...|  18689.0999147892|\n",
      "|   ROSE STATE COLEGE| 233808.7006199453|\n",
      "|EMPLOYMENT SECURI...| 416517.2709596157|\n",
      "|DEPARTMENT OF TOU...| 5971885.291795868|\n",
      "|DEPARTMENT OF LIB...| 179487.1599612832|\n",
      "|S. W. OKLA. ST. U...| 1423548.999507472|\n",
      "|DEPARTMENT OF EME...|36901.420070409775|\n",
      "|OKLAHOMA MILITARY...|3697283.2271535005|\n",
      "| COMPSOURCE OKLAHOMA|351460.51985532045|\n",
      "|COUNCIL ON LAW EN...|189667.93968850374|\n",
      "|MULTIPLE INJURY T...| 533.8300008773804|\n",
      "|MERIT PROTECTION ...| 7984.070019245148|\n",
      "|OKLAHOMA ABSTRACT...|1821.1800107955933|\n",
      "|SPEECH-LANGUAGE P...| 4198.130038261414|\n",
      "|     STATE TREASURER| 84117.73010754585|\n",
      "|OFFICE OF THE CHI...| 177640.0004287809|\n",
      "|  HISTORICAL SOCIETY|1587215.1306678057|\n",
      "|OK. LAW ENFORCE. ...|  33194.2096862793|\n",
      "|DEPARTMENT OF VET...| 4242096.650280096|\n",
      "|CONSERVATION COMM...| 166412.8598972559|\n",
      "+--------------------+------------------+\n",
      "only showing top 20 rows\n",
      "\n"
     ]
    }
   ],
   "source": [
    "amountUpdated.groupBy('Agency Name').sum().show()"
   ]
  },
  {
   "cell_type": "code",
   "execution_count": null,
   "metadata": {
    "colab": {
     "base_uri": "https://localhost:8080/"
    },
    "id": "JdZsvE0DWTZf",
    "outputId": "9f107cab-593f-483f-bb7a-da2c887e86e0"
   },
   "outputs": [
    {
     "name": "stdout",
     "output_type": "stream",
     "text": [
      "+--------------------+------------------+\n",
      "|         Agency Name|       sum(Amount)|\n",
      "+--------------------+------------------+\n",
      "|BOLL WEEVIL ERADI...|  18689.0999147892|\n",
      "|   ROSE STATE COLEGE| 233808.7006199453|\n",
      "|EMPLOYMENT SECURI...| 416517.2709596157|\n",
      "|DEPARTMENT OF TOU...| 5971885.291795868|\n",
      "|DEPARTMENT OF LIB...| 179487.1599612832|\n",
      "|S. W. OKLA. ST. U...| 1423548.999507472|\n",
      "|DEPARTMENT OF EME...|36901.420070409775|\n",
      "|OKLAHOMA MILITARY...|3697283.2271535005|\n",
      "| COMPSOURCE OKLAHOMA|351460.51985532045|\n",
      "|COUNCIL ON LAW EN...|189667.93968850374|\n",
      "|MULTIPLE INJURY T...| 533.8300008773804|\n",
      "|MERIT PROTECTION ...| 7984.070019245148|\n",
      "|OKLAHOMA ABSTRACT...|1821.1800107955933|\n",
      "|SPEECH-LANGUAGE P...| 4198.130038261414|\n",
      "|     STATE TREASURER| 84117.73010754585|\n",
      "|OFFICE OF THE CHI...| 177640.0004287809|\n",
      "|  HISTORICAL SOCIETY|1587215.1306678057|\n",
      "|OK. LAW ENFORCE. ...|  33194.2096862793|\n",
      "|DEPARTMENT OF VET...| 4242096.650280096|\n",
      "|CONSERVATION COMM...| 166412.8598972559|\n",
      "+--------------------+------------------+\n",
      "only showing top 20 rows\n",
      "\n"
     ]
    }
   ],
   "source": [
    "agency_groups = amountUpdated.groupBy('Agency Name')\n",
    "agency_groups.agg({'Amount':'Sum'}).show()"
   ]
  },
  {
   "cell_type": "code",
   "execution_count": null,
   "metadata": {
    "colab": {
     "base_uri": "https://localhost:8080/"
    },
    "id": "-nJDZ4-AX7hr",
    "outputId": "378d514e-fdb0-4cc3-9345-8b947bd8b921"
   },
   "outputs": [
    {
     "name": "stdout",
     "output_type": "stream",
     "text": [
      "+--------------------+------------------+\n",
      "|         Agency Name|       avg(Amount)|\n",
      "+--------------------+------------------+\n",
      "|BOLL WEEVIL ERADI...|109.93588185170117|\n",
      "|   ROSE STATE COLEGE|285.48070893766214|\n",
      "|EMPLOYMENT SECURI...| 355.3901629348257|\n",
      "|DEPARTMENT OF TOU...|346.55787440783826|\n",
      "|DEPARTMENT OF LIB...|201.21878919426368|\n",
      "|S. W. OKLA. ST. U...|190.11071040430983|\n",
      "|DEPARTMENT OF EME...|239.61961084681673|\n",
      "|OKLAHOMA MILITARY...| 651.0447661830428|\n",
      "| COMPSOURCE OKLAHOMA|224.43200501616886|\n",
      "|COUNCIL ON LAW EN...| 352.5426388262151|\n",
      "|MULTIPLE INJURY T...| 66.72875010967255|\n",
      "|MERIT PROTECTION ...|469.65117760265576|\n",
      "|OKLAHOMA ABSTRACT...|182.11800107955932|\n",
      "|SPEECH-LANGUAGE P...|31.097259542677136|\n",
      "|     STATE TREASURER| 364.1460177815838|\n",
      "|OFFICE OF THE CHI...|355.28000085756184|\n",
      "|  HISTORICAL SOCIETY| 550.3519870554111|\n",
      "|OK. LAW ENFORCE. ...| 349.4127335397821|\n",
      "|DEPARTMENT OF VET...| 550.3498508406974|\n",
      "|CONSERVATION COMM...|263.31148717920235|\n",
      "+--------------------+------------------+\n",
      "only showing top 20 rows\n",
      "\n"
     ]
    }
   ],
   "source": [
    "agency_groups.agg({'Amount':'Avg'}).show()"
   ]
  },
  {
   "cell_type": "code",
   "execution_count": null,
   "metadata": {
    "colab": {
     "base_uri": "https://localhost:8080/"
    },
    "id": "Yd_-i2LYYE_O",
    "outputId": "58f27d84-cf51-4b69-a383-11c26e592c19"
   },
   "outputs": [
    {
     "name": "stdout",
     "output_type": "stream",
     "text": [
      "+--------------------+-------------+\n",
      "|         Agency Name|count(Amount)|\n",
      "+--------------------+-------------+\n",
      "|BOLL WEEVIL ERADI...|          170|\n",
      "|   ROSE STATE COLEGE|          819|\n",
      "|EMPLOYMENT SECURI...|         1172|\n",
      "|DEPARTMENT OF TOU...|        17232|\n",
      "|DEPARTMENT OF LIB...|          892|\n",
      "|S. W. OKLA. ST. U...|         7488|\n",
      "|DEPARTMENT OF EME...|          154|\n",
      "|OKLAHOMA MILITARY...|         5679|\n",
      "| COMPSOURCE OKLAHOMA|         1566|\n",
      "|COUNCIL ON LAW EN...|          538|\n",
      "|MULTIPLE INJURY T...|            8|\n",
      "|MERIT PROTECTION ...|           17|\n",
      "|OKLAHOMA ABSTRACT...|           10|\n",
      "|SPEECH-LANGUAGE P...|          135|\n",
      "|     STATE TREASURER|          231|\n",
      "|OFFICE OF THE CHI...|          500|\n",
      "|  HISTORICAL SOCIETY|         2884|\n",
      "|OK. LAW ENFORCE. ...|           95|\n",
      "|DEPARTMENT OF VET...|         7708|\n",
      "|CONSERVATION COMM...|          632|\n",
      "+--------------------+-------------+\n",
      "only showing top 20 rows\n",
      "\n"
     ]
    }
   ],
   "source": [
    "agency_groups.agg({'Amount':'count'}).show()"
   ]
  },
  {
   "cell_type": "code",
   "execution_count": null,
   "metadata": {
    "colab": {
     "base_uri": "https://localhost:8080/"
    },
    "id": "P271-VziYVHE",
    "outputId": "32fd04ec-7f17-4f29-c93f-b4dbbc84460f"
   },
   "outputs": [
    {
     "name": "stdout",
     "output_type": "stream",
     "text": [
      "+--------------------+-----------+\n",
      "|CardHolder Last Name|max(Amount)|\n",
      "+--------------------+-----------+\n",
      "|           Fairbanks|    3310.23|\n",
      "|           Worcester|       6.97|\n",
      "|              Eppler|     235.98|\n",
      "|               Abner|     1380.6|\n",
      "|               Tyler|     3939.5|\n",
      "|                Silk|     3288.0|\n",
      "|             Mudgett|     2342.0|\n",
      "|             JOHNSON|  103101.57|\n",
      "|              Grimes|     2000.0|\n",
      "|               Roach|   17118.46|\n",
      "|             Custard|    1195.01|\n",
      "|            Rawlings|    5400.75|\n",
      "|              ARNETT|     4995.0|\n",
      "|           BARKSDALE|      680.0|\n",
      "|                  XU|     2970.0|\n",
      "|            HOWERTON|    3508.46|\n",
      "|           MCCANLIES|   31279.29|\n",
      "|              HUNTER|      890.0|\n",
      "|              GILROY|    2476.95|\n",
      "|            Callaham|     3775.0|\n",
      "+--------------------+-----------+\n",
      "only showing top 20 rows\n",
      "\n"
     ]
    }
   ],
   "source": [
    "lastname_groups = amountUpdated.groupBy('CardHolder Last Name')\n",
    "lastname_groups.agg({'Amount':'Max'}).show()"
   ]
  },
  {
   "cell_type": "code",
   "execution_count": null,
   "metadata": {
    "colab": {
     "base_uri": "https://localhost:8080/"
    },
    "id": "xf9GaATqYs6q",
    "outputId": "ef6b9435-810f-44db-c0ee-a96c6cda3769"
   },
   "outputs": [
    {
     "name": "stdout",
     "output_type": "stream",
     "text": [
      "+--------------------+------------------+\n",
      "|CardHolder Last Name|       avg(Amount)|\n",
      "+--------------------+------------------+\n",
      "|           Fairbanks|441.81742568697246|\n",
      "|           Worcester| 5.734999895095825|\n",
      "|              Eppler|53.098823252846216|\n",
      "|               Abner| 178.2785699026925|\n",
      "|               Tyler| 435.9507018306799|\n",
      "|                Silk| 293.2611743702608|\n",
      "|             Mudgett| 187.5479070086812|\n",
      "|             JOHNSON| 421.0230957194851|\n",
      "|              Grimes|398.16411837409527|\n",
      "|               Roach| 737.5033726484879|\n",
      "|             Custard|234.92732082520212|\n",
      "|            Rawlings|498.77307654619216|\n",
      "|              ARNETT|289.10142089865707|\n",
      "|           BARKSDALE| 133.1273700814498|\n",
      "|                  XU|  455.950713865611|\n",
      "|            HOWERTON|398.45714359493047|\n",
      "|           MCCANLIES|  1878.50646034409|\n",
      "|              HUNTER|   249.97571345738|\n",
      "|              GILROY|246.38892486531248|\n",
      "|            Callaham| 401.3934002552392|\n",
      "+--------------------+------------------+\n",
      "only showing top 20 rows\n",
      "\n"
     ]
    }
   ],
   "source": [
    "lastname_groups.agg({'Amount':'Avg'}).show()"
   ]
  }
 ],
 "metadata": {
  "colab": {
   "collapsed_sections": [],
   "name": "PCardTransactions.ipynb",
   "provenance": []
  },
  "kernelspec": {
   "display_name": "Python 3",
   "language": "python",
   "name": "python3"
  },
  "language_info": {
   "codemirror_mode": {
    "name": "ipython",
    "version": 3
   },
   "file_extension": ".py",
   "mimetype": "text/x-python",
   "name": "python",
   "nbconvert_exporter": "python",
   "pygments_lexer": "ipython3",
   "version": "3.7.4"
  }
 },
 "nbformat": 4,
 "nbformat_minor": 1
}
