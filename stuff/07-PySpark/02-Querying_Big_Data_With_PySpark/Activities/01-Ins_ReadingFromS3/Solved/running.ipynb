{
 "cells": [
  {
   "cell_type": "code",
   "execution_count": null,
   "metadata": {
    "colab": {
     "base_uri": "https://localhost:8080/"
    },
    "id": "XTc61chZZy5F",
    "outputId": "5fb51f15-cdbe-4d56-e722-1ed72b6b1c72"
   },
   "outputs": [
    {
     "name": "stdout",
     "output_type": "stream",
     "text": [
      "\r",
      "0% [Working]\r",
      "            \r",
      "Ign:1 https://developer.download.nvidia.com/compute/cuda/repos/ubuntu1804/x86_64  InRelease\n",
      "\r",
      "0% [Connecting to archive.ubuntu.com (91.189.88.142)] [Connecting to security.u\r",
      "                                                                               \r",
      "Get:2 https://cloud.r-project.org/bin/linux/ubuntu bionic-cran40/ InRelease [3,626 B]\n",
      "\r",
      "0% [Connecting to archive.ubuntu.com (91.189.88.142)] [Waiting for headers] [2 \r",
      "0% [Connecting to archive.ubuntu.com (91.189.88.142)] [Waiting for headers] [Wa\r",
      "                                                                               \r",
      "Ign:3 https://developer.download.nvidia.com/compute/machine-learning/repos/ubuntu1804/x86_64  InRelease\n",
      "\r",
      "0% [Connecting to archive.ubuntu.com (91.189.88.142)] [Waiting for headers] [Wa\r",
      "0% [2 InRelease gpgv 3,626 B] [Connecting to archive.ubuntu.com (91.189.88.142)\r",
      "                                                                               \r",
      "Hit:4 https://developer.download.nvidia.com/compute/cuda/repos/ubuntu1804/x86_64  Release\n",
      "\r",
      "0% [2 InRelease gpgv 3,626 B] [Connecting to archive.ubuntu.com (91.189.88.142)\r",
      "                                                                               \r",
      "Hit:5 https://developer.download.nvidia.com/compute/machine-learning/repos/ubuntu1804/x86_64  Release\n",
      "\r",
      "0% [2 InRelease gpgv 3,626 B] [Connecting to archive.ubuntu.com (91.189.88.142)\r",
      "                                                                               \r",
      "Get:6 http://security.ubuntu.com/ubuntu bionic-security InRelease [88.7 kB]\n",
      "Get:7 http://ppa.launchpad.net/c2d4u.team/c2d4u4.0+/ubuntu bionic InRelease [15.9 kB]\n",
      "Hit:8 http://archive.ubuntu.com/ubuntu bionic InRelease\n",
      "Get:9 http://archive.ubuntu.com/ubuntu bionic-updates InRelease [88.7 kB]\n",
      "Get:10 https://cloud.r-project.org/bin/linux/ubuntu bionic-cran40/ Packages [45.4 kB]\n",
      "Hit:11 http://ppa.launchpad.net/cran/libgit2/ubuntu bionic InRelease\n",
      "Hit:13 http://ppa.launchpad.net/graphics-drivers/ppa/ubuntu bionic InRelease\n",
      "Get:14 http://archive.ubuntu.com/ubuntu bionic-backports InRelease [74.6 kB]\n",
      "Get:16 http://ppa.launchpad.net/c2d4u.team/c2d4u4.0+/ubuntu bionic/main Sources [1,732 kB]\n",
      "Get:17 http://security.ubuntu.com/ubuntu bionic-security/universe amd64 Packages [1,391 kB]\n",
      "Get:18 http://archive.ubuntu.com/ubuntu bionic-updates/universe amd64 Packages [2,162 kB]\n",
      "Get:19 http://security.ubuntu.com/ubuntu bionic-security/main amd64 Packages [1,929 kB]\n",
      "Get:20 http://ppa.launchpad.net/c2d4u.team/c2d4u4.0+/ubuntu bionic/main amd64 Packages [886 kB]\n",
      "Get:21 http://archive.ubuntu.com/ubuntu bionic-updates/main amd64 Packages [2,360 kB]\n",
      "Fetched 10.8 MB in 3s (3,222 kB/s)\n",
      "Reading package lists... Done\n"
     ]
    }
   ],
   "source": [
    "import os\n",
    "# Find the latest version of spark 3.0  from http://www-us.apache.org/dist/spark/ and enter as the spark version\n",
    "# For example:\n",
    "# spark_version = 'spark-3.0.2'\n",
    "spark_version = 'spark-3.<INSERT_VERSION>'\n",
    "os.environ['SPARK_VERSION']=spark_version\n",
    "\n",
    "# Install Spark and Java\n",
    "!apt-get update\n",
    "!apt-get install openjdk-11-jdk-headless -qq > /dev/null\n",
    "!wget -q http://www-us.apache.org/dist/spark/$SPARK_VERSION/$SPARK_VERSION-bin-hadoop2.7.tgz\n",
    "!tar xf $SPARK_VERSION-bin-hadoop2.7.tgz\n",
    "!pip install -q findspark\n",
    "\n",
    "# Set Environment Variables\n",
    "os.environ[\"JAVA_HOME\"] = \"/usr/lib/jvm/java-11-openjdk-amd64\"\n",
    "os.environ[\"SPARK_HOME\"] = f\"/content/{spark_version}-bin-hadoop2.7\"\n",
    "\n",
    "# Start a SparkSession\n",
    "import findspark\n",
    "findspark.init()"
   ]
  },
  {
   "cell_type": "code",
   "execution_count": null,
   "metadata": {
    "id": "fz9FFdrHB6TO"
   },
   "outputs": [],
   "source": [
    "# Start Spark session\n",
    "from pyspark.sql import SparkSession\n",
    "spark = SparkSession.builder.appName(\"Running\").getOrCreate()"
   ]
  },
  {
   "cell_type": "code",
   "execution_count": null,
   "metadata": {
    "colab": {
     "base_uri": "https://localhost:8080/"
    },
    "id": "fJ8AzEZdZvuX",
    "outputId": "9c293099-490d-4da1-d3fc-f7fd97dccb6d"
   },
   "outputs": [
    {
     "name": "stdout",
     "output_type": "stream",
     "text": [
      "+----+---------------+---------------+-------+-------------+-----+--------------+----------+------+-----+\n",
      "|Rank|           Time|           Name|Country|Date of Birth|Place|          City|      Date|Gender|Event|\n",
      "+----+---------------+---------------+-------+-------------+-----+--------------+----------+------+-----+\n",
      "|   1|00:01:40.910000|  David Rudisha|    KEN|   1988-12-17|    1|        London|2012-09-08|   Men|800 m|\n",
      "|   2|00:01:41.010000|  David Rudisha|    KEN|   1988-12-17|    1|         Rieti|2010-08-29|   Men|800 m|\n",
      "|   3|00:01:41.090000|  David Rudisha|    KEN|   1988-12-17|    1|        Berlin|2010-08-22|   Men|800 m|\n",
      "|   4|00:01:41.110000|Wilson Kipketer|    DEN|   1970-12-12|    1|          Köln|1997-08-24|   Men|800 m|\n",
      "|   5|00:01:41.240000|Wilson Kipketer|    DEN|   1970-12-12|    1|        Zürich|1997-08-13|   Men|800 m|\n",
      "|   6|00:01:41.330000|  David Rudisha|    KEN|   1988-12-17|    1|         Rieti|2011-10-09|   Men|800 m|\n",
      "|   7|00:01:41.510000|  David Rudisha|    KEN|   1988-12-17|    1|Heusden-Zolder|2010-10-07|   Men|800 m|\n",
      "|   8|00:01:41.540000|  David Rudisha|    KEN|   1988-12-17|    1|   Saint-Denis|2012-06-07|   Men|800 m|\n",
      "|   9|00:01:41.730000|  Sebastian Coe|    GBR|   1956-09-29|    1|       Firenze|1981-10-06|   Men|800 m|\n",
      "|   9|00:01:41.730000|Wilson Kipketer|    DEN|   1970-12-12|    1|     Stockholm|1997-07-07|   Men|800 m|\n",
      "|   9|00:01:41.730000|     Nijel Amos|    BOT|   1994-03-15|    2|        London|2012-09-08|   Men|800 m|\n",
      "|  12|00:01:41.740000|  David Rudisha|    KEN|   1988-12-17|    1| New York City|2012-09-06|   Men|800 m|\n",
      "|  13|00:01:41.770000|   Joaquim Cruz|    BRA|   1963-03-12|    1|          Köln|1984-08-26|   Men|800 m|\n",
      "|  14|00:01:41.830000|Wilson Kipketer|    DEN|   1970-12-12|    1|         Rieti|1996-01-09|   Men|800 m|\n",
      "|  15|00:01:42.010000|  David Rudisha|    KEN|   1988-12-17|    1|         Rieti|2009-06-09|   Men|800 m|\n",
      "|  16|00:01:42.040000|  David Rudisha|    KEN|   1988-12-17|    1|          Oslo|2010-04-06|   Men|800 m|\n",
      "|  17|00:01:42.120000|  David Rudisha|    KEN|   1988-12-17|    1|       Nairobi|2012-06-23|   Men|800 m|\n",
      "|  18|00:01:42.150000|  David Rudisha|    KEN|   1988-12-17|    1|Rio de Janeiro|2016-08-15|   Men|800 m|\n",
      "|  19|00:01:42.170000|Wilson Kipketer|    DEN|   1970-12-12|    1|         Tokyo|1996-09-16|   Men|800 m|\n",
      "|  20|00:01:42.200000|Wilson Kipketer|    DEN|   1970-12-12|    1|     Bruxelles|1997-08-22|   Men|800 m|\n",
      "+----+---------------+---------------+-------+-------------+-----+--------------+----------+------+-----+\n",
      "only showing top 20 rows\n",
      "\n"
     ]
    }
   ],
   "source": [
    "# Read in data from S3 Buckets\n",
    "from pyspark import SparkFiles\n",
    "url = \"https://2u-data-curriculum-team.s3.amazonaws.com/dataviz-netflix/unit-7/running.csv\"\n",
    "spark.sparkContext.addFile(url)\n",
    "df = spark.read.csv(SparkFiles.get(\"running.csv\"), sep=\",\", header=True)\n",
    "\n",
    "# Show DataFrame\n",
    "df.show()"
   ]
  }
 ],
 "metadata": {
  "anaconda-cloud": {},
  "colab": {
   "collapsed_sections": [],
   "name": "running.ipynb",
   "provenance": []
  },
  "kernelspec": {
   "display_name": "Python 3",
   "language": "python",
   "name": "python3"
  },
  "language_info": {
   "codemirror_mode": {
    "name": "ipython",
    "version": 3
   },
   "file_extension": ".py",
   "mimetype": "text/x-python",
   "name": "python",
   "nbconvert_exporter": "python",
   "pygments_lexer": "ipython3",
   "version": "3.7.4"
  },
  "varInspector": {
   "cols": {
    "lenName": 16,
    "lenType": 16,
    "lenVar": 40
   },
   "kernels_config": {
    "python": {
     "delete_cmd_postfix": "",
     "delete_cmd_prefix": "del ",
     "library": "var_list.py",
     "varRefreshCmd": "print(var_dic_list())"
    },
    "r": {
     "delete_cmd_postfix": ") ",
     "delete_cmd_prefix": "rm(",
     "library": "var_list.r",
     "varRefreshCmd": "cat(var_dic_list()) "
    }
   },
   "types_to_exclude": [
    "module",
    "function",
    "builtin_function_or_method",
    "instance",
    "_Feature"
   ],
   "window_display": false
  }
 },
 "nbformat": 4,
 "nbformat_minor": 1
}
