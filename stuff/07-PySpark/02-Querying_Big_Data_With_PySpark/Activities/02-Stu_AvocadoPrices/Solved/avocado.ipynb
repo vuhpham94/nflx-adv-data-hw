{
 "cells": [
  {
   "cell_type": "code",
   "execution_count": null,
   "metadata": {
    "colab": {
     "base_uri": "https://localhost:8080/"
    },
    "id": "XTc61chZZy5F",
    "outputId": "a5d899c9-8c4a-4ea9-ce2e-58ab613ebf92"
   },
   "outputs": [
    {
     "name": "stdout",
     "output_type": "stream",
     "text": [
      "Get:1 https://cloud.r-project.org/bin/linux/ubuntu bionic-cran40/ InRelease [3,626 B]\n",
      "Ign:2 https://developer.download.nvidia.com/compute/cuda/repos/ubuntu1804/x86_64  InRelease\n",
      "Get:3 https://cloud.r-project.org/bin/linux/ubuntu bionic-cran40/ Packages [45.4 kB]\n",
      "Ign:4 https://developer.download.nvidia.com/compute/machine-learning/repos/ubuntu1804/x86_64  InRelease\n",
      "Hit:5 https://developer.download.nvidia.com/compute/cuda/repos/ubuntu1804/x86_64  Release\n",
      "Hit:6 https://developer.download.nvidia.com/compute/machine-learning/repos/ubuntu1804/x86_64  Release\n",
      "Get:7 http://security.ubuntu.com/ubuntu bionic-security InRelease [88.7 kB]\n",
      "Get:9 http://ppa.launchpad.net/c2d4u.team/c2d4u4.0+/ubuntu bionic InRelease [15.9 kB]\n",
      "Hit:10 http://archive.ubuntu.com/ubuntu bionic InRelease\n",
      "Get:12 http://archive.ubuntu.com/ubuntu bionic-updates InRelease [88.7 kB]\n",
      "Hit:13 http://ppa.launchpad.net/cran/libgit2/ubuntu bionic InRelease\n",
      "Get:14 http://security.ubuntu.com/ubuntu bionic-security/universe amd64 Packages [1,391 kB]\n",
      "Get:15 http://archive.ubuntu.com/ubuntu bionic-backports InRelease [74.6 kB]\n",
      "Hit:16 http://ppa.launchpad.net/graphics-drivers/ppa/ubuntu bionic InRelease\n",
      "Get:17 http://archive.ubuntu.com/ubuntu bionic-updates/main amd64 Packages [2,360 kB]\n",
      "Get:18 http://ppa.launchpad.net/c2d4u.team/c2d4u4.0+/ubuntu bionic/main Sources [1,732 kB]\n",
      "Get:19 http://security.ubuntu.com/ubuntu bionic-security/main amd64 Packages [1,929 kB]\n",
      "Get:20 http://archive.ubuntu.com/ubuntu bionic-updates/universe amd64 Packages [2,162 kB]\n",
      "Get:21 http://ppa.launchpad.net/c2d4u.team/c2d4u4.0+/ubuntu bionic/main amd64 Packages [886 kB]\n",
      "Fetched 10.8 MB in 6s (1,837 kB/s)\n",
      "Reading package lists... Done\n"
     ]
    }
   ],
   "source": [
    "import os\n",
    "# Find the latest version of spark 3.0  from http://www-us.apache.org/dist/spark/ and enter as the spark version\n",
    "# For example:\n",
    "# spark_version = 'spark-3.0.2'\n",
    "spark_version = 'spark-3.<INSERT_VERSION>'\n",
    "os.environ['SPARK_VERSION']=spark_version\n",
    "\n",
    "# Install Spark and Java\n",
    "!apt-get update\n",
    "!apt-get install openjdk-11-jdk-headless -qq > /dev/null\n",
    "!wget -q http://www-us.apache.org/dist/spark/$SPARK_VERSION/$SPARK_VERSION-bin-hadoop2.7.tgz\n",
    "!tar xf $SPARK_VERSION-bin-hadoop2.7.tgz\n",
    "!pip install -q findspark\n",
    "\n",
    "# Set Environment Variables\n",
    "os.environ[\"JAVA_HOME\"] = \"/usr/lib/jvm/java-11-openjdk-amd64\"\n",
    "os.environ[\"SPARK_HOME\"] = f\"/content/{spark_version}-bin-hadoop2.7\"\n",
    "\n",
    "# Start a SparkSession\n",
    "import findspark\n",
    "findspark.init()"
   ]
  },
  {
   "cell_type": "code",
   "execution_count": null,
   "metadata": {
    "id": "fz9FFdrHB6TO"
   },
   "outputs": [],
   "source": [
    "# Start Spark session\n",
    "from pyspark.sql import SparkSession\n",
    "spark = SparkSession.builder.appName(\"Avocado Prices\").getOrCreate()"
   ]
  },
  {
   "cell_type": "code",
   "execution_count": null,
   "metadata": {
    "colab": {
     "base_uri": "https://localhost:8080/"
    },
    "id": "fJ8AzEZdZvuX",
    "outputId": "3de6f355-4cc8-47ff-d018-10e6be9c26f9"
   },
   "outputs": [
    {
     "name": "stdout",
     "output_type": "stream",
     "text": [
      "+---+----------+------------+------------+-------+---------+------+----------+----------+----------+-----------+------------+----+------+\n",
      "|_c0|      Date|AveragePrice|Total Volume|   4046|     4225|  4770|Total Bags|Small Bags|Large Bags|XLarge Bags|        type|year|region|\n",
      "+---+----------+------------+------------+-------+---------+------+----------+----------+----------+-----------+------------+----+------+\n",
      "|  0|2015-12-27|        1.33|    64236.62|1036.74| 54454.85| 48.16|   8696.87|   8603.62|     93.25|        0.0|conventional|2015|Albany|\n",
      "|  1|2015-12-20|        1.35|    54876.98| 674.28| 44638.81| 58.33|   9505.56|   9408.07|     97.49|        0.0|conventional|2015|Albany|\n",
      "|  2|2015-12-13|        0.93|   118220.22|  794.7|109149.67| 130.5|   8145.35|   8042.21|    103.14|        0.0|conventional|2015|Albany|\n",
      "|  3|2015-12-06|        1.08|    78992.15| 1132.0| 71976.41| 72.58|   5811.16|    5677.4|    133.76|        0.0|conventional|2015|Albany|\n",
      "|  4|2015-11-29|        1.28|     51039.6| 941.48| 43838.39| 75.78|   6183.95|   5986.26|    197.69|        0.0|conventional|2015|Albany|\n",
      "|  5|2015-11-22|        1.26|    55979.78|1184.27| 48067.99| 43.61|   6683.91|   6556.47|    127.44|        0.0|conventional|2015|Albany|\n",
      "|  6|2015-11-15|        0.99|    83453.76|1368.92| 73672.72| 93.26|   8318.86|   8196.81|    122.05|        0.0|conventional|2015|Albany|\n",
      "|  7|2015-11-08|        0.98|   109428.33| 703.75|101815.36|  80.0|   6829.22|   6266.85|    562.37|        0.0|conventional|2015|Albany|\n",
      "|  8|2015-11-01|        1.02|    99811.42|1022.15| 87315.57| 85.34|  11388.36|  11104.53|    283.83|        0.0|conventional|2015|Albany|\n",
      "|  9|2015-10-25|        1.07|    74338.76|  842.4| 64757.44| 113.0|   8625.92|   8061.47|    564.45|        0.0|conventional|2015|Albany|\n",
      "| 10|2015-10-18|        1.12|    84843.44| 924.86| 75595.85|117.07|   8205.66|   7877.86|     327.8|        0.0|conventional|2015|Albany|\n",
      "| 11|2015-10-11|        1.28|    64489.17|1582.03| 52677.92|105.32|   10123.9|   9866.27|    257.63|        0.0|conventional|2015|Albany|\n",
      "| 12|2015-10-04|        1.31|     61007.1|2268.32| 49880.67|101.36|   8756.75|   8379.98|    376.77|        0.0|conventional|2015|Albany|\n",
      "| 13|2015-09-27|        0.99|   106803.39|1204.88| 99409.21|154.84|   6034.46|   5888.87|    145.59|        0.0|conventional|2015|Albany|\n",
      "| 14|2015-09-20|        1.33|    69759.01|1028.03| 59313.12| 150.5|   9267.36|    8489.1|    778.26|        0.0|conventional|2015|Albany|\n",
      "| 15|2015-09-13|        1.28|    76111.27| 985.73| 65696.86| 142.0|   9286.68|   8665.19|    621.49|        0.0|conventional|2015|Albany|\n",
      "| 16|2015-09-06|        1.11|    99172.96| 879.45| 90062.62|240.79|    7990.1|   7762.87|    227.23|        0.0|conventional|2015|Albany|\n",
      "| 17|2015-08-30|        1.07|   105693.84| 689.01| 94362.67|335.43|  10306.73|  10218.93|      87.8|        0.0|conventional|2015|Albany|\n",
      "| 18|2015-08-23|        1.34|    79992.09| 733.16| 67933.79|444.78|  10880.36|  10745.79|    134.57|        0.0|conventional|2015|Albany|\n",
      "| 19|2015-08-16|        1.33|    80043.78| 539.65| 68666.01| 394.9|  10443.22|  10297.68|    145.54|        0.0|conventional|2015|Albany|\n",
      "+---+----------+------------+------------+-------+---------+------+----------+----------+----------+-----------+------------+----+------+\n",
      "only showing top 20 rows\n",
      "\n"
     ]
    }
   ],
   "source": [
    "# Read in data from S3 Buckets\n",
    "from pyspark import SparkFiles\n",
    "url = \"https://2u-data-curriculum-team.s3.amazonaws.com/dataviz-netflix/unit-7/avocado.csv\"\n",
    "spark.sparkContext.addFile(url)\n",
    "df = spark.read.csv(SparkFiles.get(\"avocado.csv\"), sep=\",\", header=True)\n",
    "\n",
    "# Show DataFrame\n",
    "df.show()"
   ]
  }
 ],
 "metadata": {
  "anaconda-cloud": {},
  "colab": {
   "collapsed_sections": [],
   "name": "avocado.ipynb",
   "provenance": []
  },
  "kernelspec": {
   "display_name": "Python 3",
   "language": "python",
   "name": "python3"
  },
  "language_info": {
   "codemirror_mode": {
    "name": "ipython",
    "version": 3
   },
   "file_extension": ".py",
   "mimetype": "text/x-python",
   "name": "python",
   "nbconvert_exporter": "python",
   "pygments_lexer": "ipython3",
   "version": "3.7.4"
  },
  "varInspector": {
   "cols": {
    "lenName": 16,
    "lenType": 16,
    "lenVar": 40
   },
   "kernels_config": {
    "python": {
     "delete_cmd_postfix": "",
     "delete_cmd_prefix": "del ",
     "library": "var_list.py",
     "varRefreshCmd": "print(var_dic_list())"
    },
    "r": {
     "delete_cmd_postfix": ") ",
     "delete_cmd_prefix": "rm(",
     "library": "var_list.r",
     "varRefreshCmd": "cat(var_dic_list()) "
    }
   },
   "types_to_exclude": [
    "module",
    "function",
    "builtin_function_or_method",
    "instance",
    "_Feature"
   ],
   "window_display": false
  }
 },
 "nbformat": 4,
 "nbformat_minor": 1
}
