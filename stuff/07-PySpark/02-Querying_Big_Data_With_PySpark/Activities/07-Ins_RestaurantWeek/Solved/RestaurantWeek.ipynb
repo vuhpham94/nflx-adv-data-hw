{
 "cells": [
  {
   "cell_type": "code",
   "execution_count": null,
   "metadata": {
    "colab": {
     "base_uri": "https://localhost:8080/"
    },
    "id": "XTc61chZZy5F",
    "outputId": "63d1d7fa-a2b5-4d8e-f894-9a1b16d0366c"
   },
   "outputs": [
    {
     "name": "stdout",
     "output_type": "stream",
     "text": [
      "\r",
      "0% [Working]\r",
      "            \r",
      "Get:1 https://cloud.r-project.org/bin/linux/ubuntu bionic-cran40/ InRelease [3,626 B]\n",
      "\r",
      "0% [Connecting to archive.ubuntu.com (91.189.88.152)] [Connecting to security.u\r",
      "0% [Connecting to archive.ubuntu.com (91.189.88.152)] [Connecting to security.u\r",
      "0% [1 InRelease gpgv 3,626 B] [Connecting to archive.ubuntu.com (91.189.88.152)\r",
      "                                                                               \r",
      "Ign:2 https://developer.download.nvidia.com/compute/cuda/repos/ubuntu1804/x86_64  InRelease\n",
      "\r",
      "0% [1 InRelease gpgv 3,626 B] [Connecting to archive.ubuntu.com (91.189.88.152)\r",
      "                                                                               \r",
      "Ign:3 https://developer.download.nvidia.com/compute/machine-learning/repos/ubuntu1804/x86_64  InRelease\n",
      "\r",
      "0% [1 InRelease gpgv 3,626 B] [Connecting to archive.ubuntu.com (91.189.88.152)\r",
      "                                                                               \r",
      "Hit:4 https://developer.download.nvidia.com/compute/cuda/repos/ubuntu1804/x86_64  Release\n",
      "Hit:5 https://developer.download.nvidia.com/compute/machine-learning/repos/ubuntu1804/x86_64  Release\n",
      "Hit:6 http://archive.ubuntu.com/ubuntu bionic InRelease\n",
      "Get:7 http://security.ubuntu.com/ubuntu bionic-security InRelease [88.7 kB]\n",
      "Get:8 http://archive.ubuntu.com/ubuntu bionic-updates InRelease [88.7 kB]\n",
      "Get:9 http://ppa.launchpad.net/c2d4u.team/c2d4u4.0+/ubuntu bionic InRelease [15.9 kB]\n",
      "Hit:12 http://ppa.launchpad.net/cran/libgit2/ubuntu bionic InRelease\n",
      "Get:13 http://archive.ubuntu.com/ubuntu bionic-backports InRelease [74.6 kB]\n",
      "Hit:14 http://ppa.launchpad.net/graphics-drivers/ppa/ubuntu bionic InRelease\n",
      "Get:15 http://security.ubuntu.com/ubuntu bionic-security/main amd64 Packages [1,929 kB]\n",
      "Get:16 http://ppa.launchpad.net/c2d4u.team/c2d4u4.0+/ubuntu bionic/main Sources [1,732 kB]\n",
      "Get:17 http://security.ubuntu.com/ubuntu bionic-security/universe amd64 Packages [1,391 kB]\n",
      "Get:18 http://archive.ubuntu.com/ubuntu bionic-updates/universe amd64 Packages [2,162 kB]\n",
      "Get:19 http://archive.ubuntu.com/ubuntu bionic-updates/main amd64 Packages [2,360 kB]\n",
      "Get:20 http://ppa.launchpad.net/c2d4u.team/c2d4u4.0+/ubuntu bionic/main amd64 Packages [886 kB]\n",
      "Fetched 10.7 MB in 3s (3,073 kB/s)\n",
      "Reading package lists... Done\n"
     ]
    }
   ],
   "source": [
    "import os\n",
    "# Find the latest version of spark 3.0  from http://www-us.apache.org/dist/spark/ and enter as the spark version\n",
    "# For example:\n",
    "# spark_version = 'spark-3.0.2'\n",
    "spark_version = 'spark-3.<INSERT_VERSION>'\n",
    "os.environ['SPARK_VERSION']=spark_version\n",
    "\n",
    "# Install Spark and Java\n",
    "!apt-get update\n",
    "!apt-get install openjdk-11-jdk-headless -qq > /dev/null\n",
    "!wget -q http://www-us.apache.org/dist/spark/$SPARK_VERSION/$SPARK_VERSION-bin-hadoop2.7.tgz\n",
    "!tar xf $SPARK_VERSION-bin-hadoop2.7.tgz\n",
    "!pip install -q findspark\n",
    "\n",
    "# Set Environment Variables\n",
    "os.environ[\"JAVA_HOME\"] = \"/usr/lib/jvm/java-11-openjdk-amd64\"\n",
    "os.environ[\"SPARK_HOME\"] = f\"/content/{spark_version}-bin-hadoop2.7\"\n",
    "\n",
    "# Start a SparkSession\n",
    "import findspark\n",
    "findspark.init()"
   ]
  },
  {
   "cell_type": "code",
   "execution_count": null,
   "metadata": {
    "colab": {
     "base_uri": "https://localhost:8080/"
    },
    "id": "oFMMGvxeF3uC",
    "outputId": "ba59e908-ea2f-4f2a-f04a-0006a2e3963b"
   },
   "outputs": [
    {
     "name": "stdout",
     "output_type": "stream",
     "text": [
      "--2021-02-19 11:42:20--  https://jdbc.postgresql.org/download/postgresql-42.2.9.jar\n",
      "Resolving jdbc.postgresql.org (jdbc.postgresql.org)... 72.32.157.228, 2001:4800:3e1:1::228\n",
      "Connecting to jdbc.postgresql.org (jdbc.postgresql.org)|72.32.157.228|:443... connected.\n",
      "HTTP request sent, awaiting response... 200 OK\n",
      "Length: 914037 (893K) [application/java-archive]\n",
      "Saving to: ‘postgresql-42.2.9.jar’\n",
      "\n",
      "postgresql-42.2.9.j 100%[===================>] 892.61K  5.55MB/s    in 0.2s    \n",
      "\n",
      "2021-02-19 11:42:20 (5.55 MB/s) - ‘postgresql-42.2.9.jar’ saved [914037/914037]\n",
      "\n"
     ]
    }
   ],
   "source": [
    "!wget https://jdbc.postgresql.org/download/postgresql-42.2.9.jar"
   ]
  },
  {
   "cell_type": "code",
   "execution_count": null,
   "metadata": {
    "id": "fz9FFdrHB6TO"
   },
   "outputs": [],
   "source": [
    "# Start Spark session\n",
    "from pyspark.sql import SparkSession\n",
    "spark = SparkSession.builder.appName(\"Restaurant Week\").config(\"spark.driver.extraClassPath\",\"/content/postgresql-42.2.9.jar\").getOrCreate()"
   ]
  },
  {
   "cell_type": "code",
   "execution_count": null,
   "metadata": {
    "colab": {
     "base_uri": "https://localhost:8080/"
    },
    "id": "AmWF7rXv2vIu",
    "outputId": "b6eeee63-0687-4b36-f134-fc9bb3491284"
   },
   "outputs": [
    {
     "name": "stdout",
     "output_type": "stream",
     "text": [
      "+--------------------+--------------------+--------------------+------------+--------------+--------------------+--------------------+--------------+-----------+--------------+---------------+------------+-------------+------+------+------+------+------+--------------------+--------------------+--------------------+--------------------+-----------+\n",
      "|                name|      street_address|          google_map|review_count|         phone|             website|     restaurant_type|average_review|food_review|service_review|ambience_review|value_review|  price_range|star_1|star_2|star_3|star_4|star_5|         description|restaurant_main_type|            latitude|           longitude|postal_code|\n",
      "+--------------------+--------------------+--------------------+------------+--------------+--------------------+--------------------+--------------+-----------+--------------+---------------+------------+-------------+------+------+------+------+------+--------------------+--------------------+--------------------+--------------------+-----------+\n",
      "|Smoke Jazz and Su...|2751 Broadway New...|//www.google.com/...|        2155|(212) 864-6662|http://www.smokej...|Contemporary Amer...|       4.42155|        3.9|           4.2|            4.5|           4|   $31 to $50|     2|     7|     5|    24|    62|Smoke has augment...|Contemporary Amer...|          40.8011258|         -73.9681923|      10025|\n",
      "| Tavern on the Green|1 Tavern on the G...|//www.google.com/...|        7029|(212) 877-8684|http://www.tavern...|            American|       4.67029|        4.4|           4.4|            4.7|           4|   $31 to $50|     1|     2|     6|    19|    72|Magical is a word...|            American|          40.7721869|         -73.9777215|      10023|\n",
      "|         ABC Kitchen|35 East 18th Stre...|//www.google.com/...|        6031|(212) 475-5829|http://www.abckit...|Contemporary Amer...|       4.76031|        4.6|           4.4|            4.6|         4.1|   $31 to $50|     1|     2|     5|    15|    77|ABC Kitchen with ...|Contemporary Amer...|          40.7378971|         -73.9894995|      10003|\n",
      "|      Catch New York|21 Ninth Avenue N...|//www.google.com/...|        4830|(212) 392-5978|http://www.catchh...|             Seafood|        4.5483|        4.6|           4.2|            4.4|           4|   $31 to $50|     3|     2|     6|    15|    74|CATCH features co...|             Seafood|          40.7402272|         -74.0063403|      10014|\n",
      "|               Becco|355 West 46th Str...|//www.google.com/...|       18139|(212) 397-7597|http://www.becco-...|             Italian|      4.418139|        4.4|           4.4|            4.1|         4.3|$30 and under|     1|     3|     9|    27|    60|Lidia Bastianich ...|             Italian|           40.760804|         -73.9898324|      10010|\n",
      "|Estiatorio Milos ...|125 West 55th Str...|//www.google.com/...|        4404|(212) 245-7400|http://www.estiat...|             Seafood|       4.84404|        4.8|           4.6|            4.6|         4.2| $50 and over|     1|     1|     3|    14|    81|The freshest, mos...|             Seafood|           40.763598|         -73.9789514|      10019|\n",
      "|          Tao Uptown|42 East 58th Stre...|//www.google.com/...|       10600|(212) 888-2288|http://www.taores...|               Asian|        4.6106|        4.5|           4.4|            4.6|         4.1|   $31 to $50|     1|     2|     7|    21|    69|\"A 16-foot Buddha...| Tao includes a s...| lounge and two b...|               Asian| 40.7626068|\n",
      "|  Red Rooster Harlem|310 Lenox Avenue ...|//www.google.com/...|        5682|(212) 792-9001|http://redrooster...|            Southern|       4.45682|        4.4|           4.2|            4.4|           4|   $31 to $50|     2|     3|    10|    24|    61|Located in the he...|               Other|          40.8080566|         -73.9449139|      10027|\n",
      "|Del Frisco's Doub...|1221 Avenue of th...|//www.google.com/...|        7225|(212) 575-5129|http://delfriscos...|          Steakhouse|       4.77225|        4.6|           4.7|            4.5|           4| $50 and over|     1|     2|     5|    16|    76|A midtown classic...|          Steakhouse|          40.7594248|         -73.9822224|      10020|\n",
      "|FIG & OLIVE Fifth...|10 East 52nd Stre...|//www.google.com/...|        7186|(212) 319-2002|http://www.figand...|       Mediterranean|       4.57186|        4.5|           4.3|            4.2|           4|   $31 to $50|     1|     3|     7|    25|    64|FIG & OLIVE is ab...|       Mediterranean|          40.7592803|         -73.9756337|      10021|\n",
      "|Rosa Mexicano by ...|61 Columbus Avenu...|//www.google.com/...|        6215|(212) 977-7700|http://www.rosame...|             Mexican|       4.46215|        4.3|           4.2|            4.2|           4|   $31 to $50|     2|     3|    10|    28|    57|Our highly antici...|             Mexican|           40.771079|         -73.9827734|      10023|\n",
      "|          ABC Cocina|38 East 19th Stre...|//www.google.com/...|        2171|(212) 677-2233|                  NA|Tapas / Small Plates|       4.72171|        4.6|           4.3|            4.6|           4|$30 and under|     1|     2|     4|    17|    76|ABC Cocina with J...|               Other|          40.7379803|           -73.98927|      10003|\n",
      "|Gallaghers Steakh...|228 West 52nd Str...|//www.google.com/...|        5020|(212) 586-5000|http://www.gallag...|          Steakhouse|        4.6502|        4.7|           4.7|            4.6|         4.2| $50 and over|     1|     1|     5|    19|    74|Founded by former...|          Steakhouse|          40.7628238|         -73.9838753|      10019|\n",
      "|          Boulud Sud|20 West 64th Stre...|//www.google.com/...|        4853|(212) 595-1313|http://www.boulud...|       Mediterranean|       4.64853|        4.6|           4.5|            4.4|         4.1| $50 and over|     1|     2|     6|    20|    71|Chef Daniel Boulu...|       Mediterranean|          40.7715807|         -73.9811807|      10023|\n",
      "|Nougatine at Jean...|1 Central Park We...|//www.google.com/...|        5918|(212) 299-3900|http://www.jean-g...|              French|       4.65918|        4.6|           4.4|            4.5|         4.2|   $31 to $50|     0|     2|     5|    19|    74|Nougatine is the ...|              French|          40.7690255|         -73.9816255|      10023|\n",
      "|Sarabeth's Centra...|40 Central Park S...|//www.google.com/...|        3570|(212) 826-5959|http://www.sarabe...|            American|        4.4357|        4.3|           4.3|            4.1|         3.7|$30 and under|     1|     3|    11|    23|    62|\"Great any time o...|      many years now| and certainly no...|â€ comments Fran...|   American|\n",
      "|        Tao Downtown|92 Ninth Ave New ...|//www.google.com/...|        2291|(212) 888-2724|http://www.taodow...|           Pan-Asian|       4.62291|        4.5|           4.3|            4.7|         4.1| $50 and over|     2|     2|     7|    16|    73|TAO Downtown was ...|               Asian|          40.7425376|         -74.0038464|      10011|\n",
      "|               ilili|236 Fifth Avenue ...|//www.google.com/...|        4981|(212) 683-2929|http://www.ililin...|            Lebanese|       4.64981|        4.7|           4.4|            4.4|           4|   $31 to $50|     1|     1|     5|    19|    74|Tradition meets s...|               Other|          40.7444086|         -73.9879156|      10001|\n",
      "|           Scarpetta|88 Madison Ave Ne...|//www.google.com/...|        3829|(212) 691-0555|http://www.scarpe...|             Italian|       4.63829|        4.6|           4.5|            4.6|           4|   $31 to $50|     2|     2|     6|    17|    73|An Italian expres...|             Italian|          40.7444337|         -73.9857807|      10016|\n",
      "|Atlantic Grill Ne...|49 West 64th St. ...|//www.google.com/...|        5246|(212) 787-4663|http://www.atlant...|             Seafood|       4.45246|        4.3|           4.2|            4.2|         3.9|   $31 to $50|     1|     4|     8|    32|    55|A local favorite ...|             Seafood|          40.7721822|         -73.9813041|      10023|\n",
      "+--------------------+--------------------+--------------------+------------+--------------+--------------------+--------------------+--------------+-----------+--------------+---------------+------------+-------------+------+------+------+------+------+--------------------+--------------------+--------------------+--------------------+-----------+\n",
      "only showing top 20 rows\n",
      "\n"
     ]
    }
   ],
   "source": [
    "# Read in data from S3 Buckets\n",
    "from pyspark import SparkFiles\n",
    "url = \"https://2u-data-curriculum-team.s3.amazonaws.com/dataviz-netflix/unit-7/restaurant_week.csv\"\n",
    "spark.sparkContext.addFile(url)\n",
    "df = spark.read.csv(SparkFiles.get(\"restaurant_week.csv\"), sep=\",\", header=True)\n",
    "\n",
    "# Show DataFrame\n",
    "df.show()"
   ]
  },
  {
   "cell_type": "code",
   "execution_count": null,
   "metadata": {
    "id": "41ODp1qkn9vh"
   },
   "outputs": [],
   "source": [
    "postgres_url=\"jdbc:postgresql://<Database URL>:5432/<Database Name>\"\n",
    "config = {\"user\":\"postgres\", \n",
    "          \"password\": \"<PASSWORD>\", \n",
    "          \"driver\":\"org.postgresql.Driver\"}\n",
    "df.write.jdbc(postgres_url,table=\"restaurantweek\",mode=\"append\", properties=config)"
   ]
  }
 ],
 "metadata": {
  "anaconda-cloud": {},
  "colab": {
   "collapsed_sections": [],
   "name": "RestaurantWeek.ipynb",
   "provenance": []
  },
  "kernelspec": {
   "display_name": "Python 3",
   "language": "python",
   "name": "python3"
  },
  "language_info": {
   "codemirror_mode": {
    "name": "ipython",
    "version": 3
   },
   "file_extension": ".py",
   "mimetype": "text/x-python",
   "name": "python",
   "nbconvert_exporter": "python",
   "pygments_lexer": "ipython3",
   "version": "3.7.4"
  },
  "varInspector": {
   "cols": {
    "lenName": 16,
    "lenType": 16,
    "lenVar": 40
   },
   "kernels_config": {
    "python": {
     "delete_cmd_postfix": "",
     "delete_cmd_prefix": "del ",
     "library": "var_list.py",
     "varRefreshCmd": "print(var_dic_list())"
    },
    "r": {
     "delete_cmd_postfix": ") ",
     "delete_cmd_prefix": "rm(",
     "library": "var_list.r",
     "varRefreshCmd": "cat(var_dic_list()) "
    }
   },
   "types_to_exclude": [
    "module",
    "function",
    "builtin_function_or_method",
    "instance",
    "_Feature"
   ],
   "window_display": false
  }
 },
 "nbformat": 4,
 "nbformat_minor": 1
}
