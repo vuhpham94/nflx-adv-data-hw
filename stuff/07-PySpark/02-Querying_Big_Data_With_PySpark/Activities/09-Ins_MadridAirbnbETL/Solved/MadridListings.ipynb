{
 "cells": [
  {
   "cell_type": "code",
   "execution_count": 1,
   "metadata": {
    "colab": {
     "base_uri": "https://localhost:8080/"
    },
    "id": "notOjWUegrUQ",
    "outputId": "e6889aaf-d8a9-4139-ac0b-4a2b49397d9e"
   },
   "outputs": [
    {
     "name": "stdout",
     "output_type": "stream",
     "text": [
      "\r",
      "0% [Working]\r",
      "            \r",
      "Get:1 http://security.ubuntu.com/ubuntu bionic-security InRelease [88.7 kB]\n",
      "\r",
      "0% [Waiting for headers] [1 InRelease 2,586 B/88.7 kB 3%] [Connected to cloud.r\r",
      "                                                                               \r",
      "Get:2 http://ppa.launchpad.net/c2d4u.team/c2d4u4.0+/ubuntu bionic InRelease [15.9 kB]\n",
      "\r",
      "0% [Waiting for headers] [1 InRelease 14.2 kB/88.7 kB 16%] [Connected to cloud.\r",
      "                                                                               \r",
      "Hit:3 http://archive.ubuntu.com/ubuntu bionic InRelease\n",
      "\r",
      "0% [1 InRelease 88.7 kB/88.7 kB 100%] [Connected to cloud.r-project.org (143.20\r",
      "                                                                               \r",
      "Get:4 http://archive.ubuntu.com/ubuntu bionic-updates InRelease [88.7 kB]\n",
      "\r",
      "                                                                               \r",
      "Hit:5 http://ppa.launchpad.net/cran/libgit2/ubuntu bionic InRelease\n",
      "\r",
      "0% [4 InRelease 88.7 kB/88.7 kB 100%] [Waiting for headers] [Connecting to ppa.\r",
      "0% [3 InRelease gpgv 242 kB] [Waiting for headers] [Waiting for headers] [Conne\r",
      "                                                                               \r",
      "Get:6 https://cloud.r-project.org/bin/linux/ubuntu bionic-cran40/ InRelease [3,626 B]\n",
      "\r",
      "0% [3 InRelease gpgv 242 kB] [Waiting for headers] [6 InRelease 3,626 B/3,626 B\r",
      "0% [3 InRelease gpgv 242 kB] [Waiting for headers] [Connecting to ppa.launchpad\r",
      "                                                                               \r",
      "Get:7 http://archive.ubuntu.com/ubuntu bionic-backports InRelease [74.6 kB]\n",
      "\r",
      "0% [3 InRelease gpgv 242 kB] [7 InRelease 8,393 B/74.6 kB 11%] [Waiting for hea\r",
      "                                                                               \r",
      "0% [3 InRelease gpgv 242 kB] [Waiting for headers] [Waiting for headers]\r",
      "                                                                        \r",
      "Hit:8 http://ppa.launchpad.net/graphics-drivers/ppa/ubuntu bionic InRelease\n",
      "Ign:9 https://developer.download.nvidia.com/compute/cuda/repos/ubuntu1804/x86_64  InRelease\n",
      "Ign:10 https://developer.download.nvidia.com/compute/machine-learning/repos/ubuntu1804/x86_64  InRelease\n",
      "Hit:11 https://developer.download.nvidia.com/compute/cuda/repos/ubuntu1804/x86_64  Release\n",
      "Hit:12 https://developer.download.nvidia.com/compute/machine-learning/repos/ubuntu1804/x86_64  Release\n",
      "Get:13 http://security.ubuntu.com/ubuntu bionic-security/universe amd64 Packages [1,391 kB]\n",
      "Get:14 http://security.ubuntu.com/ubuntu bionic-security/main amd64 Packages [1,929 kB]\n",
      "Get:15 http://ppa.launchpad.net/c2d4u.team/c2d4u4.0+/ubuntu bionic/main Sources [1,732 kB]\n",
      "Get:16 http://ppa.launchpad.net/c2d4u.team/c2d4u4.0+/ubuntu bionic/main amd64 Packages [886 kB]\n",
      "Get:17 http://archive.ubuntu.com/ubuntu bionic-updates/main amd64 Packages [2,360 kB]\n",
      "Get:18 http://archive.ubuntu.com/ubuntu bionic-updates/universe amd64 Packages [2,162 kB]\n",
      "Fetched 10.7 MB in 3s (4,188 kB/s)\n",
      "Reading package lists... Done\n"
     ]
    }
   ],
   "source": [
    "import os\n",
    "# Find the latest version of spark 3.0  from http://www-us.apache.org/dist/spark/ and enter as the spark version\n",
    "# For example:\n",
    "# spark_version = 'spark-3.0.2'\n",
    "spark_version = 'spark-3.<INSERT_VERSION>'\n",
    "os.environ['SPARK_VERSION']=spark_version\n",
    "\n",
    "# Install Spark and Java\n",
    "!apt-get update\n",
    "!apt-get install openjdk-11-jdk-headless -qq > /dev/null\n",
    "!wget -q http://www-us.apache.org/dist/spark/$SPARK_VERSION/$SPARK_VERSION-bin-hadoop2.7.tgz\n",
    "!tar xf $SPARK_VERSION-bin-hadoop2.7.tgz\n",
    "!pip install -q findspark\n",
    "\n",
    "# Set Environment Variables\n",
    "os.environ[\"JAVA_HOME\"] = \"/usr/lib/jvm/java-11-openjdk-amd64\"\n",
    "os.environ[\"SPARK_HOME\"] = f\"/content/{spark_version}-bin-hadoop2.7\"\n",
    "\n",
    "# Start a SparkSession\n",
    "import findspark\n",
    "findspark.init()"
   ]
  },
  {
   "cell_type": "code",
   "execution_count": 2,
   "metadata": {
    "colab": {
     "base_uri": "https://localhost:8080/"
    },
    "id": "VUiHv9eDg_Tw",
    "outputId": "995bf9d5-9654-43e1-de9a-805822dc7593"
   },
   "outputs": [
    {
     "name": "stdout",
     "output_type": "stream",
     "text": [
      "--2021-02-20 23:23:29--  https://jdbc.postgresql.org/download/postgresql-42.2.9.jar\n",
      "Resolving jdbc.postgresql.org (jdbc.postgresql.org)... 72.32.157.228, 2001:4800:3e1:1::228\n",
      "Connecting to jdbc.postgresql.org (jdbc.postgresql.org)|72.32.157.228|:443... connected.\n",
      "HTTP request sent, awaiting response... 200 OK\n",
      "Length: 914037 (893K) [application/java-archive]\n",
      "Saving to: ‘postgresql-42.2.9.jar’\n",
      "\n",
      "postgresql-42.2.9.j 100%[===================>] 892.61K  1.75MB/s    in 0.5s    \n",
      "\n",
      "2021-02-20 23:23:30 (1.75 MB/s) - ‘postgresql-42.2.9.jar’ saved [914037/914037]\n",
      "\n"
     ]
    }
   ],
   "source": [
    "!wget https://jdbc.postgresql.org/download/postgresql-42.2.9.jar"
   ]
  },
  {
   "cell_type": "code",
   "execution_count": 4,
   "metadata": {
    "id": "t47cGsf8hB92"
   },
   "outputs": [],
   "source": [
    "# Start Spark session\n",
    "from pyspark.sql import SparkSession\n",
    "spark = SparkSession.builder.appName(\"Madrid Listings\").config(\"spark.driver.extraClassPath\",\"/content/postgresql-42.2.9.jar\").getOrCreate()"
   ]
  },
  {
   "cell_type": "code",
   "execution_count": 5,
   "metadata": {
    "colab": {
     "base_uri": "https://localhost:8080/"
    },
    "id": "U8-ZMmA2hHBN",
    "outputId": "160df940-7d56-4f71-ac0c-dbaeed3bf9c6"
   },
   "outputs": [
    {
     "name": "stdout",
     "output_type": "stream",
     "text": [
      "+-----+--------------------+-------+---------+-------------------+--------------+--------+---------+---------------+-----+--------------+-----------------+-----------+-----------------+------------------------------+----------------+\n",
      "|   id|                name|host_id|host_name|neighbourhood_group| neighbourhood|latitude|longitude|      room_type|price|minimum_nights|number_of_reviews|last_review|reviews_per_month|calculated_host_listings_count|availability_365|\n",
      "+-----+--------------------+-------+---------+-------------------+--------------+--------+---------+---------------+-----+--------------+-----------------+-----------+-----------------+------------------------------+----------------+\n",
      "| 6369|Rooftop terrace r...|  13660|    Simon|          Chamartín|Hispanoamérica|40.45628| -3.67763|   Private room|   70|             1|               65| 2019-09-04|             0.56|                             1|              53|\n",
      "|21853|Bright and airy room|  83531|    Abdel|             Latina|      Cármenes|40.40341| -3.74084|   Private room|   17|             4|               33| 2018-07-15|             0.55|                             2|              48|\n",
      "|24805|Gran Via Studio M...| 101471|   Iraido|             Centro|   Universidad|40.42202| -3.70395|Entire home/apt|   80|             5|                2| 2017-07-03|             0.03|                             1|             354|\n",
      "|24836|\"Select the Madri...| 101653|    Tenty|             Centro|      Justicia|40.41995| -3.69764|Entire home/apt|  115|             3|               64| 2019-07-07|             0.63|                             1|             301|\n",
      "|26825|Single Room whith...| 114340| Agustina|         Arganzuela|       Legazpi|40.38985| -3.69011|   Private room|   25|             2|              136| 2019-07-10|             1.19|                             1|             337|\n",
      "|30320|Great Vacational ...| 130907|     Dana|             Centro|           Sol|40.41552| -3.70346|Entire home/apt|   65|             5|              168| 2019-07-09|             1.50|                             3|             322|\n",
      "|30959|Beautiful loft in...| 132883|   Angela|             Centro|   Embajadores|40.41111| -3.70269|Entire home/apt|   54|             3|                8| 2017-05-30|             0.15|                             1|               0|\n",
      "|40916|Holiday Apartment...| 130907|     Dana|             Centro|   Universidad|40.42096| -3.70428|Entire home/apt|   90|             3|               38| 2019-07-07|             0.35|                             3|             337|\n",
      "|59923|Habitación para f...| 288380| Patricia|             Centro|       Palacio|40.41971| -3.71256|   Private room|   40|             1|               14| 2018-12-09|             0.14|                             1|             363|\n",
      "|62423|MAGIC ARTISTIC HO...| 303845|   Arturo|             Centro|      Justicia| 40.4208| -3.69878|   Private room|   45|             1|               57| 2019-07-29|             3.43|                             2|             352|\n",
      "|70059|PLAZA ESPAÑA/Wifi...| 353616|    Diana|             Centro|   Universidad|40.42365| -3.70889|Entire home/apt|   65|             5|               85| 2019-09-16|             0.81|                             2|             291|\n",
      "|70310|Heart of Malasaña...| 353738|   Raquel|             Centro|   Universidad|40.42321| -3.70143|Entire home/apt|   70|            28|               18| 2019-05-19|             0.18|                             5|             343|\n",
      "|70315|Superbly located ...| 353738|   Raquel|             Centro|       Palacio|40.42138| -3.71101|Entire home/apt|   75|            28|                3| 2016-06-01|             0.04|                             5|             323|\n",
      "|70316|Superbly located ...| 353738|   Raquel|             Centro|       Palacio|40.42111|  -3.7101|Entire home/apt|   75|            28|                6| 2019-01-02|             0.12|                             5|             261|\n",
      "|72150|Sunny attic duple...| 364585|      Vin|             Centro|   Embajadores|40.41119|  -3.7047|Entire home/apt|  110|             2|               95| 2019-09-09|             0.91|                             5|             166|\n",
      "|72955|Madrid Apartment ...| 378073|   Alvaro|             Centro|        Cortes|40.41139| -3.69408|Entire home/apt|   85|             3|               14| 2019-06-24|             0.23|                             9|             344|\n",
      "|74352|Cozy apartment in...| 391014|     Juan|             Centro|   Embajadores|40.41075| -3.70759|Entire home/apt|   80|             8|                5| 2019-08-04|             0.19|                             1|              77|\n",
      "|75609|  Estudio Museo Dino| 401552| Mercedes|             Centro|   Embajadores|40.40743| -3.69719|Entire home/apt|   63|             3|               53| 2019-07-27|             0.59|                             1|             189|\n",
      "|76617|Plaza Comendadora...| 368907|   Miguel|             Centro|   Universidad|40.42791| -3.70999|Entire home/apt|  102|             3|               33| 2019-06-23|             0.34|                             2|             102|\n",
      "|82481|Retiro Park, Stay...| 448981| Mercedes|          Salamanca|     Recoletos|40.42315| -3.68279|Entire home/apt|   60|             3|              108| 2017-11-29|             1.06|                             1|               0|\n",
      "+-----+--------------------+-------+---------+-------------------+--------------+--------+---------+---------------+-----+--------------+-----------------+-----------+-----------------+------------------------------+----------------+\n",
      "only showing top 20 rows\n",
      "\n"
     ]
    }
   ],
   "source": [
    "# Read in data from S3 Buckets\n",
    "from pyspark import SparkFiles\n",
    "url = \"https://2u-data-curriculum-team.s3.amazonaws.com/dataviz-netflix/unit-7/listings.csv\"\n",
    "spark.sparkContext.addFile(url)\n",
    "df = spark.read.csv(SparkFiles.get(\"listings.csv\"), sep=\",\", header=True)\n",
    "\n",
    "# Show DataFrame\n",
    "df.show()"
   ]
  },
  {
   "cell_type": "code",
   "execution_count": 6,
   "metadata": {
    "id": "Q3N31V9Rp-LU"
   },
   "outputs": [],
   "source": [
    "df = df.withColumn(\"price\", df[\"price\"].cast('float'))\n",
    "df = df.withColumn(\"calculated_host_listings_count\", df[\"calculated_host_listings_count\"].cast('float'))\n",
    "df = df.withColumn(\"availability_365\", df[\"availability_365\"].cast('float'))"
   ]
  },
  {
   "cell_type": "code",
   "execution_count": 7,
   "metadata": {
    "colab": {
     "base_uri": "https://localhost:8080/"
    },
    "id": "ffggBoIWpE_9",
    "outputId": "9ea054d2-5659-4ddd-df48-568cd41bed30"
   },
   "outputs": [
    {
     "name": "stdout",
     "output_type": "stream",
     "text": [
      "+--------------------+------------------+\n",
      "| neighbourhood_group|        avg(price)|\n",
      "+--------------------+------------------+\n",
      "|               Rejas|               1.0|\n",
      "|            Pacífico|               2.0|\n",
      "|         Universidad|               1.6|\n",
      "|Casco Histórico d...|               1.0|\n",
      "|                Goya|               1.0|\n",
      "|   Villa de Vallecas|110.62745098039215|\n",
      "|                José|              null|\n",
      "|              Tetuán| 160.6714628297362|\n",
      "|              Amalia|              null|\n",
      "|           Hortaleza|164.56495468277944|\n",
      "|            Yolvania|              null|\n",
      "|           San Diego|               2.0|\n",
      "|                null|              null|\n",
      "|            Gabriela|              null|\n",
      "|  Puente de Vallecas|  85.7677966101695|\n",
      "|            Chamberí| 124.3288186606471|\n",
      "|              Latina|126.01628664495114|\n",
      "|            Simancas|               2.0|\n",
      "|              Opañel|               2.0|\n",
      "|       Valdeacederas|               2.0|\n",
      "+--------------------+------------------+\n",
      "only showing top 20 rows\n",
      "\n"
     ]
    }
   ],
   "source": [
    "priceGrouped = df.groupBy('neighbourhood_group')\n",
    "priceGrouped.agg({'price':'Avg'}).show()"
   ]
  },
  {
   "cell_type": "code",
   "execution_count": 10,
   "metadata": {
    "id": "HVePu-u_rvY9"
   },
   "outputs": [],
   "source": [
    "roomTypeGrouped = df.groupBy('room_type')\n",
    "roomTypeAgg = roomTypeGrouped.agg({'availability_365':'Avg'})"
   ]
  },
  {
   "cell_type": "code",
   "execution_count": 11,
   "metadata": {
    "colab": {
     "base_uri": "https://localhost:8080/"
    },
    "id": "5po8oyGcvl0J",
    "outputId": "29ba233a-c286-440c-826c-459c0ac5277b"
   },
   "outputs": [
    {
     "name": "stdout",
     "output_type": "stream",
     "text": [
      "+---------------+---------------------+\n",
      "|      room_type|avg(availability_365)|\n",
      "+---------------+---------------------+\n",
      "|     Hotel room|   220.39622641509433|\n",
      "|    Shared room|   196.88278388278388|\n",
      "|Entire home/apt|   161.22735601051542|\n",
      "|   Private room|   139.05402514041188|\n",
      "|       -3.71107|                  7.0|\n",
      "|       -3.67971|                  5.0|\n",
      "|       40.41064|    1.159999966621399|\n",
      "|        -3.5852|                  1.0|\n",
      "|       -3.70819|                  1.0|\n",
      "|       -3.69901|                  1.0|\n",
      "|             35|                 null|\n",
      "|            120|                 null|\n",
      "|             22|                 null|\n",
      "|           null|                 null|\n",
      "|             85|                 null|\n",
      "|            100|                 null|\n",
      "|             18|                 null|\n",
      "|           1200|                 null|\n",
      "|             43|                 null|\n",
      "|            300|                 null|\n",
      "+---------------+---------------------+\n",
      "only showing top 20 rows\n",
      "\n"
     ]
    }
   ],
   "source": [
    "roomTypeAgg.orderBy(roomTypeAgg['avg(availability_365)'].desc()).show()"
   ]
  },
  {
   "cell_type": "code",
   "execution_count": 12,
   "metadata": {
    "id": "6OgTtrLhsWHM"
   },
   "outputs": [],
   "source": [
    "greaterthan_75 = df.filter(\"price>75\")"
   ]
  },
  {
   "cell_type": "code",
   "execution_count": 13,
   "metadata": {
    "colab": {
     "base_uri": "https://localhost:8080/"
    },
    "id": "FtfIWDkRu3WC",
    "outputId": "7c418666-7dae-4e49-f570-8bc5805e13f1"
   },
   "outputs": [
    {
     "name": "stdout",
     "output_type": "stream",
     "text": [
      "+--------+--------------------+---------+----------------+--------------------+--------------+--------+---------+---------------+------+--------------+-----------------+-----------+-----------------+------------------------------+----------------+\n",
      "|      id|                name|  host_id|       host_name| neighbourhood_group| neighbourhood|latitude|longitude|      room_type| price|minimum_nights|number_of_reviews|last_review|reviews_per_month|calculated_host_listings_count|availability_365|\n",
      "+--------+--------------------+---------+----------------+--------------------+--------------+--------+---------+---------------+------+--------------+-----------------+-----------+-----------------+------------------------------+----------------+\n",
      "|27418907|Bastardo Hostel -...|189959417|          Adrian|              Centro|      Justicia|40.42449| -3.69903|   Private room|9999.0|             1|                1| 2019-01-20|             0.12|                          10.0|           351.0|\n",
      "|34851930|Alaia Holidays du...|106745942|           Alaia|              Centro|      Justicia|40.42555|  -3.7002|Entire home/apt|9999.0|             1|                2| 2019-07-05|             0.65|                           6.0|           142.0|\n",
      "|27417973|Bastardo Hostel -...|189959417|          Adrian|              Centro|      Justicia|40.42661| -3.70051|   Private room|9999.0|             1|                1| 2018-11-29|             0.10|                          10.0|           337.0|\n",
      "|27418553|Bastardo Hostel -...|189959417|          Adrian|              Centro|      Justicia|40.42521| -3.70041|   Private room|9999.0|             1|                0|       null|             null|                          10.0|           353.0|\n",
      "|19740224|Luxury apartment ...| 79217020|     Juan Carlos|           Salamanca|          Goya|40.42168| -3.67836|Entire home/apt|8930.0|            30|                7| 2018-11-04|             0.28|                           1.0|             0.0|\n",
      "|26163376|     Estudio 3 Pax 2|196632516|Apartamentos HGE|              Centro|   Embajadores|40.41149|  -3.6993|Entire home/apt|8637.0|             1|                3| 2019-03-21|             0.26|                          12.0|           321.0|\n",
      "|26163470|     Estudio 3 pax 3|196632516|Apartamentos HGE|              Centro|   Embajadores|40.40945| -3.69794|Entire home/apt|8637.0|             1|                1| 2018-07-19|             0.07|                          12.0|           321.0|\n",
      "|26276253|Duplex dos dormit...|196632516|Apartamentos HGE|              Centro|   Embajadores|40.41157| -3.69886|Entire home/apt|8637.0|             1|                9| 2019-07-09|             0.67|                          12.0|           293.0|\n",
      "|26276087|Apartamento 1 Dor...|196632516|Apartamentos HGE|              Centro|   Embajadores|40.41174|  -3.6988|Entire home/apt|8635.0|             1|                1| 2018-12-10|             0.11|                          12.0|           332.0|\n",
      "|26275750|Apartamento 1 dor...|196632516|Apartamentos HGE|              Centro|   Embajadores|40.41127| -3.69808|Entire home/apt|8635.0|             1|                1| 2018-07-23|             0.07|                          12.0|           332.0|\n",
      "|26275618|Apartamento 1 dor...|196632516|Apartamentos HGE|              Centro|   Embajadores|40.40993| -3.69729|Entire home/apt|8635.0|             1|                6| 2019-04-17|             0.55|                          12.0|           332.0|\n",
      "|26275877|Apartamento 1 Dor...|196632516|Apartamentos HGE|              Centro|   Embajadores|40.41105| -3.69884|Entire home/apt|8635.0|             1|                3| 2019-03-06|             0.27|                          12.0|           332.0|\n",
      "|26268011|     Estudio 3 pax 4|196632516|Apartamentos HGE|              Centro|   Embajadores|40.40997| -3.69804|Entire home/apt|8616.0|             1|                6| 2019-06-17|             0.66|                          12.0|           321.0|\n",
      "|26161323|Apartamento Buhar...|196632516|Apartamentos HGE|              Centro|   Embajadores|40.40951| -3.69804|Entire home/apt|8616.0|             1|                3| 2019-06-03|             0.34|                          12.0|           292.0|\n",
      "|26275075|     Estudio 3 pax B|196632516|Apartamentos HGE|              Centro|   Embajadores|40.40949| -3.69806|Entire home/apt|8616.0|             1|               21| 2019-06-06|             1.52|                          12.0|           321.0|\n",
      "|26162436|     Estudio 3 pax 1|196632516|Apartamentos HGE|              Centro|   Embajadores|40.41017| -3.69786|Entire home/apt|8616.0|             1|                4| 2018-10-15|             0.28|                          12.0|           321.0|\n",
      "|26842227|               Vvvvv|130302796|            Paco|              Tetuán|Cuatro Caminos|40.45298|  -3.7012|Entire home/apt|8601.0|             2|                0|       null|             null|                           1.0|            88.0|\n",
      "|15203472|Luminous apt in t...|  1225360|           Pablo|          Arganzuela|      Delicias|40.39569| -3.69496|Entire home/apt|8465.0|             2|                0|       null|             null|                           1.0|             0.0|\n",
      "|20650116|Cozy and modern a...| 11766537|           Marta|           Salamanca|    Guindalera|40.42882| -3.66742|Entire home/apt|7777.0|             2|               42| 2019-02-24|             1.70|                           1.0|             0.0|\n",
      "|35149419|CHALET FOR THE FI...|143732655|        Fernando|San Blas - Canill...|    Canillejas|40.44831| -3.61504|Entire home/apt|6000.0|             1|                0|       null|             null|                           1.0|           261.0|\n",
      "+--------+--------------------+---------+----------------+--------------------+--------------+--------+---------+---------------+------+--------------+-----------------+-----------+-----------------+------------------------------+----------------+\n",
      "only showing top 20 rows\n",
      "\n"
     ]
    }
   ],
   "source": [
    "output = greaterthan_75.orderBy(greaterthan_75['price'].desc())\n",
    "output.show()"
   ]
  },
  {
   "cell_type": "code",
   "execution_count": null,
   "metadata": {
    "id": "VoaOOIuwhJVO"
   },
   "outputs": [],
   "source": [
    "postgres_url=\"jdbc:postgresql://<Database URL>:5432/<Database Name>\"\n",
    "config = {\"user\":\"postgres\", \n",
    "          \"password\": \"<PASSWORD>\", \n",
    "          \"driver\":\"org.postgresql.Driver\"}\n",
    "output.write.jdbc(postgres_url,table=\"madridlistings\",mode=\"append\", properties=config)"
   ]
  }
 ],
 "metadata": {
  "colab": {
   "collapsed_sections": [],
   "name": "MadridListings.ipynb",
   "provenance": []
  },
  "kernelspec": {
   "display_name": "Python 3",
   "language": "python",
   "name": "python3"
  },
  "language_info": {
   "codemirror_mode": {
    "name": "ipython",
    "version": 3
   },
   "file_extension": ".py",
   "mimetype": "text/x-python",
   "name": "python",
   "nbconvert_exporter": "python",
   "pygments_lexer": "ipython3",
   "version": "3.7.4"
  }
 },
 "nbformat": 4,
 "nbformat_minor": 1
}
