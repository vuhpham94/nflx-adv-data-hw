{
 "cells": [
  {
   "cell_type": "code",
   "execution_count": null,
   "metadata": {
    "colab": {
     "base_uri": "https://localhost:8080/"
    },
    "id": "jgCQ-Iiae9V3",
    "outputId": "620221ff-0a16-4fdf-87ac-bd4d41c74ba6"
   },
   "outputs": [
    {
     "name": "stdout",
     "output_type": "stream",
     "text": [
      "\r",
      "0% [Working]\r",
      "            \r",
      "Get:1 https://cloud.r-project.org/bin/linux/ubuntu bionic-cran40/ InRelease [3,626 B]\n",
      "\r",
      "0% [Connecting to archive.ubuntu.com] [Connecting to security.ubuntu.com (91.18\r",
      "0% [Connecting to archive.ubuntu.com] [Connecting to security.ubuntu.com (91.18\r",
      "0% [1 InRelease gpgv 3,626 B] [Connecting to archive.ubuntu.com (91.189.88.152)\r",
      "                                                                               \r",
      "Ign:2 https://developer.download.nvidia.com/compute/cuda/repos/ubuntu1804/x86_64  InRelease\n",
      "\r",
      "0% [1 InRelease gpgv 3,626 B] [Connecting to archive.ubuntu.com (91.189.88.152)\r",
      "                                                                               \r",
      "Ign:3 https://developer.download.nvidia.com/compute/machine-learning/repos/ubuntu1804/x86_64  InRelease\n",
      "\r",
      "0% [1 InRelease gpgv 3,626 B] [Connecting to archive.ubuntu.com (91.189.88.152)\r",
      "                                                                               \r",
      "Hit:4 https://developer.download.nvidia.com/compute/cuda/repos/ubuntu1804/x86_64  Release\n",
      "Hit:5 https://developer.download.nvidia.com/compute/machine-learning/repos/ubuntu1804/x86_64  Release\n",
      "Get:6 http://security.ubuntu.com/ubuntu bionic-security InRelease [88.7 kB]\n",
      "Get:7 http://ppa.launchpad.net/c2d4u.team/c2d4u4.0+/ubuntu bionic InRelease [15.9 kB]\n",
      "Hit:8 http://archive.ubuntu.com/ubuntu bionic InRelease\n",
      "Get:9 http://archive.ubuntu.com/ubuntu bionic-updates InRelease [88.7 kB]\n",
      "Hit:11 http://ppa.launchpad.net/cran/libgit2/ubuntu bionic InRelease\n",
      "Hit:13 http://ppa.launchpad.net/graphics-drivers/ppa/ubuntu bionic InRelease\n",
      "Get:14 http://archive.ubuntu.com/ubuntu bionic-backports InRelease [74.6 kB]\n",
      "Get:15 http://ppa.launchpad.net/c2d4u.team/c2d4u4.0+/ubuntu bionic/main Sources [1,732 kB]\n",
      "Get:16 http://security.ubuntu.com/ubuntu bionic-security/universe amd64 Packages [1,391 kB]\n",
      "Get:17 http://archive.ubuntu.com/ubuntu bionic-updates/main amd64 Packages [2,360 kB]\n",
      "Get:18 http://security.ubuntu.com/ubuntu bionic-security/main amd64 Packages [1,929 kB]\n",
      "Get:19 http://ppa.launchpad.net/c2d4u.team/c2d4u4.0+/ubuntu bionic/main amd64 Packages [886 kB]\n",
      "Get:20 http://archive.ubuntu.com/ubuntu bionic-updates/universe amd64 Packages [2,162 kB]\n",
      "Fetched 10.7 MB in 4s (2,961 kB/s)\n",
      "Reading package lists... Done\n"
     ]
    }
   ],
   "source": [
    "import os\n",
    "# Find the latest version of spark 3.0  from http://www-us.apache.org/dist/spark/ and enter as the spark version\n",
    "# For example:\n",
    "# spark_version = 'spark-3.0.2'\n",
    "spark_version = 'spark-3.<INSERT_VERSION>'\n",
    "os.environ['SPARK_VERSION']=spark_version\n",
    "\n",
    "# Install Spark and Java\n",
    "!apt-get update\n",
    "!apt-get install openjdk-11-jdk-headless -qq > /dev/null\n",
    "!wget -q http://www-us.apache.org/dist/spark/$SPARK_VERSION/$SPARK_VERSION-bin-hadoop2.7.tgz\n",
    "!tar xf $SPARK_VERSION-bin-hadoop2.7.tgz\n",
    "!pip install -q findspark\n",
    "\n",
    "# Set Environment Variables\n",
    "os.environ[\"JAVA_HOME\"] = \"/usr/lib/jvm/java-11-openjdk-amd64\"\n",
    "os.environ[\"SPARK_HOME\"] = f\"/content/{spark_version}-bin-hadoop2.7\"\n",
    "\n",
    "# Start a SparkSession\n",
    "import findspark\n",
    "findspark.init()"
   ]
  },
  {
   "cell_type": "code",
   "execution_count": null,
   "metadata": {
    "id": "iyS6M8jxfjqO"
   },
   "outputs": [],
   "source": [
    "# Start Spark session\n",
    "from pyspark.sql import SparkSession\n",
    "spark = SparkSession.builder.appName(\"Retail Transactions\").getOrCreate()"
   ]
  },
  {
   "cell_type": "code",
   "execution_count": null,
   "metadata": {
    "colab": {
     "base_uri": "https://localhost:8080/"
    },
    "id": "azmN3W3UgATw",
    "outputId": "cb3a14f9-b7fb-4aa8-b5e4-958b56973d12"
   },
   "outputs": [
    {
     "name": "stdout",
     "output_type": "stream",
     "text": [
      "+-----------+----------------+------------------+\n",
      "|customer_id|transaction_date|transaction_amount|\n",
      "+-----------+----------------+------------------+\n",
      "|     CS5295|       11-Feb-13|                35|\n",
      "|     CS4768|       15-Mar-15|                39|\n",
      "|     CS2122|       26-Feb-13|                52|\n",
      "|     CS1217|       16-Nov-11|                99|\n",
      "|     CS1850|       20-Nov-13|                78|\n",
      "|     CS5539|       26-Mar-14|                81|\n",
      "|     CS2724|       06-Feb-12|                93|\n",
      "|     CS5902|       30-Jan-15|                89|\n",
      "|     CS6040|       08-Jan-13|                76|\n",
      "|     CS3802|       20-Aug-13|                75|\n",
      "|     CS3494|       02-Jul-13|                94|\n",
      "|     CS3780|       25-Mar-13|                80|\n",
      "|     CS1171|       03-Nov-12|                59|\n",
      "|     CS2892|       12-May-13|                43|\n",
      "|     CS5552|       29-Dec-14|                78|\n",
      "|     CS6043|       15-Jan-14|                98|\n",
      "|     CS4147|       08-Jul-13|                81|\n",
      "|     CS4655|       30-Dec-13|                93|\n",
      "|     CS3904|       20-Jul-14|               103|\n",
      "|     CS4102|       09-Jul-11|                96|\n",
      "+-----------+----------------+------------------+\n",
      "only showing top 20 rows\n",
      "\n"
     ]
    }
   ],
   "source": [
    "# Read in data from S3 Buckets\n",
    "from pyspark import SparkFiles\n",
    "url = \"https://2u-data-curriculum-team.s3.amazonaws.com/dataviz-netflix/unit-7/retail_transactions.csv\"\n",
    "spark.sparkContext.addFile(url)\n",
    "df = spark.read.csv(SparkFiles.get(\"retail_transactions.csv\"), sep=\",\", header=True)\n",
    "\n",
    "# Show DataFrame\n",
    "df.show()"
   ]
  },
  {
   "cell_type": "code",
   "execution_count": null,
   "metadata": {
    "id": "93GVMklb2J8F"
   },
   "outputs": [],
   "source": [
    "amountUpdated = df.withColumn(\"transaction_amount\", df[\"transaction_amount\"].cast('float'))"
   ]
  },
  {
   "cell_type": "code",
   "execution_count": null,
   "metadata": {
    "colab": {
     "base_uri": "https://localhost:8080/"
    },
    "id": "GWI53_992QUs",
    "outputId": "402279e9-ed85-421c-f1f5-b2db1e0ee2a8"
   },
   "outputs": [
    {
     "name": "stdout",
     "output_type": "stream",
     "text": [
      "+-----------+-----------------------+\n",
      "|customer_id|avg(transaction_amount)|\n",
      "+-----------+-----------------------+\n",
      "|     CS6001|      69.57894736842105|\n",
      "|     CS3128|                   64.0|\n",
      "|     CS5241|      64.05263157894737|\n",
      "|     CS3155|                  74.32|\n",
      "|     CS2754|      74.45454545454545|\n",
      "|     CS3950|      65.73684210526316|\n",
      "|     CS5130|                  66.64|\n",
      "|     CS3935|      67.34782608695652|\n",
      "|     CS3083|      62.88235294117647|\n",
      "|     CS3587|      69.80952380952381|\n",
      "|     CS2282|      69.14285714285714|\n",
      "|     CS1664|                  78.16|\n",
      "|     CS1802|      70.85185185185185|\n",
      "|     CS2412|                  67.75|\n",
      "|     CS4335|                   66.0|\n",
      "|     CS3997|      69.63157894736842|\n",
      "|     CS4915|                   67.0|\n",
      "|     CS3993|                  69.25|\n",
      "|     CS2811|      65.29411764705883|\n",
      "|     CS6062|      64.33333333333333|\n",
      "+-----------+-----------------------+\n",
      "only showing top 20 rows\n",
      "\n"
     ]
    }
   ],
   "source": [
    "amountUpdated.groupBy('customer_id').avg().show()"
   ]
  },
  {
   "cell_type": "code",
   "execution_count": null,
   "metadata": {
    "colab": {
     "base_uri": "https://localhost:8080/"
    },
    "id": "zpzZQn4R2VT1",
    "outputId": "249754c5-689f-4c35-db3f-67b996219d99"
   },
   "outputs": [
    {
     "name": "stdout",
     "output_type": "stream",
     "text": [
      "+-----------+-----------------------+\n",
      "|customer_id|max(transaction_amount)|\n",
      "+-----------+-----------------------+\n",
      "|     CS6001|                  105.0|\n",
      "|     CS3128|                  100.0|\n",
      "|     CS5241|                   94.0|\n",
      "|     CS3155|                  105.0|\n",
      "|     CS2754|                  104.0|\n",
      "|     CS3950|                  105.0|\n",
      "|     CS5130|                  104.0|\n",
      "|     CS3935|                  104.0|\n",
      "|     CS3083|                   94.0|\n",
      "|     CS3587|                  105.0|\n",
      "|     CS2282|                   97.0|\n",
      "|     CS1664|                  105.0|\n",
      "|     CS1802|                  104.0|\n",
      "|     CS2412|                  102.0|\n",
      "|     CS4335|                   96.0|\n",
      "|     CS3997|                   99.0|\n",
      "|     CS4915|                  102.0|\n",
      "|     CS3993|                  103.0|\n",
      "|     CS2811|                   96.0|\n",
      "|     CS6062|                  100.0|\n",
      "+-----------+-----------------------+\n",
      "only showing top 20 rows\n",
      "\n"
     ]
    }
   ],
   "source": [
    "amountUpdated.groupBy('customer_id').max().show()"
   ]
  },
  {
   "cell_type": "code",
   "execution_count": null,
   "metadata": {
    "colab": {
     "base_uri": "https://localhost:8080/"
    },
    "id": "aNRVy0712etO",
    "outputId": "e12a1d03-c3f1-457c-f98b-030ef8e5334d"
   },
   "outputs": [
    {
     "name": "stdout",
     "output_type": "stream",
     "text": [
      "+-----------+-----------------------+\n",
      "|customer_id|sum(transaction_amount)|\n",
      "+-----------+-----------------------+\n",
      "|     CS6001|                 1322.0|\n",
      "|     CS3128|                 1472.0|\n",
      "|     CS5241|                 1217.0|\n",
      "|     CS3155|                 1858.0|\n",
      "|     CS2754|                 1638.0|\n",
      "|     CS3950|                 1249.0|\n",
      "|     CS5130|                 1666.0|\n",
      "|     CS3935|                 1549.0|\n",
      "|     CS3083|                 1069.0|\n",
      "|     CS3587|                 1466.0|\n",
      "|     CS2282|                 1452.0|\n",
      "|     CS1664|                 1954.0|\n",
      "|     CS1802|                 1913.0|\n",
      "|     CS2412|                 1084.0|\n",
      "|     CS4335|                  660.0|\n",
      "|     CS3997|                 1323.0|\n",
      "|     CS4915|                 1541.0|\n",
      "|     CS3993|                 1385.0|\n",
      "|     CS2811|                 1110.0|\n",
      "|     CS6062|                  772.0|\n",
      "+-----------+-----------------------+\n",
      "only showing top 20 rows\n",
      "\n"
     ]
    }
   ],
   "source": [
    "amountUpdated.groupBy('customer_id').sum().show()"
   ]
  },
  {
   "cell_type": "code",
   "execution_count": null,
   "metadata": {
    "colab": {
     "base_uri": "https://localhost:8080/"
    },
    "id": "6XO6Zvhf2jaN",
    "outputId": "86ab17d1-e66d-4fb1-9877-d1b0de511379"
   },
   "outputs": [
    {
     "name": "stdout",
     "output_type": "stream",
     "text": [
      "+----------------+-----------------------+\n",
      "|transaction_date|avg(transaction_amount)|\n",
      "+----------------+-----------------------+\n",
      "|       01-Feb-15|      62.19277108433735|\n",
      "|       20-Feb-12|      66.10344827586206|\n",
      "|       22-Jul-12|                   67.0|\n",
      "|       17-Jan-15|      62.89655172413793|\n",
      "|       28-Aug-11|      63.70754716981132|\n",
      "|       29-Jul-12|                   64.7|\n",
      "|       17-Jan-14|                   62.3|\n",
      "|       12-Jun-13|      68.32530120481928|\n",
      "|       23-Oct-12|      65.56666666666666|\n",
      "|       02-Nov-12|      65.55445544554455|\n",
      "|       06-Mar-14|       64.3529411764706|\n",
      "|       11-Sep-12|      68.19540229885058|\n",
      "|       29-Dec-13|      67.68656716417911|\n",
      "|       14-Feb-13|     63.857142857142854|\n",
      "|       18-Aug-13|       67.5764705882353|\n",
      "|       09-Jan-14|      67.68888888888888|\n",
      "|       28-May-11|      72.83720930232558|\n",
      "|       26-Oct-13|      66.19354838709677|\n",
      "|       21-Nov-11|      65.57142857142857|\n",
      "|       12-Feb-13|                   64.5|\n",
      "+----------------+-----------------------+\n",
      "only showing top 20 rows\n",
      "\n"
     ]
    }
   ],
   "source": [
    "amountUpdated.groupBy('transaction_date').avg().show()"
   ]
  },
  {
   "cell_type": "code",
   "execution_count": null,
   "metadata": {
    "colab": {
     "base_uri": "https://localhost:8080/"
    },
    "id": "gWnvAAG425B9",
    "outputId": "121cb219-c175-418c-fe48-0949dd3c6bf6"
   },
   "outputs": [
    {
     "name": "stdout",
     "output_type": "stream",
     "text": [
      "+----------------+-----------------------+\n",
      "|transaction_date|sum(transaction_amount)|\n",
      "+----------------+-----------------------+\n",
      "|       01-Feb-15|                 5162.0|\n",
      "|       20-Feb-12|                 5751.0|\n",
      "|       22-Jul-12|                 6164.0|\n",
      "|       17-Jan-15|                 3648.0|\n",
      "|       28-Aug-11|                 6753.0|\n",
      "|       29-Jul-12|                 5176.0|\n",
      "|       17-Jan-14|                 4361.0|\n",
      "|       12-Jun-13|                 5671.0|\n",
      "|       23-Oct-12|                 5901.0|\n",
      "|       02-Nov-12|                 6621.0|\n",
      "|       06-Mar-14|                 5470.0|\n",
      "|       11-Sep-12|                 5933.0|\n",
      "|       29-Dec-13|                 4535.0|\n",
      "|       14-Feb-13|                 4470.0|\n",
      "|       18-Aug-13|                 5744.0|\n",
      "|       09-Jan-14|                 6092.0|\n",
      "|       28-May-11|                 6264.0|\n",
      "|       26-Oct-13|                 6156.0|\n",
      "|       21-Nov-11|                 5508.0|\n",
      "|       12-Feb-13|                 4902.0|\n",
      "+----------------+-----------------------+\n",
      "only showing top 20 rows\n",
      "\n"
     ]
    }
   ],
   "source": [
    "amountUpdated.groupBy('transaction_date').sum().show()"
   ]
  },
  {
   "cell_type": "code",
   "execution_count": null,
   "metadata": {
    "colab": {
     "base_uri": "https://localhost:8080/"
    },
    "id": "VX7UfA-G246l",
    "outputId": "c5ec5683-58d3-46cb-c918-5273fdeb22fd"
   },
   "outputs": [
    {
     "name": "stdout",
     "output_type": "stream",
     "text": [
      "+----------------+-----------------------+\n",
      "|transaction_date|max(transaction_amount)|\n",
      "+----------------+-----------------------+\n",
      "|       01-Feb-15|                  105.0|\n",
      "|       20-Feb-12|                  105.0|\n",
      "|       22-Jul-12|                  105.0|\n",
      "|       17-Jan-15|                  105.0|\n",
      "|       28-Aug-11|                  105.0|\n",
      "|       29-Jul-12|                  104.0|\n",
      "|       17-Jan-14|                  104.0|\n",
      "|       12-Jun-13|                  105.0|\n",
      "|       23-Oct-12|                  105.0|\n",
      "|       02-Nov-12|                  105.0|\n",
      "|       06-Mar-14|                  105.0|\n",
      "|       11-Sep-12|                  105.0|\n",
      "|       29-Dec-13|                  105.0|\n",
      "|       14-Feb-13|                  103.0|\n",
      "|       18-Aug-13|                  105.0|\n",
      "|       09-Jan-14|                  105.0|\n",
      "|       28-May-11|                  105.0|\n",
      "|       26-Oct-13|                  105.0|\n",
      "|       21-Nov-11|                  105.0|\n",
      "|       12-Feb-13|                  105.0|\n",
      "+----------------+-----------------------+\n",
      "only showing top 20 rows\n",
      "\n"
     ]
    }
   ],
   "source": [
    "amountUpdated.groupBy('transaction_date').max().show()"
   ]
  }
 ],
 "metadata": {
  "colab": {
   "collapsed_sections": [],
   "name": "RetailTransactions.ipynb",
   "provenance": []
  },
  "kernelspec": {
   "display_name": "Python 3",
   "language": "python",
   "name": "python3"
  },
  "language_info": {
   "codemirror_mode": {
    "name": "ipython",
    "version": 3
   },
   "file_extension": ".py",
   "mimetype": "text/x-python",
   "name": "python",
   "nbconvert_exporter": "python",
   "pygments_lexer": "ipython3",
   "version": "3.7.4"
  }
 },
 "nbformat": 4,
 "nbformat_minor": 1
}
