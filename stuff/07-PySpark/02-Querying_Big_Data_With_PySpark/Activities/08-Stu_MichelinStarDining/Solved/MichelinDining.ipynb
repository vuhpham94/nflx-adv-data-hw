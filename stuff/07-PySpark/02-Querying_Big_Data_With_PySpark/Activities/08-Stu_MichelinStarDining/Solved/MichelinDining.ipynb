{
 "cells": [
  {
   "cell_type": "code",
   "execution_count": null,
   "metadata": {
    "colab": {
     "base_uri": "https://localhost:8080/"
    },
    "id": "oyq328JBZRwg",
    "outputId": "12461cdf-152e-4056-e0cb-f71934ab553c"
   },
   "outputs": [
    {
     "name": "stdout",
     "output_type": "stream",
     "text": [
      "Get:1 https://cloud.r-project.org/bin/linux/ubuntu bionic-cran40/ InRelease [3,626 B]\n",
      "Ign:2 https://developer.download.nvidia.com/compute/cuda/repos/ubuntu1804/x86_64  InRelease\n",
      "Get:3 http://security.ubuntu.com/ubuntu bionic-security InRelease [88.7 kB]\n",
      "Ign:4 https://developer.download.nvidia.com/compute/machine-learning/repos/ubuntu1804/x86_64  InRelease\n",
      "Hit:5 https://developer.download.nvidia.com/compute/cuda/repos/ubuntu1804/x86_64  Release\n",
      "Hit:6 https://developer.download.nvidia.com/compute/machine-learning/repos/ubuntu1804/x86_64  Release\n",
      "Get:7 http://ppa.launchpad.net/c2d4u.team/c2d4u4.0+/ubuntu bionic InRelease [15.9 kB]\n",
      "Hit:9 http://archive.ubuntu.com/ubuntu bionic InRelease\n",
      "Get:11 http://archive.ubuntu.com/ubuntu bionic-updates InRelease [88.7 kB]\n",
      "Hit:12 http://ppa.launchpad.net/cran/libgit2/ubuntu bionic InRelease\n",
      "Get:13 http://security.ubuntu.com/ubuntu bionic-security/main amd64 Packages [1,929 kB]\n",
      "Get:14 http://archive.ubuntu.com/ubuntu bionic-backports InRelease [74.6 kB]\n",
      "Hit:15 http://ppa.launchpad.net/graphics-drivers/ppa/ubuntu bionic InRelease\n",
      "Get:16 http://archive.ubuntu.com/ubuntu bionic-updates/main amd64 Packages [2,360 kB]\n",
      "Get:17 http://ppa.launchpad.net/c2d4u.team/c2d4u4.0+/ubuntu bionic/main Sources [1,732 kB]\n",
      "Get:18 http://security.ubuntu.com/ubuntu bionic-security/universe amd64 Packages [1,391 kB]\n",
      "Get:19 http://archive.ubuntu.com/ubuntu bionic-updates/universe amd64 Packages [2,162 kB]\n",
      "Get:20 http://ppa.launchpad.net/c2d4u.team/c2d4u4.0+/ubuntu bionic/main amd64 Packages [886 kB]\n",
      "Fetched 10.7 MB in 6s (1,818 kB/s)\n",
      "Reading package lists... Done\n"
     ]
    }
   ],
   "source": [
    "import os\n",
    "# Find the latest version of spark 3.0  from http://www-us.apache.org/dist/spark/ and enter as the spark version\n",
    "# For example:\n",
    "# spark_version = 'spark-3.0.2'\n",
    "spark_version = 'spark-3.<INSERT_VERSION>'\n",
    "os.environ['SPARK_VERSION']=spark_version\n",
    "\n",
    "# Install Spark and Java\n",
    "!apt-get update\n",
    "!apt-get install openjdk-11-jdk-headless -qq > /dev/null\n",
    "!wget -q http://www-us.apache.org/dist/spark/$SPARK_VERSION/$SPARK_VERSION-bin-hadoop2.7.tgz\n",
    "!tar xf $SPARK_VERSION-bin-hadoop2.7.tgz\n",
    "!pip install -q findspark\n",
    "\n",
    "# Set Environment Variables\n",
    "os.environ[\"JAVA_HOME\"] = \"/usr/lib/jvm/java-11-openjdk-amd64\"\n",
    "os.environ[\"SPARK_HOME\"] = f\"/content/{spark_version}-bin-hadoop2.7\"\n",
    "\n",
    "# Start a SparkSession\n",
    "import findspark\n",
    "findspark.init()"
   ]
  },
  {
   "cell_type": "code",
   "execution_count": null,
   "metadata": {
    "colab": {
     "base_uri": "https://localhost:8080/"
    },
    "id": "AjbNZzg9ZXkd",
    "outputId": "fa1d5943-63f1-4e2c-fe89-2284173a1760"
   },
   "outputs": [
    {
     "name": "stdout",
     "output_type": "stream",
     "text": [
      "--2021-02-19 13:15:43--  https://jdbc.postgresql.org/download/postgresql-42.2.9.jar\n",
      "Resolving jdbc.postgresql.org (jdbc.postgresql.org)... 72.32.157.228, 2001:4800:3e1:1::228\n",
      "Connecting to jdbc.postgresql.org (jdbc.postgresql.org)|72.32.157.228|:443... connected.\n",
      "HTTP request sent, awaiting response... 200 OK\n",
      "Length: 914037 (893K) [application/java-archive]\n",
      "Saving to: ‘postgresql-42.2.9.jar’\n",
      "\n",
      "postgresql-42.2.9.j 100%[===================>] 892.61K  1.30MB/s    in 0.7s    \n",
      "\n",
      "2021-02-19 13:15:45 (1.30 MB/s) - ‘postgresql-42.2.9.jar’ saved [914037/914037]\n",
      "\n"
     ]
    }
   ],
   "source": [
    "!wget https://jdbc.postgresql.org/download/postgresql-42.2.9.jar"
   ]
  },
  {
   "cell_type": "code",
   "execution_count": null,
   "metadata": {
    "id": "LrNrsrFYZZe2"
   },
   "outputs": [],
   "source": [
    "# Start Spark session\n",
    "from pyspark.sql import SparkSession\n",
    "spark = SparkSession.builder.appName(\"Michelin Star Dining\").config(\"spark.driver.extraClassPath\",\"/content/postgresql-42.2.9.jar\").getOrCreate()"
   ]
  },
  {
   "cell_type": "code",
   "execution_count": null,
   "metadata": {
    "colab": {
     "base_uri": "https://localhost:8080/"
    },
    "id": "SCBtuun3Zb5n",
    "outputId": "e397a569-b575-42f6-fcb5-b8c1323eba0e"
   },
   "outputs": [
    {
     "name": "stdout",
     "output_type": "stream",
     "text": [
      "+--------------------+----+---------+-----------+-------------------+----------+-------+---------------+-----+--------------------+\n",
      "|                name|year| latitude|  longitude|               city|    region|zipCode|        cuisine|price|                 url|\n",
      "+--------------------+----+---------+-----------+-------------------+----------+-------+---------------+-----+--------------------+\n",
      "|        Kilian Stuba|2019| 47.34858|   10.17114|     Kleinwalsertal|   Austria|  87568|       Creative|$$$$$|https://guide.mic...|\n",
      "|       Pfefferschiff|2019| 47.83787|   13.07917|           Hallwang|   Austria|   5300|Classic cuisine|$$$$$|https://guide.mic...|\n",
      "|           Esszimmer|2019| 47.80685|   13.03409|           Salzburg|   Austria|   5020|       Creative|$$$$$|https://guide.mic...|\n",
      "|          Carpe Diem|2019| 47.80001|   13.04006|           Salzburg|   Austria|   5020| Market cuisine|$$$$$|https://guide.mic...|\n",
      "|              Edvard|2019|48.216503|   16.36852|               Wien|   Austria|   1010| Modern cuisine| $$$$|https://guide.mic...|\n",
      "|            Das Loft|2019| 48.21272|   16.37931|               Wien|   Austria|   1020| Modern cuisine|$$$$$|https://guide.mic...|\n",
      "|  Pramerl & the Wolf|2019| 48.20945|   16.37174|               Wien|   Austria|   1090|       Creative|$$$$$|https://guide.mic...|\n",
      "|        Walter Bauer|2019| 48.20923|   16.37672|               Wien|   Austria|   1010|Classic cuisine|$$$$$|https://guide.mic...|\n",
      "|               SHIKI|2019|48.204067|   16.37098|               Wien|   Austria|   1010|       Japanese|$$$$$|https://guide.mic...|\n",
      "|                Tian|2019| 48.20513|   16.37456|               Wien|   Austria|   1010|     Vegetarian|$$$$$|https://guide.mic...|\n",
      "|                aend|2019| 48.18957|   16.34115|               Wien|   Austria|   1010| Modern cuisine|$$$$$|https://guide.mic...|\n",
      "|Le Ciel by Toni M...|2019| 48.20209|   16.37156|               Wien|   Austria|   1010|Classic cuisine|$$$$$|https://guide.mic...|\n",
      "|             Chez TJ|2019| 37.39468| -122.08044|South San Francisco|California|  94041|   Contemporary| $$$$|https://guide.mic...|\n",
      "|           ProtÃ©gÃ©|2019|37.427853| -122.14362|South San Francisco|California|  94301|   Contemporary|  $$$|https://guide.mic...|\n",
      "|              Madera|2019| 37.42014| -122.21151|      San Francisco|California|  94025|   Contemporary|  $$$|https://guide.mic...|\n",
      "|     The Village Pub|2019| 37.42897| -122.25178|      San Francisco|California|  94062|   Contemporary|  $$$|https://guide.mic...|\n",
      "|        Plumed Horse|2019| 37.25648| -122.03537|South San Francisco|California|  95070|   Contemporary| $$$$|https://guide.mic...|\n",
      "|            Wakuriya|2019| 37.52114|  -122.3366|      San Francisco|California|  94402|       Japanese| $$$$|https://guide.mic...|\n",
      "|     Sushi Yoshizumi|2019|37.565075|  -122.3211|      San Francisco|California|  94401|       Japanese| $$$$|https://guide.mic...|\n",
      "|                Rasa|2019|37.577522|-122.345985|      San Francisco|California|  94010|         Indian|   $$|https://guide.mic...|\n",
      "+--------------------+----+---------+-----------+-------------------+----------+-------+---------------+-----+--------------------+\n",
      "only showing top 20 rows\n",
      "\n"
     ]
    }
   ],
   "source": [
    "# Read in data from S3 Buckets\n",
    "from pyspark import SparkFiles\n",
    "url = \"https://2u-data-curriculum-team.s3.amazonaws.com/dataviz-netflix/unit-7/michelin_star_dining.csv\"\n",
    "spark.sparkContext.addFile(url)\n",
    "df = spark.read.csv(SparkFiles.get(\"michelin_star_dining.csv\"), sep=\",\", header=True)\n",
    "\n",
    "# Show DataFrame\n",
    "df.show()"
   ]
  },
  {
   "cell_type": "code",
   "execution_count": null,
   "metadata": {
    "id": "JGAtpk_iZhaM"
   },
   "outputs": [],
   "source": [
    "postgres_url=\"jdbc:postgresql://<Database URL>:5432/<Database Name>\"\n",
    "config = {\"user\":\"postgres\", \n",
    "          \"password\": \"<PASSWORD>\", \n",
    "          \"driver\":\"org.postgresql.Driver\"}\n",
    "df.write.jdbc(postgres_url,table=\"restaurantweek\",mode=\"append\", properties=config)"
   ]
  }
 ],
 "metadata": {
  "colab": {
   "collapsed_sections": [],
   "name": "MichelinDining.ipynb",
   "provenance": []
  },
  "kernelspec": {
   "display_name": "Python 3",
   "language": "python",
   "name": "python3"
  },
  "language_info": {
   "codemirror_mode": {
    "name": "ipython",
    "version": 3
   },
   "file_extension": ".py",
   "mimetype": "text/x-python",
   "name": "python",
   "nbconvert_exporter": "python",
   "pygments_lexer": "ipython3",
   "version": "3.7.4"
  }
 },
 "nbformat": 4,
 "nbformat_minor": 1
}
