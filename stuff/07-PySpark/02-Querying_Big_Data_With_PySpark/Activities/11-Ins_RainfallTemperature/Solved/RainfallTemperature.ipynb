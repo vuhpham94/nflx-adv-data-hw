{
 "cells": [
  {
   "cell_type": "code",
   "execution_count": 1,
   "metadata": {
    "colab": {
     "base_uri": "https://localhost:8080/"
    },
    "id": "OTaNsOSA19Mw",
    "outputId": "88e79b96-1a7e-4239-e6da-bc5656fc52ad"
   },
   "outputs": [
    {
     "name": "stdout",
     "output_type": "stream",
     "text": [
      "\r",
      "0% [Working]\r",
      "            \r",
      "Get:1 https://cloud.r-project.org/bin/linux/ubuntu bionic-cran40/ InRelease [3,626 B]\n",
      "\r",
      "0% [Waiting for headers] [Waiting for headers] [1 InRelease 0 B/3,626 B 0%] [Wa\r",
      "0% [Waiting for headers] [Waiting for headers] [Waiting for headers] [Waiting f\r",
      "                                                                               \r",
      "Ign:2 https://developer.download.nvidia.com/compute/cuda/repos/ubuntu1804/x86_64  InRelease\n",
      "\r",
      "0% [Waiting for headers] [Waiting for headers] [Waiting for headers] [Waiting f\r",
      "0% [1 InRelease gpgv 3,626 B] [Waiting for headers] [Waiting for headers] [Wait\r",
      "                                                                               \r",
      "Hit:3 http://archive.ubuntu.com/ubuntu bionic InRelease\n",
      "\r",
      "0% [1 InRelease gpgv 3,626 B] [Waiting for headers] [Waiting for headers] [Wait\r",
      "                                                                               \r",
      "Get:4 http://ppa.launchpad.net/c2d4u.team/c2d4u4.0+/ubuntu bionic InRelease [15.9 kB]\n",
      "\r",
      "0% [1 InRelease gpgv 3,626 B] [Waiting for headers] [Waiting for headers] [4 In\r",
      "                                                                               \r",
      "Get:5 http://security.ubuntu.com/ubuntu bionic-security InRelease [88.7 kB]\n",
      "\r",
      "0% [1 InRelease gpgv 3,626 B] [Waiting for headers] [5 InRelease 14.2 kB/88.7 k\r",
      "                                                                               \r",
      "Ign:6 https://developer.download.nvidia.com/compute/machine-learning/repos/ubuntu1804/x86_64  InRelease\n",
      "\r",
      "0% [1 InRelease gpgv 3,626 B] [Waiting for headers] [5 InRelease 14.2 kB/88.7 k\r",
      "                                                                               \r",
      "Get:7 https://developer.download.nvidia.com/compute/cuda/repos/ubuntu1804/x86_64  Release [697 B]\n",
      "\r",
      "0% [1 InRelease gpgv 3,626 B] [Waiting for headers] [5 InRelease 14.2 kB/88.7 k\r",
      "                                                                               \r",
      "Get:8 https://developer.download.nvidia.com/compute/machine-learning/repos/ubuntu1804/x86_64  Release [564 B]\n",
      "\r",
      "0% [1 InRelease gpgv 3,626 B] [Waiting for headers] [5 InRelease 14.2 kB/88.7 k\r",
      "                                                                               \r",
      "Get:9 https://developer.download.nvidia.com/compute/cuda/repos/ubuntu1804/x86_64  Release.gpg [836 B]\n",
      "\r",
      "0% [1 InRelease gpgv 3,626 B] [Waiting for headers] [5 InRelease 14.2 kB/88.7 k\r",
      "                                                                               \r",
      "Get:10 https://developer.download.nvidia.com/compute/machine-learning/repos/ubuntu1804/x86_64  Release.gpg [833 B]\n",
      "Get:11 http://archive.ubuntu.com/ubuntu bionic-updates InRelease [88.7 kB]\n",
      "Hit:12 http://ppa.launchpad.net/cran/libgit2/ubuntu bionic InRelease\n",
      "Get:13 http://archive.ubuntu.com/ubuntu bionic-backports InRelease [74.6 kB]\n",
      "Get:14 http://ppa.launchpad.net/deadsnakes/ppa/ubuntu bionic InRelease [15.9 kB]\n",
      "Get:15 http://ppa.launchpad.net/graphics-drivers/ppa/ubuntu bionic InRelease [21.3 kB]\n",
      "Ign:16 https://developer.download.nvidia.com/compute/cuda/repos/ubuntu1804/x86_64  Packages\n",
      "Get:16 https://developer.download.nvidia.com/compute/cuda/repos/ubuntu1804/x86_64  Packages [577 kB]\n",
      "Get:17 https://developer.download.nvidia.com/compute/machine-learning/repos/ubuntu1804/x86_64  Packages [73.8 kB]\n",
      "Get:18 http://ppa.launchpad.net/c2d4u.team/c2d4u4.0+/ubuntu bionic/main Sources [1,745 kB]\n",
      "Get:19 http://security.ubuntu.com/ubuntu bionic-security/restricted amd64 Packages [324 kB]\n",
      "Get:20 http://security.ubuntu.com/ubuntu bionic-security/multiverse amd64 Packages [24.5 kB]\n",
      "Get:21 http://security.ubuntu.com/ubuntu bionic-security/main amd64 Packages [1,963 kB]\n",
      "Get:22 http://archive.ubuntu.com/ubuntu bionic-updates/universe amd64 Packages [2,163 kB]\n",
      "Get:23 http://security.ubuntu.com/ubuntu bionic-security/universe amd64 Packages [1,396 kB]\n",
      "Get:24 http://ppa.launchpad.net/c2d4u.team/c2d4u4.0+/ubuntu bionic/main amd64 Packages [893 kB]\n",
      "Get:25 http://archive.ubuntu.com/ubuntu bionic-updates/multiverse amd64 Packages [31.4 kB]\n",
      "Get:26 http://archive.ubuntu.com/ubuntu bionic-updates/restricted amd64 Packages [353 kB]\n",
      "Get:27 http://archive.ubuntu.com/ubuntu bionic-updates/main amd64 Packages [2,394 kB]\n",
      "Get:28 http://ppa.launchpad.net/deadsnakes/ppa/ubuntu bionic/main amd64 Packages [39.5 kB]\n",
      "Get:29 http://ppa.launchpad.net/graphics-drivers/ppa/ubuntu bionic/main amd64 Packages [49.4 kB]\n",
      "Fetched 12.3 MB in 4s (3,067 kB/s)\n",
      "Reading package lists... Done\n"
     ]
    }
   ],
   "source": [
    "import os\n",
    "# Find the latest version of spark 3.0  from http://www-us.apache.org/dist/spark/ and enter as the spark version\n",
    "# For example:\n",
    "# spark_version = 'spark-3.0.2'\n",
    "spark_version = 'spark-3.0.2'\n",
    "os.environ['SPARK_VERSION']=spark_version\n",
    "\n",
    "# Install Spark and Java\n",
    "!apt-get update\n",
    "!apt-get install openjdk-11-jdk-headless -qq > /dev/null\n",
    "!wget -q http://www-us.apache.org/dist/spark/$SPARK_VERSION/$SPARK_VERSION-bin-hadoop2.7.tgz\n",
    "!tar xf $SPARK_VERSION-bin-hadoop2.7.tgz\n",
    "!pip install -q findspark\n",
    "\n",
    "# Set Environment Variables\n",
    "os.environ[\"JAVA_HOME\"] = \"/usr/lib/jvm/java-11-openjdk-amd64\"\n",
    "os.environ[\"SPARK_HOME\"] = f\"/content/{spark_version}-bin-hadoop2.7\"\n",
    "\n",
    "# Start a SparkSession\n",
    "import findspark\n",
    "findspark.init()"
   ]
  },
  {
   "cell_type": "code",
   "execution_count": 2,
   "metadata": {
    "id": "UjfbySib4H4t"
   },
   "outputs": [],
   "source": [
    "# Start Spark session\n",
    "from pyspark.sql import SparkSession\n",
    "spark = SparkSession.builder.appName(\"Rainfall Temperature\").config(\"spark.driver.extraClassPath\",\"/content/postgresql-42.2.9.jar\").getOrCreate()"
   ]
  },
  {
   "cell_type": "code",
   "execution_count": 3,
   "metadata": {
    "colab": {
     "base_uri": "https://localhost:8080/"
    },
    "id": "p_o0J_w84Jul",
    "outputId": "efa24432-c9ef-4656-f2d5-1497374d56ef"
   },
   "outputs": [
    {
     "name": "stdout",
     "output_type": "stream",
     "text": [
      "+----------------+--------------------+-------------------+-------------------+-------------------+----------+--------------+-------------------+----+------+----------+-----+----+----+----+----+----+----+----+----+----+----+----+----+----+----+----+----+----+----+----+----+----+-----+----+----+\n",
      "|OrganisationName|    OrganisationCode|      PublishedDate|       DurationFrom|         DurationTo|LatestData|       GeoName|ReportingPeriodType|Year|Period|Rainfallmm| Temp|_c12|_c13|_c14|_c15|_c16|_c17|_c18|_c19|_c20|_c21|_c22|_c23|_c24|_c25|_c26|_c27|_c28|_c29|_c30|_c31|_c32| _c33|_c34|_c35|\n",
      "+----------------+--------------------+-------------------+-------------------+-------------------+----------+--------------+-------------------+----+------+----------+-----+----+----+----+----+----+----+----+----+----+----+----+----+----+----+----+----+----+----+----+----+----+-----+----+----+\n",
      "|    Lincolnshire|http://opendataco...|2019-02-27T00:00:00|2010-01-01T00:00:00|2010-01-31T00:00:00|      TRUE|England E & NE|            Monthly|2010|   JAN|      69.5|  0.8|null|null|null|null|null|null|2019| 3.4|   6|   7| 7.8|10.3|13.4|  17|16.5|13.4| 8.8| 5.6| 4.9|4.89|8.38|15.67|9.26|9.54|\n",
      "|    Lincolnshire|http://opendataco...|2019-02-27T00:00:00|2010-02-01T00:00:00|2010-02-28T00:00:00|      TRUE|England E & NE|            Monthly|2010|   FEB|      71.7|  1.6|null|null|null|null|null|null|null|null|null|null|null|null|null|null|null|null|null|null|null|null|null| null|null|null|\n",
      "|    Lincolnshire|http://opendataco...|2019-02-27T00:00:00|2010-03-01T00:00:00|2010-03-31T00:00:00|      TRUE|England E & NE|            Monthly|2010|   MAR|      65.1|  5.5|null|null|null|null|null|null|null|null|null|null|null|null|null|null|null|null|null|null|null|null|null| null|null|null|\n",
      "|    Lincolnshire|http://opendataco...|2019-02-27T00:00:00|2010-04-01T00:00:00|2010-04-30T00:00:00|      TRUE|England E & NE|            Monthly|2010|   APR|      21.4|  8.2|null|null|null|null|null|null|null|null|null|null|null|null|null|null|null|null|null|null|null|null|null| null|null|null|\n",
      "|    Lincolnshire|http://opendataco...|2019-02-27T00:00:00|2010-05-01T00:00:00|2010-05-31T00:00:00|      TRUE|England E & NE|            Monthly|2010|   MAY|      22.1|  9.8|null|null|null|null|null|null|null|null|null|null|null|null|null|null|null|null|null|null|null|null|null| null|null|null|\n",
      "|    Lincolnshire|http://opendataco...|2019-02-27T00:00:00|2010-06-01T00:00:00|2010-06-30T00:00:00|      TRUE|England E & NE|            Monthly|2010|   JUN|      42.7| 14.3|null|null|null|null|null|null|null|null|null|null|null|null|null|null|null|null|null|null|null|null|null| null|null|null|\n",
      "|    Lincolnshire|http://opendataco...|2019-02-27T00:00:00|2010-07-01T00:00:00|2010-07-31T00:00:00|      TRUE|England E & NE|            Monthly|2010|   JUL|      61.1| 16.4|null|null|null|null|null|null|null|null|null|null|null|null|null|null|null|null|null|null|null|null|null| null|null|null|\n",
      "|    Lincolnshire|http://opendataco...|2019-02-27T00:00:00|2010-08-01T00:00:00|2010-08-31T00:00:00|      TRUE|England E & NE|            Monthly|2010|   AUG|      76.6| 14.6|null|null|null|null|null|null|null|null|null|null|null|null|null|null|null|null|null|null|null|null|null| null|null|null|\n",
      "|    Lincolnshire|http://opendataco...|2019-02-27T00:00:00|2010-09-01T00:00:00|2010-09-30T00:00:00|      TRUE|England E & NE|            Monthly|2010|   SEP|      83.9| 13.4|null|null|null|null|null|null|null|null|null|null|null|null|null|null|null|null|null|null|null|null|null| null|null|null|\n",
      "|    Lincolnshire|http://opendataco...|2019-02-27T00:00:00|2010-10-01T00:00:00|2010-10-31T00:00:00|      TRUE|England E & NE|            Monthly|2010|   OCT|        65|  9.6|null|null|null|null|null|null|null|null|null|null|null|null|null|null|null|null|null|null|null|null|null| null|null|null|\n",
      "|    Lincolnshire|http://opendataco...|2019-02-27T00:00:00|2010-11-01T00:00:00|2010-11-30T00:00:00|      TRUE|England E & NE|            Monthly|2010|   NOV|     118.2|  4.5|null|null|null|null|null|null|null|null|null|null|null|null|null|null|null|null|null|null|null|null|null| null|null|null|\n",
      "|    Lincolnshire|http://opendataco...|2019-02-27T00:00:00|2010-12-01T00:00:00|2010-12-31T00:00:00|      TRUE|England E & NE|            Monthly|2010|   DEC|      40.7| -1.2|null|null|null|null|null|null|null|null|null|null|null|null|null|null|null|null|null|null|null|null|null| null|null|null|\n",
      "|    Lincolnshire|http://opendataco...|2019-02-27T00:00:00|2009-12-01T00:00:00|2010-02-28T00:00:00|      TRUE|England E & NE|             Season|2010|Winter|     228.7| 1.52|null|null|null|null|null|null|null|null|null|null|null|null|null|null|null|null|null|null|null|null|null| null|null|null|\n",
      "|    Lincolnshire|http://opendataco...|2019-02-27T00:00:00|2010-03-01T00:00:00|2010-05-31T00:00:00|      TRUE|England E & NE|             Season|2010|Spring|     108.6| 7.85|null|null|null|null|null|null|null|null|null|null|null|null|null|null|null|null|null|null|null|null|null| null|null|null|\n",
      "|    Lincolnshire|http://opendataco...|2019-02-27T00:00:00|2010-06-01T00:00:00|2010-08-31T00:00:00|      TRUE|England E & NE|             Season|2010|Summer|     180.5|15.08|null|null|null|null|null|null|null|null|null|null|null|null|null|null|null|null|null|null|null|null|null| null|null|null|\n",
      "|    Lincolnshire|http://opendataco...|2019-02-27T00:00:00|2010-09-01T00:00:00|2010-11-30T00:00:00|      TRUE|England E & NE|             Season|2010|Autumn|     267.2| 9.17|null|null|null|null|null|null|null|null|null|null|null|null|null|null|null|null|null|null|null|null|null| null|null|null|\n",
      "|    Lincolnshire|http://opendataco...|2019-02-27T00:00:00|2010-01-01T00:00:00|2010-12-31T00:00:00|      TRUE|England E & NE|      Calendar Year|2010|Annual|     738.3| 8.16|null|null|null|null|null|null|null|null|null|null|null|null|null|null|null|null|null|null|null|null|null| null|null|null|\n",
      "|    Lincolnshire|http://opendataco...|2019-02-27T00:00:00|2011-01-01T00:00:00|2011-01-31T00:00:00|      TRUE|England E & NE|            Monthly|2011|   JAN|      54.5|  3.1|null|null|null|null|null|null|null|null|null|null|null|null|null|null|null|null|null|null|null|null|null| null|null|null|\n",
      "|    Lincolnshire|http://opendataco...|2019-02-27T00:00:00|2011-02-01T00:00:00|2011-02-28T00:00:00|      TRUE|England E & NE|            Monthly|2011|   FEB|        82|  5.4|null|null|null|null|null|null|null|null|null|null|null|null|null|null|null|null|null|null|null|null|null| null|null|null|\n",
      "|    Lincolnshire|http://opendataco...|2019-02-27T00:00:00|2011-03-01T00:00:00|2011-03-31T00:00:00|      TRUE|England E & NE|            Monthly|2011|   MAR|      20.5|    6|null|null|null|null|null|null|null|null|null|null|null|null|null|null|null|null|null|null|null|null|null| null|null|null|\n",
      "+----------------+--------------------+-------------------+-------------------+-------------------+----------+--------------+-------------------+----+------+----------+-----+----+----+----+----+----+----+----+----+----+----+----+----+----+----+----+----+----+----+----+----+----+-----+----+----+\n",
      "only showing top 20 rows\n",
      "\n"
     ]
    }
   ],
   "source": [
    "# Read in data from S3 Buckets\n",
    "from pyspark import SparkFiles\n",
    "url = \"https://2u-data-curriculum-team.s3.amazonaws.com/dataviz-netflix/unit-7/rainfall_temperature.csv\"\n",
    "spark.sparkContext.addFile(url)\n",
    "df = spark.read.csv(SparkFiles.get(\"rainfall_temperature.csv\"), sep=\",\", header=True)\n",
    "\n",
    "# Show DataFrame\n",
    "df.show()"
   ]
  },
  {
   "cell_type": "code",
   "execution_count": 4,
   "metadata": {
    "id": "-agrCv9U1_aj"
   },
   "outputs": [],
   "source": [
    "def celsius_to_fahrenheit(temperature):\n",
    "  temperature = float(temperature)\n",
    "  temperature = (temperature * 1.8) + 32\n",
    "  return temperature"
   ]
  },
  {
   "cell_type": "code",
   "execution_count": 5,
   "metadata": {
    "colab": {
     "base_uri": "https://localhost:8080/"
    },
    "id": "TFCPqcJt8sN_",
    "outputId": "fd857ba1-7bdb-4679-e500-589984625719"
   },
   "outputs": [
    {
     "data": {
      "text/plain": [
       "<function __main__.celsius_to_fahrenheit>"
      ]
     },
     "execution_count": 5,
     "metadata": {
      "tags": []
     },
     "output_type": "execute_result"
    }
   ],
   "source": [
    "spark.udf.register(\"celsius_to_fahrenheit\", celsius_to_fahrenheit)"
   ]
  },
  {
   "cell_type": "code",
   "execution_count": null,
   "metadata": {
    "id": "VesipJvR-_YM"
   },
   "outputs": [],
   "source": [
    "df.createOrReplaceTempView(\"rainfall_temperature\")"
   ]
  },
  {
   "cell_type": "code",
   "execution_count": 6,
   "metadata": {
    "colab": {
     "base_uri": "https://localhost:8080/"
    },
    "id": "STO0dj4p38Zb",
    "outputId": "24a48fd9-7a0b-4efd-ced5-1f3a830566ca"
   },
   "outputs": [
    {
     "name": "stdout",
     "output_type": "stream",
     "text": [
      "+-------------------+---------------------------+\n",
      "|      PublishedDate|celsius_to_fahrenheit(Temp)|\n",
      "+-------------------+---------------------------+\n",
      "|2019-02-27T00:00:00|                      33.44|\n",
      "|2019-02-27T00:00:00|                      34.88|\n",
      "|2019-02-27T00:00:00|                       41.9|\n",
      "|2019-02-27T00:00:00|                      46.76|\n",
      "|2019-02-27T00:00:00|                      49.64|\n",
      "|2019-02-27T00:00:00|                      57.74|\n",
      "|2019-02-27T00:00:00|         61.519999999999996|\n",
      "|2019-02-27T00:00:00|                      58.28|\n",
      "|2019-02-27T00:00:00|         56.120000000000005|\n",
      "|2019-02-27T00:00:00|                      49.28|\n",
      "|2019-02-27T00:00:00|                       40.1|\n",
      "|2019-02-27T00:00:00|                      29.84|\n",
      "|2019-02-27T00:00:00|                     34.736|\n",
      "|2019-02-27T00:00:00|         46.129999999999995|\n",
      "|2019-02-27T00:00:00|         59.144000000000005|\n",
      "|2019-02-27T00:00:00|                     48.506|\n",
      "|2019-02-27T00:00:00|                     46.688|\n",
      "|2019-02-27T00:00:00|                      37.58|\n",
      "|2019-02-27T00:00:00|                      41.72|\n",
      "|2019-02-27T00:00:00|                       42.8|\n",
      "+-------------------+---------------------------+\n",
      "only showing top 20 rows\n",
      "\n"
     ]
    }
   ],
   "source": [
    "temp_df = spark.sql(\"SELECT PublishedDate, celsius_to_fahrenheit(Temp) FROM rainfall_temperature\")\n",
    "temp_df.show()"
   ]
  }
 ],
 "metadata": {
  "colab": {
   "collapsed_sections": [],
   "name": "RainfallTemperature.ipynb",
   "provenance": []
  },
  "kernelspec": {
   "display_name": "Python 3",
   "language": "python",
   "name": "python3"
  },
  "language_info": {
   "codemirror_mode": {
    "name": "ipython",
    "version": 3
   },
   "file_extension": ".py",
   "mimetype": "text/x-python",
   "name": "python",
   "nbconvert_exporter": "python",
   "pygments_lexer": "ipython3",
   "version": "3.7.4"
  }
 },
 "nbformat": 4,
 "nbformat_minor": 1
}
