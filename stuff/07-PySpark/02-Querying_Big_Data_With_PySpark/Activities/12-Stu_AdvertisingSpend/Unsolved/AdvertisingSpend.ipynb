{
 "cells": [
  {
   "cell_type": "code",
   "execution_count": 1,
   "metadata": {
    "colab": {
     "base_uri": "https://localhost:8080/"
    },
    "id": "bQaHTBHdDjQ3",
    "outputId": "a5e95580-b0fa-459d-f1e7-185a96aac612"
   },
   "outputs": [
    {
     "name": "stdout",
     "output_type": "stream",
     "text": [
      "\r",
      "0% [Working]\r",
      "            \r",
      "Get:1 http://ppa.launchpad.net/c2d4u.team/c2d4u4.0+/ubuntu bionic InRelease [15.9 kB]\n",
      "\r",
      "0% [Waiting for headers] [Connecting to security.ubuntu.com (91.189.91.38)] [Co\r",
      "0% [Waiting for headers] [Connecting to security.ubuntu.com (91.189.91.38)] [Co\r",
      "0% [1 InRelease gpgv 15.9 kB] [Waiting for headers] [Connecting to security.ubu\r",
      "                                                                               \r",
      "Hit:2 http://ppa.launchpad.net/cran/libgit2/ubuntu bionic InRelease\n",
      "\r",
      "0% [1 InRelease gpgv 15.9 kB] [Waiting for headers] [Connecting to security.ubu\r",
      "                                                                               \r",
      "Get:3 https://cloud.r-project.org/bin/linux/ubuntu bionic-cran40/ InRelease [3,626 B]\n",
      "\r",
      "0% [1 InRelease gpgv 15.9 kB] [Waiting for headers] [Connecting to security.ubu\r",
      "                                                                               \r",
      "Hit:4 http://archive.ubuntu.com/ubuntu bionic InRelease\n",
      "\r",
      "0% [1 InRelease gpgv 15.9 kB] [Waiting for headers] [Connecting to security.ubu\r",
      "                                                                               \r",
      "Get:5 http://archive.ubuntu.com/ubuntu bionic-updates InRelease [88.7 kB]\n",
      "\r",
      "0% [1 InRelease gpgv 15.9 kB] [5 InRelease 14.2 kB/88.7 kB 16%] [Connecting to \r",
      "                                                                               \r",
      "Get:6 http://ppa.launchpad.net/deadsnakes/ppa/ubuntu bionic InRelease [15.9 kB]\n",
      "\r",
      "0% [1 InRelease gpgv 15.9 kB] [5 InRelease 15.6 kB/88.7 kB 18%] [Connecting to \r",
      "0% [1 InRelease gpgv 15.9 kB] [5 InRelease 47.5 kB/88.7 kB 54%] [Connecting to \r",
      "0% [1 InRelease gpgv 15.9 kB] [Waiting for headers] [Waiting for headers] [Conn\r",
      "                                                                               \r",
      "Get:7 http://archive.ubuntu.com/ubuntu bionic-backports InRelease [74.6 kB]\n",
      "\r",
      "0% [1 InRelease gpgv 15.9 kB] [7 InRelease 8,393 B/74.6 kB 11%] [Waiting for he\r",
      "                                                                               \r",
      "Get:8 http://ppa.launchpad.net/graphics-drivers/ppa/ubuntu bionic InRelease [21.3 kB]\n",
      "\r",
      "0% [1 InRelease gpgv 15.9 kB] [7 InRelease 34.5 kB/74.6 kB 46%] [Waiting for he\r",
      "0% [1 InRelease gpgv 15.9 kB] [Waiting for headers] [8 InRelease 14.2 kB/21.3 k\r",
      "                                                                               \r",
      "0% [1 InRelease gpgv 15.9 kB] [Waiting for headers] [Waiting for headers]\r",
      "                                                                         \r",
      "Get:9 http://security.ubuntu.com/ubuntu bionic-security InRelease [88.7 kB]\n",
      "Ign:10 https://developer.download.nvidia.com/compute/cuda/repos/ubuntu1804/x86_64  InRelease\n",
      "Ign:11 https://developer.download.nvidia.com/compute/machine-learning/repos/ubuntu1804/x86_64  InRelease\n",
      "Get:12 https://developer.download.nvidia.com/compute/cuda/repos/ubuntu1804/x86_64  Release [697 B]\n",
      "Get:13 https://developer.download.nvidia.com/compute/machine-learning/repos/ubuntu1804/x86_64  Release [564 B]\n",
      "Get:14 http://ppa.launchpad.net/c2d4u.team/c2d4u4.0+/ubuntu bionic/main Sources [1,745 kB]\n",
      "Get:15 https://developer.download.nvidia.com/compute/cuda/repos/ubuntu1804/x86_64  Release.gpg [836 B]\n",
      "Get:16 https://developer.download.nvidia.com/compute/machine-learning/repos/ubuntu1804/x86_64  Release.gpg [833 B]\n",
      "Get:17 http://ppa.launchpad.net/c2d4u.team/c2d4u4.0+/ubuntu bionic/main amd64 Packages [893 kB]\n",
      "Get:18 http://ppa.launchpad.net/deadsnakes/ppa/ubuntu bionic/main amd64 Packages [39.5 kB]\n",
      "Get:19 http://archive.ubuntu.com/ubuntu bionic-updates/main amd64 Packages [2,394 kB]\n",
      "Get:20 http://archive.ubuntu.com/ubuntu bionic-updates/multiverse amd64 Packages [31.4 kB]\n",
      "Get:21 http://archive.ubuntu.com/ubuntu bionic-updates/restricted amd64 Packages [353 kB]\n",
      "Get:22 http://archive.ubuntu.com/ubuntu bionic-updates/universe amd64 Packages [2,163 kB]\n",
      "Get:23 http://ppa.launchpad.net/graphics-drivers/ppa/ubuntu bionic/main amd64 Packages [49.4 kB]\n",
      "Ign:24 https://developer.download.nvidia.com/compute/cuda/repos/ubuntu1804/x86_64  Packages\n",
      "Get:24 https://developer.download.nvidia.com/compute/cuda/repos/ubuntu1804/x86_64  Packages [577 kB]\n",
      "Get:25 http://security.ubuntu.com/ubuntu bionic-security/main amd64 Packages [1,963 kB]\n",
      "Get:26 https://developer.download.nvidia.com/compute/machine-learning/repos/ubuntu1804/x86_64  Packages [73.8 kB]\n",
      "Get:27 http://security.ubuntu.com/ubuntu bionic-security/restricted amd64 Packages [324 kB]\n",
      "Get:28 http://security.ubuntu.com/ubuntu bionic-security/universe amd64 Packages [1,396 kB]\n",
      "Get:29 http://security.ubuntu.com/ubuntu bionic-security/multiverse amd64 Packages [24.5 kB]\n",
      "Fetched 12.3 MB in 3s (3,935 kB/s)\n",
      "Reading package lists... Done\n"
     ]
    }
   ],
   "source": [
    "import os\n",
    "# Find the latest version of spark 3.0  from http://www-us.apache.org/dist/spark/ and enter as the spark version\n",
    "# For example:\n",
    "# spark_version = 'spark-3.0.2'\n",
    "spark_version = 'spark-3.0.2'\n",
    "os.environ['SPARK_VERSION']=spark_version\n",
    "\n",
    "# Install Spark and Java\n",
    "!apt-get update\n",
    "!apt-get install openjdk-11-jdk-headless -qq > /dev/null\n",
    "!wget -q http://www-us.apache.org/dist/spark/$SPARK_VERSION/$SPARK_VERSION-bin-hadoop2.7.tgz\n",
    "!tar xf $SPARK_VERSION-bin-hadoop2.7.tgz\n",
    "!pip install -q findspark\n",
    "\n",
    "# Set Environment Variables\n",
    "os.environ[\"JAVA_HOME\"] = \"/usr/lib/jvm/java-11-openjdk-amd64\"\n",
    "os.environ[\"SPARK_HOME\"] = f\"/content/{spark_version}-bin-hadoop2.7\"\n",
    "\n",
    "# Start a SparkSession\n",
    "import findspark\n",
    "findspark.init()"
   ]
  },
  {
   "cell_type": "code",
   "execution_count": 2,
   "metadata": {
    "id": "FlPvSb1NDl7T"
   },
   "outputs": [],
   "source": [
    "# Start Spark session\n",
    "from pyspark.sql import SparkSession\n",
    "spark = SparkSession.builder.appName(\"Advertising Spend\").config(\"spark.driver.extraClassPath\",\"/content/postgresql-42.2.9.jar\").getOrCreate()"
   ]
  },
  {
   "cell_type": "code",
   "execution_count": 3,
   "metadata": {
    "colab": {
     "base_uri": "https://localhost:8080/"
    },
    "id": "JJBjxOtMDpMz",
    "outputId": "48331978-8004-4534-aa52-42e8dd23664c"
   },
   "outputs": [
    {
     "name": "stdout",
     "output_type": "stream",
     "text": [
      "+------------------+------------------+------------------+------------------+------------------+------------------+------------------+------------------+------------------+------------------+------------------+------------------+------------------+------------------+------------------+\n",
      "|              Type|            Source|              2012|              2013|              2014|              2015|              2016|              2017|              2018|              2019|              2020|              2021|              2022|              2023|              2024|\n",
      "+------------------+------------------+------------------+------------------+------------------+------------------+------------------+------------------+------------------+------------------+------------------+------------------+------------------+------------------+------------------+\n",
      "|          Total TV|          Total TV|  \t60,914,800,000 |  \t62,895,700,000 |  \t64,401,700,000 |  \t65,382,100,000 |  \t67,440,100,000 |  \t66,286,100,000 |  \t64,837,900,000 |  \t64,998,900,000 |  \t52,560,300,000 |  \t53,182,800,000 |  \t51,431,600,000 |  \t52,055,300,000 |  \t52,196,700,000 |\n",
      "|                TV|       National TV|  \t38,584,900,000 |  \t39,577,100,000 |  \t41,064,200,000 |  \t41,313,100,000 |  \t43,416,800,000 |  \t41,835,600,000 |  \t42,992,300,000 |  \t42,855,800,000 |  \t38,024,800,000 |  \t40,138,700,000 |  \t40,227,300,000 |  \t40,285,000,000 |  \t40,310,100,000 |\n",
      "|                TV|          Local TV|  \t22,329,900,000 |  \t23,318,600,000 |  \t23,337,500,000 |  \t24,069,000,000 |  \t24,023,300,000 |  \t24,450,500,000 |  \t21,845,600,000 |  \t22,143,100,000 |  \t14,535,500,000 |  \t13,044,100,000 |  \t11,204,300,000 |  \t11,770,200,000 |  \t11,886,600,000 |\n",
      "|             Radio|       Total Radio|  \t16,303,500,000 |  \t16,591,300,000 |  \t16,165,600,000 |  \t16,385,700,000 |  \t16,554,800,000 |  \t16,712,100,000 |  \t15,990,700,000 |  \t16,420,500,000 |  \t12,085,400,000 |  \t11,179,500,000 |  \t10,957,000,000 |  \t10,711,200,000 |  \t10,440,800,000 |\n",
      "|        Newspapers|  Total Newspapers|  \t24,926,500,000 |  \t23,503,000,000 |  \t21,677,800,000 |  \t20,269,200,000 |  \t17,802,400,000 |  \t16,374,600,000 |  \t13,939,500,000 |  \t12,346,600,000 |   \t8,257,200,000 |   \t6,473,200,000 |   \t5,551,800,000 |   \t4,569,300,000 |   \t3,522,900,000 |\n",
      "|         Magazines|   Total Magazines|  \t19,370,500,000 |  \t18,927,500,000 |  \t17,247,000,000 |  \t15,841,800,000 |  \t14,306,900,000 |  \t13,101,300,000 |  \t11,805,400,000 |  \t10,798,200,000 |   \t8,480,000,000 |   \t7,089,400,000 |   \t6,186,500,000 |   \t5,223,000,000 |   \t4,196,200,000 |\n",
      "|             Other|       Out-of-Home|   \t6,516,700,000 |   \t6,889,900,000 |   \t6,806,000,000 |   \t7,282,500,000 |   \t7,319,700,000 |   \t7,599,100,000 |   \t7,714,400,000 |   \t8,358,800,000 |   \t6,607,600,000 |   \t7,083,800,000 |   \t7,296,300,000 |   \t7,515,200,000 |   \t7,740,700,000 |\n",
      "|             Other|       Direct Mail|  \t16,257,400,000 |  \t16,814,000,000 |  \t17,327,400,000 |  \t17,479,000,000 |  \t16,864,500,000 |  \t16,266,000,000 |  \t16,097,000,000 |  \t15,887,600,000 |  \t13,401,000,000 |  \t13,074,200,000 |  \t12,730,200,000 |  \t12,353,700,000 |  \t11,943,200,000 |\n",
      "|             Other|       Directories|   \t6,129,000,000 |   \t4,486,000,000 |   \t4,707,000,000 |   \t4,320,000,000 |   \t3,758,000,000 |   \t3,342,000,000 |   \t2,706,000,000 |   \t2,118,100,000 |   \t1,321,400,000 |     \t874,400,000 |     \t621,700,000 |     \t353,100,000 |      \t67,800,000 |\n",
      "|Pure-Play Internet|Pure-Play Internet|  \t28,385,000,000 |  \t32,883,500,000 |  \t38,450,000,000 |  \t46,840,200,000 |  \t57,679,700,000 |  \t73,504,300,000 |  \t90,492,100,000 | \t107,888,900,000 | \t105,213,900,000 | \t117,660,400,000 | \t128,341,100,000 | \t137,028,800,000 | \t146,595,700,000 |\n",
      "|Pure-Play Internet|            Search|  \t18,858,000,000 |  \t21,278,900,000 |  \t24,876,600,000 |  \t29,233,800,000 |  \t33,870,300,000 |  \t40,410,100,000 |  \t47,610,800,000 |  \t54,322,400,000 |  \t52,975,500,000 |  \t59,242,400,000 |  \t63,015,900,000 |  \t65,911,300,000 |  \t69,047,000,000 |\n",
      "|Pure-Play Internet|         Ex-Search|   \t9,527,000,000 |  \t11,604,600,000 |  \t13,573,400,000 |  \t17,606,300,000 |  \t23,809,300,000 |  \t33,094,200,000 |  \t42,881,300,000 |  \t53,566,500,000 |  \t52,238,400,000 |  \t58,418,100,000 |  \t65,325,300,000 |  \t71,117,600,000 |  \t77,548,700,000 |\n",
      "|       Media total|       Media total| \t178,803,500,000 | \t182,990,900,000 | \t186,782,500,000 | \t193,800,600,000 | \t201,726,100,000 | \t213,185,500,000 | \t223,582,800,000 | \t238,817,500,000 | \t207,926,900,000 | \t216,617,700,000 | \t223,116,300,000 | \t229,809,800,000 | \t236,704,100,000 |\n",
      "+------------------+------------------+------------------+------------------+------------------+------------------+------------------+------------------+------------------+------------------+------------------+------------------+------------------+------------------+------------------+\n",
      "\n"
     ]
    }
   ],
   "source": [
    "# Read in data from S3 Buckets\n",
    "from pyspark import SparkFiles\n",
    "url = \"https://2u-data-curriculum-team.s3.amazonaws.com/dataviz-netflix/unit-7/AdvertisingSpend.csv\"\n",
    "spark.sparkContext.addFile(url)\n",
    "df = spark.read.csv(SparkFiles.get(\"AdvertisingSpend.csv\"), sep=\",\", header=True)\n",
    "\n",
    "# Show DataFrame\n",
    "df.show()"
   ]
  }
 ],
 "metadata": {
  "colab": {
   "collapsed_sections": [],
   "name": "AdvertisingSpend.ipynb",
   "provenance": []
  },
  "kernelspec": {
   "display_name": "Python 3",
   "language": "python",
   "name": "python3"
  },
  "language_info": {
   "codemirror_mode": {
    "name": "ipython",
    "version": 3
   },
   "file_extension": ".py",
   "mimetype": "text/x-python",
   "name": "python",
   "nbconvert_exporter": "python",
   "pygments_lexer": "ipython3",
   "version": "3.7.4"
  }
 },
 "nbformat": 4,
 "nbformat_minor": 1
}
