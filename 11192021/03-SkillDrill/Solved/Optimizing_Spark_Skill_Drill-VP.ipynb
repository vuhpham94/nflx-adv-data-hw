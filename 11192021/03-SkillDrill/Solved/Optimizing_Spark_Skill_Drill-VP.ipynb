{
  "nbformat": 4,
  "nbformat_minor": 0,
  "metadata": {
    "colab": {
      "name": "Optimizing Spark Skill Drill_UnSolved",
      "provenance": [],
      "collapsed_sections": []
    },
    "kernelspec": {
      "name": "python3",
      "display_name": "Python 3"
    },
    "language_info": {
      "name": "python"
    }
  },
  "cells": [
    {
      "cell_type": "markdown",
      "metadata": {
        "id": "Kcbx0f2q27rD"
      },
      "source": [
        " # Skill Drill: Putting it ALL together\n",
        " ## Overview\n",
        "\n",
        " A VP at your company has written a SQL for a report that shows how much time is being lost due to flight delays by Airport and Carrier.  It is performing below expectations.  Using all of the optimizing skills you have learned in Unit 8, get this query to run as fast as possible.\n",
        "\n",
        "\n",
        "---\n",
        "\n",
        "---\n",
        "\n",
        "\n",
        "\n",
        "\n",
        " Hint: Initial query takes between 15-20 seconds.  Final query should be <2 seconds\n"
      ]
    },
    {
      "cell_type": "code",
      "metadata": {
        "colab": {
          "base_uri": "https://localhost:8080/"
        },
        "id": "eGA5-htN6oEN",
        "outputId": "c4058839-427c-48b7-fb03-c430dc6fc38e"
      },
      "source": [
        "# activate Spark in our Colab notebook.\n",
        "import os\n",
        "# Find the latest version of spark 3.0  from http://www-us.apache.org/dist/spark/ and enter as the spark version\n",
        "# For example:\n",
        "spark_version = 'spark-3.0.2'\n",
        "# spark_version = 'spark-3.<enter version>'\n",
        "os.environ['SPARK_VERSION']=spark_version\n",
        "\n",
        "# Install Spark and Java\n",
        "!apt-get update\n",
        "!apt-get install openjdk-11-jdk-headless -qq > /dev/null\n",
        "!wget -q http://www-us.apache.org/dist/spark/$SPARK_VERSION/$SPARK_VERSION-bin-hadoop2.7.tgz\n",
        "!tar xf $SPARK_VERSION-bin-hadoop2.7.tgz\n",
        "!pip install -q findspark\n",
        "\n",
        "# Set Environment Variables\n",
        "os.environ[\"JAVA_HOME\"] = \"/usr/lib/jvm/java-11-openjdk-amd64\"\n",
        "os.environ[\"SPARK_HOME\"] = f\"/content/{spark_version}-bin-hadoop2.7\"\n",
        "\n",
        "# Start a SparkSession\n",
        "import findspark\n",
        "findspark.init()"
      ],
      "execution_count": null,
      "outputs": [
        {
          "output_type": "stream",
          "text": [
            "Get:1 https://cloud.r-project.org/bin/linux/ubuntu bionic-cran40/ InRelease [3,626 B]\n",
            "Ign:2 https://developer.download.nvidia.com/compute/cuda/repos/ubuntu1804/x86_64  InRelease\n",
            "Ign:3 https://developer.download.nvidia.com/compute/machine-learning/repos/ubuntu1804/x86_64  InRelease\n",
            "Hit:4 https://developer.download.nvidia.com/compute/cuda/repos/ubuntu1804/x86_64  Release\n",
            "Hit:5 https://developer.download.nvidia.com/compute/machine-learning/repos/ubuntu1804/x86_64  Release\n",
            "Get:6 http://security.ubuntu.com/ubuntu bionic-security InRelease [88.7 kB]\n",
            "Hit:8 http://archive.ubuntu.com/ubuntu bionic InRelease\n",
            "Get:9 http://ppa.launchpad.net/c2d4u.team/c2d4u4.0+/ubuntu bionic InRelease [15.9 kB]\n",
            "Get:11 http://archive.ubuntu.com/ubuntu bionic-updates InRelease [88.7 kB]\n",
            "Hit:12 http://ppa.launchpad.net/cran/libgit2/ubuntu bionic InRelease\n",
            "Get:13 http://security.ubuntu.com/ubuntu bionic-security/restricted amd64 Packages [344 kB]\n",
            "Get:14 http://archive.ubuntu.com/ubuntu bionic-backports InRelease [74.6 kB]\n",
            "Hit:15 http://ppa.launchpad.net/deadsnakes/ppa/ubuntu bionic InRelease\n",
            "Get:16 http://archive.ubuntu.com/ubuntu bionic-updates/main amd64 Packages [2,475 kB]\n",
            "Get:17 http://ppa.launchpad.net/graphics-drivers/ppa/ubuntu bionic InRelease [21.3 kB]\n",
            "Get:18 http://security.ubuntu.com/ubuntu bionic-security/universe amd64 Packages [1,400 kB]\n",
            "Get:19 http://ppa.launchpad.net/c2d4u.team/c2d4u4.0+/ubuntu bionic/main Sources [1,748 kB]\n",
            "Get:20 http://security.ubuntu.com/ubuntu bionic-security/main amd64 Packages [2,031 kB]\n",
            "Get:21 http://archive.ubuntu.com/ubuntu bionic-updates/restricted amd64 Packages [378 kB]\n",
            "Get:22 http://archive.ubuntu.com/ubuntu bionic-updates/universe amd64 Packages [2,170 kB]\n",
            "Get:23 http://ppa.launchpad.net/c2d4u.team/c2d4u4.0+/ubuntu bionic/main amd64 Packages [894 kB]\n",
            "Get:24 http://ppa.launchpad.net/graphics-drivers/ppa/ubuntu bionic/main amd64 Packages [49.4 kB]\n",
            "Fetched 11.8 MB in 7s (1,612 kB/s)\n",
            "Reading package lists... Done\n"
          ],
          "name": "stdout"
        }
      ]
    },
    {
      "cell_type": "code",
      "metadata": {
        "id": "pIUo9MYO6vlj"
      },
      "source": [
        "#import packages\n",
        "\n",
        "from pyspark.sql import SparkSession\n",
        "from pyspark.sql import Row\n",
        "from pyspark.sql.types import StructType,StructField,StringType, DateType,IntegerType\n",
        "import pandas as pd\n",
        "\n",
        "# we are going to use this to time our queries.\n",
        "import time\n",
        "\n",
        "# Create a SparkSession\n",
        "spark = SparkSession.builder.appName(\"SparkSQL\").getOrCreate()"
      ],
      "execution_count": null,
      "outputs": []
    },
    {
      "cell_type": "code",
      "metadata": {
        "id": "Ej6Sabcd-1At"
      },
      "source": [
        "# Read in data from S3 Bucket\n",
        "from pyspark import SparkFiles\n",
        "url = \"https://2u-data-curriculum-team.s3.amazonaws.com/dataviz-netflix/DelayedFlights.csv\"\n",
        "spark.sparkContext.addFile(url)\n",
        "df = spark.read.csv(SparkFiles.get(\"DelayedFlights.csv\"), sep=\",\", header=True)\n",
        "url_cities='https://2u-data-curriculum-team.s3.amazonaws.com/dataviz-netflix/cities500.txt'\n",
        "spark.sparkContext.addFile(url_cities)\n",
        "df_lookup_geo = spark.read.csv(SparkFiles.get(\"cities500.txt\"), sep=\"\\t\", header=True)\n",
        "\n",
        "# we are going to do a lookup here as well so upload the airportCodes.csv file from you Resources directory \n",
        "df_lookup_city_name=spark.read.csv('/content/airportCodes.csv', sep=',', header=True)\n"
      ],
      "execution_count": null,
      "outputs": []
    },
    {
      "cell_type": "code",
      "metadata": {
        "id": "5DFhjm5Z_O5Z"
      },
      "source": [
        "#Create temporary views for each of our dataframes\n",
        "# We are going to filter the data to US only as we create the Temp Views.\n",
        "\n",
        "df.createOrReplaceTempView('delayed')\n",
        "df_lookup_city_name.createOrReplaceTempView('lookup_city')\n",
        "df_lookup_geo.createOrReplaceTempView('lookup_geo')"
      ],
      "execution_count": null,
      "outputs": []
    },
    {
      "cell_type": "code",
      "metadata": {
        "id": "fhgb2iFihRbW",
        "colab": {
          "base_uri": "https://localhost:8080/"
        },
        "outputId": "a0d83fa7-646c-4a0a-d384-b907dd5a9b56"
      },
      "source": [
        "# Here is the  initial query presented to you for optimization\n",
        "# Note the runtime\n",
        "start_time = time.time()\n",
        "\n",
        "spark.sql(\"\"\"\n",
        "with allColumns\n",
        "(select \n",
        "a.Year,\n",
        "a.Month,\n",
        "a.DayofMonth,\n",
        "a.DayOfWeek,\n",
        "a.DepTime,\n",
        "a.CRSDepTime,\n",
        "a.ArrTime,\n",
        "a.CRSArrTime,\n",
        "a.UniqueCarrier,\n",
        "a.FlightNum,\n",
        "a.TailNum,\n",
        "a.ActualElapsedTime,\n",
        "a.CRSElapsedTime,\n",
        "a.AirTime,\n",
        "a.ArrDelay,\n",
        "a.DepDelay,\n",
        "a.Origin,\n",
        "b.City as Origin_City,\n",
        "geo.latitude as Origin_latitude,\n",
        "geo.longitude as Origin_longitude,\n",
        "a.Dest,\n",
        "c.City as Dest_City,\n",
        "geo_dest.latitude as Dest_latitude,\n",
        "geo_dest.longitude as Dest_longitude,\n",
        "a.Distance,\n",
        "a.TaxiIn,\n",
        "a.TaxiOut,\n",
        "a.Cancelled,\n",
        "a.CancellationCode,\n",
        "a.Diverted,\n",
        "a.CarrierDelay,\n",
        "a.WeatherDelay,\n",
        "a.NASDelay,\n",
        "a.SecurityDelay,\n",
        "a.LateAircraftDelay from  delayed a \n",
        "  inner join lookup_city b\n",
        "    on a.Origin=b.airportCode\n",
        "  inner join lookup_city c\n",
        "    on a.Dest=c.airportCode\n",
        "  inner join lookup_geo geo\n",
        "on split(b.City,',')[0]=geo.name\n",
        "     and trim(split(b.City,',')[1])=geo.admin1_code\n",
        "  inner join lookup_geo geo_dest\n",
        "    on c.City=concat(geo_dest.name,', ',geo_dest.admin1_code)\n",
        ")\n",
        "select Origin, UniqueCarrier, Origin_City, Origin_latitude, Origin_Longitude, Dest_latitude, Dest_longitude, max(DepDelay) as delayed, avg(CarrierDelay) avgCarrierDelay \n",
        "from allColumns \n",
        "group by Origin, UniqueCarrier, Origin_City, Origin_latitude, Origin_Longitude, Dest_latitude, Dest_longitude\n",
        "\"\"\").show()\n",
        "\n",
        "print(\"--- %s seconds ---\" % (time.time() - start_time))"
      ],
      "execution_count": null,
      "outputs": [
        {
          "output_type": "stream",
          "text": [
            "+------+-------------+-------------+---------------+----------------+-------------+--------------+-------+------------------+\n",
            "|Origin|UniqueCarrier|  Origin_City|Origin_latitude|Origin_Longitude|Dest_latitude|Dest_longitude|delayed|   avgCarrierDelay|\n",
            "+------+-------------+-------------+---------------+----------------+-------------+--------------+-------+------------------+\n",
            "|   ABE|           OO|Allentown, PA|       40.60843|       -75.49018|     33.52066|     -86.80249|   11.0|              null|\n",
            "|   ALB|           OH|   Albany, NY|       42.65258|       -73.75623|     42.35843|     -71.05977|   55.0|               0.0|\n",
            "|   ALB|           WN|   Albany, NY|       42.65258|       -73.75623|     39.29038|     -76.61219|   99.0| 8.203647416413373|\n",
            "|   ASE|           OO|    Aspen, CO|        39.1911|      -106.81754|       33.749|     -84.38798|   82.0|               6.0|\n",
            "|   ATL|           9E|  Atlanta, GA|         33.749|       -84.38798|     33.52066|     -86.80249|   94.0|15.083333333333334|\n",
            "|   ATL|           9E|  Atlanta, GA|         33.749|       -84.38798|     39.29038|     -76.61219|    6.0|              null|\n",
            "|   ATL|           DL|  Atlanta, GA|         33.749|       -84.38798|     30.26715|     -97.74306|   99.0| 20.12719298245614|\n",
            "|   ATL|           DL|  Atlanta, GA|         33.749|       -84.38798|     33.52066|     -86.80249|   98.0|            19.856|\n",
            "|   ATL|           DL|  Atlanta, GA|         33.749|       -84.38798|     41.08144|     -81.51901|    7.0| 17.11111111111111|\n",
            "|   ATL|           DL|  Atlanta, GA|         33.749|       -84.38798|     61.21806|    -149.90028|    9.0|             25.75|\n",
            "|   ATL|           EV|  Atlanta, GA|         33.749|       -84.38798|     39.29038|     -76.61219|   82.0|              17.6|\n",
            "|   ATL|           EV|  Atlanta, GA|         33.749|       -84.38798|     39.36415|     -74.42306|    9.0|  46.1578947368421|\n",
            "|   ATL|           EV|  Atlanta, GA|         33.749|       -84.38798|     41.08144|     -81.51901|   99.0| 30.99437148217636|\n",
            "|   ATL|           OH|  Atlanta, GA|         33.749|       -84.38798|     30.44332|     -91.18747|   82.0| 48.13333333333333|\n",
            "|   ATL|           OH|  Atlanta, GA|         33.749|       -84.38798|     40.60843|     -75.49018|    8.0|              16.5|\n",
            "|   ATL|           OO|  Atlanta, GA|         33.749|       -84.38798|     33.52066|     -86.80249|   31.0|               0.0|\n",
            "|   ATL|           OO|  Atlanta, GA|         33.749|       -84.38798|      39.1911|    -106.81754|   81.0|13.571428571428571|\n",
            "|   ATW|           OH| Appleton, WI|       44.26193|       -88.41538|       33.749|     -84.38798|   70.0|             46.25|\n",
            "|   AUS|           DL|   Austin, TX|       30.26715|       -97.74306|       33.749|     -84.38798|   96.0| 22.71904761904762|\n",
            "|   AUS|           OH|   Austin, TX|       30.26715|       -97.74306|       33.749|     -84.38798|   90.0|             43.64|\n",
            "+------+-------------+-------------+---------------+----------------+-------------+--------------+-------+------------------+\n",
            "only showing top 20 rows\n",
            "\n",
            "--- 7.551138877868652 seconds ---\n"
          ],
          "name": "stdout"
        }
      ]
    },
    {
      "cell_type": "code",
      "metadata": {
        "id": "_797bPxUaFOY"
      },
      "source": [
        "#partition the largest table\n"
      ],
      "execution_count": null,
      "outputs": []
    },
    {
      "cell_type": "code",
      "metadata": {
        "id": "7R7wBwdVbk-f"
      },
      "source": [
        "# read the new parquet formatted data\n"
      ],
      "execution_count": null,
      "outputs": []
    },
    {
      "cell_type": "code",
      "metadata": {
        "id": "5oWokIp2b0Ba"
      },
      "source": [
        "# create a view (same name as before so we don't have change our SQL)\n",
        "p_df.createOrReplaceTempView('delayed')"
      ],
      "execution_count": null,
      "outputs": []
    },
    {
      "cell_type": "code",
      "metadata": {
        "id": "Oc4uyu-sb8zY"
      },
      "source": [
        "# run 2 after storing the data more appropriately and partitioning\n",
        "\n",
        "# Note the runtime\n",
        "start_time = time.time()\n",
        "\n",
        "spark.sql(\"\"\"\n",
        "with allColumns\n",
        "(select \n",
        "a.Year,\n",
        "a.Month,\n",
        "a.DayofMonth,\n",
        "a.DayOfWeek,\n",
        "a.DepTime,\n",
        "a.CRSDepTime,\n",
        "a.ArrTime,\n",
        "a.CRSArrTime,\n",
        "a.UniqueCarrier,\n",
        "a.FlightNum,\n",
        "a.TailNum,\n",
        "a.ActualElapsedTime,\n",
        "a.CRSElapsedTime,\n",
        "a.AirTime,\n",
        "a.ArrDelay,\n",
        "a.DepDelay,\n",
        "a.Origin,\n",
        "b.City as Origin_City,\n",
        "geo.latitude as Origin_latitude,\n",
        "geo.longitude as Origin_longitude,\n",
        "a.Dest,\n",
        "c.City as Dest_City,\n",
        "geo_dest.latitude as Dest_latitude,\n",
        "geo_dest.longitude as Dest_longitude,\n",
        "a.Distance,\n",
        "a.TaxiIn,\n",
        "a.TaxiOut,\n",
        "a.Cancelled,\n",
        "a.CancellationCode,\n",
        "a.Diverted,\n",
        "a.CarrierDelay,\n",
        "a.WeatherDelay,\n",
        "a.NASDelay,\n",
        "a.SecurityDelay,\n",
        "a.LateAircraftDelay from  delayed a \n",
        "  inner join lookup_city b\n",
        "    on a.Origin=b.airportCode\n",
        "  inner join lookup_city c\n",
        "    on a.Dest=c.airportCode\n",
        "  inner join lookup_geo geo\n",
        "on split(b.City,',')[0]=geo.name\n",
        "     and trim(split(b.City,',')[1])=geo.admin1_code\n",
        "  inner join lookup_geo geo_dest\n",
        "    on c.City=concat(geo_dest.name,', ',geo_dest.admin1_code)\n",
        ")\n",
        "select Origin, UniqueCarrier, Origin_City, Origin_latitude, Origin_Longitude, Dest_latitude, Dest_longitude, max(DepDelay) as delayed, avg(CarrierDelay) avgCarrierDelay \n",
        "from allColumns \n",
        "group by Origin, UniqueCarrier, Origin_City, Origin_latitude, Origin_Longitude, Dest_latitude, Dest_longitude\n",
        "\"\"\").show()\n",
        "\n",
        "print(\"--- %s seconds ---\" % (time.time() - start_time))"
      ],
      "execution_count": null,
      "outputs": []
    },
    {
      "cell_type": "code",
      "metadata": {
        "id": "4f3iZbtlcMZ6"
      },
      "source": [
        "# Recall that the default shuffle partitions is 200.  We want to bring that down to a reasonable size for both our data and our Spark cluster\n",
        "# 4 is reasonable for a free Colab \n"
      ],
      "execution_count": null,
      "outputs": []
    },
    {
      "cell_type": "code",
      "metadata": {
        "id": "kvYdTGRCcQjN"
      },
      "source": [
        "# Run 3 after setting the shuffle partitions to a more appropriate number\n",
        "# Note the runtime\n",
        "start_time = time.time()\n",
        "\n",
        "spark.sql(\"\"\"\n",
        "with allColumns\n",
        "(select \n",
        "a.Year,\n",
        "a.Month,\n",
        "a.DayofMonth,\n",
        "a.DayOfWeek,\n",
        "a.DepTime,\n",
        "a.CRSDepTime,\n",
        "a.ArrTime,\n",
        "a.CRSArrTime,\n",
        "a.UniqueCarrier,\n",
        "a.FlightNum,\n",
        "a.TailNum,\n",
        "a.ActualElapsedTime,\n",
        "a.CRSElapsedTime,\n",
        "a.AirTime,\n",
        "a.ArrDelay,\n",
        "a.DepDelay,\n",
        "a.Origin,\n",
        "b.City as Origin_City,\n",
        "geo.latitude as Origin_latitude,\n",
        "geo.longitude as Origin_longitude,\n",
        "a.Dest,\n",
        "c.City as Dest_City,\n",
        "geo_dest.latitude as Dest_latitude,\n",
        "geo_dest.longitude as Dest_longitude,\n",
        "a.Distance,\n",
        "a.TaxiIn,\n",
        "a.TaxiOut,\n",
        "a.Cancelled,\n",
        "a.CancellationCode,\n",
        "a.Diverted,\n",
        "a.CarrierDelay,\n",
        "a.WeatherDelay,\n",
        "a.NASDelay,\n",
        "a.SecurityDelay,\n",
        "a.LateAircraftDelay from  delayed a \n",
        "  inner join lookup_city b\n",
        "    on a.Origin=b.airportCode\n",
        "  inner join lookup_city c\n",
        "    on a.Dest=c.airportCode\n",
        "  inner join lookup_geo geo\n",
        "on split(b.City,',')[0]=geo.name\n",
        "     and trim(split(b.City,',')[1])=geo.admin1_code\n",
        "  inner join lookup_geo geo_dest\n",
        "    on c.City=concat(geo_dest.name,', ',geo_dest.admin1_code)\n",
        ")\n",
        "select Origin, UniqueCarrier, Origin_City, Origin_latitude, Origin_Longitude, Dest_latitude, Dest_longitude, max(DepDelay) as delayed, avg(CarrierDelay) avgCarrierDelay \n",
        "from allColumns \n",
        "group by Origin, UniqueCarrier, Origin_City, Origin_latitude, Origin_Longitude, Dest_latitude, Dest_longitude\n",
        "\"\"\").show()\n",
        "\n",
        "print(\"--- %s seconds ---\" % (time.time() - start_time))"
      ],
      "execution_count": null,
      "outputs": []
    },
    {
      "cell_type": "code",
      "metadata": {
        "colab": {
          "base_uri": "https://localhost:8080/"
        },
        "id": "mPR_2uq0vdyt",
        "outputId": "d5ab7ab2-41d1-4b73-c5ca-5864e2092f09"
      },
      "source": [
        "# cache your largest temporary view\n",
        "# Note: when we use SparkSQL to cache a table, the table is immediately cached (no lazy evaluation), when using Pyspark it will not be cached until an action is ran.\n"
      ],
      "execution_count": null,
      "outputs": [
        {
          "output_type": "execute_result",
          "data": {
            "text/plain": [
              "DataFrame[]"
            ]
          },
          "metadata": {
            "tags": []
          },
          "execution_count": 44
        }
      ]
    },
    {
      "cell_type": "code",
      "metadata": {
        "colab": {
          "base_uri": "https://localhost:8080/"
        },
        "id": "eodqtIHByC2J",
        "outputId": "5c373ba8-c5df-4621-84dc-34d006697f66"
      },
      "source": [
        "# check that your table is cached \n",
        "spark.catalog.isCached(\"delayed\")"
      ],
      "execution_count": null,
      "outputs": [
        {
          "output_type": "execute_result",
          "data": {
            "text/plain": [
              "True"
            ]
          },
          "metadata": {
            "tags": []
          },
          "execution_count": 45
        }
      ]
    },
    {
      "cell_type": "code",
      "metadata": {
        "id": "jP7129kUda1b"
      },
      "source": [
        "# Run 4 - after caching driver table\n",
        "# Note the runtime\n",
        "start_time = time.time()\n",
        "\n",
        "spark.sql(\"\"\"\n",
        "with allColumns\n",
        "(select \n",
        "a.Year,\n",
        "a.Month,\n",
        "a.DayofMonth,\n",
        "a.DayOfWeek,\n",
        "a.DepTime,\n",
        "a.CRSDepTime,\n",
        "a.ArrTime,\n",
        "a.CRSArrTime,\n",
        "a.UniqueCarrier,\n",
        "a.FlightNum,\n",
        "a.TailNum,\n",
        "a.ActualElapsedTime,\n",
        "a.CRSElapsedTime,\n",
        "a.AirTime,\n",
        "a.ArrDelay,\n",
        "a.DepDelay,\n",
        "a.Origin,\n",
        "b.City as Origin_City,\n",
        "geo.latitude as Origin_latitude,\n",
        "geo.longitude as Origin_longitude,\n",
        "a.Dest,\n",
        "c.City as Dest_City,\n",
        "geo_dest.latitude as Dest_latitude,\n",
        "geo_dest.longitude as Dest_longitude,\n",
        "a.Distance,\n",
        "a.TaxiIn,\n",
        "a.TaxiOut,\n",
        "a.Cancelled,\n",
        "a.CancellationCode,\n",
        "a.Diverted,\n",
        "a.CarrierDelay,\n",
        "a.WeatherDelay,\n",
        "a.NASDelay,\n",
        "a.SecurityDelay,\n",
        "a.LateAircraftDelay from  delayed a \n",
        "  inner join lookup_city b\n",
        "    on a.Origin=b.airportCode\n",
        "  inner join lookup_city c\n",
        "    on a.Dest=c.airportCode\n",
        "  inner join lookup_geo geo\n",
        "on split(b.City,',')[0]=geo.name\n",
        "     and trim(split(b.City,',')[1])=geo.admin1_code\n",
        "  inner join lookup_geo geo_dest\n",
        "    on c.City=concat(geo_dest.name,', ',geo_dest.admin1_code)\n",
        ")\n",
        "select Origin, UniqueCarrier, Origin_City, Origin_latitude, Origin_Longitude, Dest_latitude, Dest_longitude, max(DepDelay) as delayed, avg(CarrierDelay) avgCarrierDelay \n",
        "from allColumns \n",
        "group by Origin, UniqueCarrier, Origin_City, Origin_latitude, Origin_Longitude, Dest_latitude, Dest_longitude\n",
        "\"\"\").show()\n",
        "\n",
        "print(\"--- %s seconds ---\" % (time.time() - start_time))"
      ],
      "execution_count": null,
      "outputs": []
    },
    {
      "cell_type": "code",
      "metadata": {
        "colab": {
          "base_uri": "https://localhost:8080/"
        },
        "id": "QfvIwCCChuvc",
        "outputId": "4b0a845f-8a41-48f2-9139-03b3499af980"
      },
      "source": [
        "# you can even cache a large lookup table.\n"
      ],
      "execution_count": null,
      "outputs": [
        {
          "output_type": "execute_result",
          "data": {
            "text/plain": [
              "DataFrame[]"
            ]
          },
          "metadata": {
            "tags": []
          },
          "execution_count": 47
        }
      ]
    },
    {
      "cell_type": "code",
      "metadata": {
        "id": "31NhqcGgh7HG"
      },
      "source": [
        "# Run 5 - caching one of the lookups\n",
        "#Note the runtime\n",
        "start_time = time.time()\n",
        "\n",
        "spark.sql(\"\"\"\n",
        "with allColumns\n",
        "(select \n",
        "a.Year,\n",
        "a.Month,\n",
        "a.DayofMonth,\n",
        "a.DayOfWeek,\n",
        "a.DepTime,\n",
        "a.CRSDepTime,\n",
        "a.ArrTime,\n",
        "a.CRSArrTime,\n",
        "a.UniqueCarrier,\n",
        "a.FlightNum,\n",
        "a.TailNum,\n",
        "a.ActualElapsedTime,\n",
        "a.CRSElapsedTime,\n",
        "a.AirTime,\n",
        "a.ArrDelay,\n",
        "a.DepDelay,\n",
        "a.Origin,\n",
        "b.City as Origin_City,\n",
        "geo.latitude as Origin_latitude,\n",
        "geo.longitude as Origin_longitude,\n",
        "a.Dest,\n",
        "c.City as Dest_City,\n",
        "geo_dest.latitude as Dest_latitude,\n",
        "geo_dest.longitude as Dest_longitude,\n",
        "a.Distance,\n",
        "a.TaxiIn,\n",
        "a.TaxiOut,\n",
        "a.Cancelled,\n",
        "a.CancellationCode,\n",
        "a.Diverted,\n",
        "a.CarrierDelay,\n",
        "a.WeatherDelay,\n",
        "a.NASDelay,\n",
        "a.SecurityDelay,\n",
        "a.LateAircraftDelay from  delayed a \n",
        "  inner join lookup_city b\n",
        "    on a.Origin=b.airportCode\n",
        "  inner join lookup_city c\n",
        "    on a.Dest=c.airportCode\n",
        "  inner join lookup_geo geo\n",
        "on split(b.City,',')[0]=geo.name\n",
        "     and trim(split(b.City,',')[1])=geo.admin1_code\n",
        "  inner join lookup_geo geo_dest\n",
        "    on c.City=concat(geo_dest.name,', ',geo_dest.admin1_code)\n",
        ")\n",
        "select Origin, UniqueCarrier, Origin_City, Origin_latitude, Origin_Longitude, Dest_latitude, Dest_longitude, max(DepDelay) as delayed, avg(CarrierDelay) avgCarrierDelay \n",
        "from allColumns \n",
        "group by Origin, UniqueCarrier, Origin_City, Origin_latitude, Origin_Longitude, Dest_latitude, Dest_longitude\n",
        "\"\"\").show()\n",
        "\n",
        "print(\"--- %s seconds ---\" % (time.time() - start_time))"
      ],
      "execution_count": null,
      "outputs": []
    },
    {
      "cell_type": "code",
      "metadata": {
        "colab": {
          "base_uri": "https://localhost:8080/"
        },
        "id": "RDO8GpNZe7gc",
        "outputId": "a812f44d-76e8-40ed-9933-275efe9b07db"
      },
      "source": [
        "# run 6 - remove unnecesary columns from the SQL\n",
        "# Note the runtime\n",
        "start_time = time.time()\n",
        "\n",
        "<put your sql here>\n",
        "\n",
        "print(\"--- %s seconds ---\" % (time.time() - start_time))"
      ],
      "execution_count": null,
      "outputs": [
        {
          "output_type": "stream",
          "text": [
            "+------+-------------+-------------+---------------+----------------+-------------+--------------+-------+------------------+\n",
            "|Origin|UniqueCarrier|  Origin_City|Origin_latitude|Origin_Longitude|Dest_latitude|Dest_longitude|delayed|   avgCarrierDelay|\n",
            "+------+-------------+-------------+---------------+----------------+-------------+--------------+-------+------------------+\n",
            "|   ABE|           OO|Allentown, PA|       40.60843|       -75.49018|     33.52066|     -86.80249|   11.0|              null|\n",
            "|   ALB|           OH|   Albany, NY|       42.65258|       -73.75623|     42.35843|     -71.05977|   55.0|               0.0|\n",
            "|   ALB|           WN|   Albany, NY|       42.65258|       -73.75623|     39.29038|     -76.61219|   99.0| 8.203647416413373|\n",
            "|   ASE|           OO|    Aspen, CO|        39.1911|      -106.81754|       33.749|     -84.38798|   82.0|               6.0|\n",
            "|   ATL|           9E|  Atlanta, GA|         33.749|       -84.38798|     33.52066|     -86.80249|   94.0|15.083333333333334|\n",
            "|   ATL|           9E|  Atlanta, GA|         33.749|       -84.38798|     39.29038|     -76.61219|    6.0|              null|\n",
            "|   ATL|           DL|  Atlanta, GA|         33.749|       -84.38798|     30.26715|     -97.74306|   99.0| 20.12719298245614|\n",
            "|   ATL|           DL|  Atlanta, GA|         33.749|       -84.38798|     33.52066|     -86.80249|   98.0|            19.856|\n",
            "|   ATL|           DL|  Atlanta, GA|         33.749|       -84.38798|     41.08144|     -81.51901|    7.0| 17.11111111111111|\n",
            "|   ATL|           DL|  Atlanta, GA|         33.749|       -84.38798|     61.21806|    -149.90028|    9.0|             25.75|\n",
            "|   ATL|           EV|  Atlanta, GA|         33.749|       -84.38798|     39.29038|     -76.61219|   82.0|              17.6|\n",
            "|   ATL|           EV|  Atlanta, GA|         33.749|       -84.38798|     39.36415|     -74.42306|    9.0|  46.1578947368421|\n",
            "|   ATL|           EV|  Atlanta, GA|         33.749|       -84.38798|     41.08144|     -81.51901|   99.0| 30.99437148217636|\n",
            "|   ATL|           OH|  Atlanta, GA|         33.749|       -84.38798|     30.44332|     -91.18747|   82.0| 48.13333333333333|\n",
            "|   ATL|           OH|  Atlanta, GA|         33.749|       -84.38798|     40.60843|     -75.49018|    8.0|              16.5|\n",
            "|   ATL|           OO|  Atlanta, GA|         33.749|       -84.38798|     33.52066|     -86.80249|   31.0|               0.0|\n",
            "|   ATL|           OO|  Atlanta, GA|         33.749|       -84.38798|      39.1911|    -106.81754|   81.0|13.571428571428571|\n",
            "|   ATW|           OH| Appleton, WI|       44.26193|       -88.41538|       33.749|     -84.38798|   70.0|             46.25|\n",
            "|   AUS|           DL|   Austin, TX|       30.26715|       -97.74306|       33.749|     -84.38798|   96.0| 22.71904761904762|\n",
            "|   AUS|           OH|   Austin, TX|       30.26715|       -97.74306|       33.749|     -84.38798|   90.0|             43.64|\n",
            "+------+-------------+-------------+---------------+----------------+-------------+--------------+-------+------------------+\n",
            "only showing top 20 rows\n",
            "\n",
            "--- 3.336827039718628 seconds ---\n"
          ],
          "name": "stdout"
        }
      ]
    },
    {
      "cell_type": "code",
      "metadata": {
        "colab": {
          "base_uri": "https://localhost:8080/"
        },
        "id": "bl4WnpzdfZb4",
        "outputId": "7983688d-5a11-44c9-b642-2fae2b031bfe"
      },
      "source": [
        "# run 7 - filter the lookup tables in the SQL\n",
        "# Note the runtime\n",
        "start_time = time.time()\n",
        "\n",
        "< re-write your sql applying a filter to each lookup table>\n",
        "\n",
        "print(\"--- %s seconds ---\" % (time.time() - start_time))"
      ],
      "execution_count": null,
      "outputs": [
        {
          "output_type": "stream",
          "text": [
            "+------+-------------+-------------+---------------+----------------+-------------+--------------+-------+------------------+\n",
            "|Origin|UniqueCarrier|  Origin_City|Origin_latitude|Origin_Longitude|Dest_latitude|Dest_longitude|delayed|   avgCarrierDelay|\n",
            "+------+-------------+-------------+---------------+----------------+-------------+--------------+-------+------------------+\n",
            "|   ABE|           OO|Allentown, PA|       40.60843|       -75.49018|     33.52066|     -86.80249|   11.0|              null|\n",
            "|   ALB|           OH|   Albany, NY|       42.65258|       -73.75623|     42.35843|     -71.05977|   55.0|               0.0|\n",
            "|   ALB|           WN|   Albany, NY|       42.65258|       -73.75623|     39.29038|     -76.61219|   99.0| 8.203647416413373|\n",
            "|   ASE|           OO|    Aspen, CO|        39.1911|      -106.81754|       33.749|     -84.38798|   82.0|               6.0|\n",
            "|   ATL|           9E|  Atlanta, GA|         33.749|       -84.38798|     33.52066|     -86.80249|   94.0|15.083333333333334|\n",
            "|   ATL|           9E|  Atlanta, GA|         33.749|       -84.38798|     39.29038|     -76.61219|    6.0|              null|\n",
            "|   ATL|           DL|  Atlanta, GA|         33.749|       -84.38798|     30.26715|     -97.74306|   99.0| 20.12719298245614|\n",
            "|   ATL|           DL|  Atlanta, GA|         33.749|       -84.38798|     33.52066|     -86.80249|   98.0|            19.856|\n",
            "|   ATL|           DL|  Atlanta, GA|         33.749|       -84.38798|     41.08144|     -81.51901|    7.0| 17.11111111111111|\n",
            "|   ATL|           DL|  Atlanta, GA|         33.749|       -84.38798|     61.21806|    -149.90028|    9.0|             25.75|\n",
            "|   ATL|           EV|  Atlanta, GA|         33.749|       -84.38798|     39.29038|     -76.61219|   82.0|              17.6|\n",
            "|   ATL|           EV|  Atlanta, GA|         33.749|       -84.38798|     39.36415|     -74.42306|    9.0|  46.1578947368421|\n",
            "|   ATL|           EV|  Atlanta, GA|         33.749|       -84.38798|     41.08144|     -81.51901|   99.0| 30.99437148217636|\n",
            "|   ATL|           OH|  Atlanta, GA|         33.749|       -84.38798|     30.44332|     -91.18747|   82.0| 48.13333333333333|\n",
            "|   ATL|           OH|  Atlanta, GA|         33.749|       -84.38798|     40.60843|     -75.49018|    8.0|              16.5|\n",
            "|   ATL|           OO|  Atlanta, GA|         33.749|       -84.38798|     33.52066|     -86.80249|   31.0|               0.0|\n",
            "|   ATL|           OO|  Atlanta, GA|         33.749|       -84.38798|      39.1911|    -106.81754|   81.0|13.571428571428571|\n",
            "|   ATW|           OH| Appleton, WI|       44.26193|       -88.41538|       33.749|     -84.38798|   70.0|             46.25|\n",
            "|   AUS|           DL|   Austin, TX|       30.26715|       -97.74306|       33.749|     -84.38798|   96.0| 22.71904761904762|\n",
            "|   AUS|           OH|   Austin, TX|       30.26715|       -97.74306|       33.749|     -84.38798|   90.0|             43.64|\n",
            "+------+-------------+-------------+---------------+----------------+-------------+--------------+-------+------------------+\n",
            "only showing top 20 rows\n",
            "\n",
            "--- 2.3837192058563232 seconds ---\n"
          ],
          "name": "stdout"
        }
      ]
    },
    {
      "cell_type": "code",
      "metadata": {
        "colab": {
          "base_uri": "https://localhost:8080/"
        },
        "id": "yy6F4EZ4gfSP",
        "outputId": "a14e16e5-7df9-47e4-b92c-6bfdb5f31997"
      },
      "source": [
        "#recreate the dataframes selecting only the columns you need, filtering the data before creating the view, then caching the views.\n",
        "# columns needed are 'UniqueCarrier','DepDelay','Origin','CarrierDelay','Dest' from the main table\n",
        "<df.select here>\n",
        "# filter the df_lookup_city data prior to creating the view to only contain USA data\n",
        "\n",
        "# filter the df_lookup_geo data prior to creating the view to only contain US data and select only the columns you need to perform the lookup\n",
        "# fields from geo ('name','latitude','longitude','admin1_code')\n",
        "\n",
        "df_lookup_city_name.createOrReplaceTempView('lookup_city')\n",
        "df_lookup_geo.createOrReplaceTempView('lookup_geo')\n",
        "df.createOrReplaceTempView('delayed')\n",
        "spark.sql(\"cache table delayed\")\n",
        "spark.sql(\"cache table lookup_geo\")"
      ],
      "execution_count": null,
      "outputs": [
        {
          "output_type": "execute_result",
          "data": {
            "text/plain": [
              "DataFrame[]"
            ]
          },
          "metadata": {
            "tags": []
          },
          "execution_count": 51
        }
      ]
    },
    {
      "cell_type": "code",
      "metadata": {
        "colab": {
          "base_uri": "https://localhost:8080/"
        },
        "id": "qmk2rn5Zg-tC",
        "outputId": "95777e23-0dc2-41b4-ca33-804ebace78a4"
      },
      "source": [
        "# run 8 - filtered lookup dataframes\n",
        "# Note the runtime\n",
        "start_time = time.time()\n",
        "\n",
        "<final query should return the same data as the first query, but much faster>\n",
        "\n",
        "print(\"--- %s seconds ---\" % (time.time() - start_time))"
      ],
      "execution_count": null,
      "outputs": [
        {
          "output_type": "stream",
          "text": [
            "+------+-------------+-------------+---------------+----------------+-------------+--------------+-------+------------------+\n",
            "|Origin|UniqueCarrier|  Origin_City|Origin_latitude|Origin_Longitude|Dest_latitude|Dest_longitude|delayed|   avgCarrierDelay|\n",
            "+------+-------------+-------------+---------------+----------------+-------------+--------------+-------+------------------+\n",
            "|   ABE|           OO|Allentown, PA|       40.60843|       -75.49018|     33.52066|     -86.80249|   11.0|              null|\n",
            "|   ALB|           OH|   Albany, NY|       42.65258|       -73.75623|     42.35843|     -71.05977|   55.0|               0.0|\n",
            "|   ALB|           WN|   Albany, NY|       42.65258|       -73.75623|     39.29038|     -76.61219|   99.0| 8.203647416413373|\n",
            "|   ASE|           OO|    Aspen, CO|        39.1911|      -106.81754|       33.749|     -84.38798|   82.0|               6.0|\n",
            "|   ATL|           9E|  Atlanta, GA|         33.749|       -84.38798|     33.52066|     -86.80249|   94.0|15.083333333333334|\n",
            "|   ATL|           9E|  Atlanta, GA|         33.749|       -84.38798|     39.29038|     -76.61219|    6.0|              null|\n",
            "|   ATL|           DL|  Atlanta, GA|         33.749|       -84.38798|     30.26715|     -97.74306|   99.0| 20.12719298245614|\n",
            "|   ATL|           DL|  Atlanta, GA|         33.749|       -84.38798|     33.52066|     -86.80249|   98.0|            19.856|\n",
            "|   ATL|           DL|  Atlanta, GA|         33.749|       -84.38798|     41.08144|     -81.51901|    7.0| 17.11111111111111|\n",
            "|   ATL|           DL|  Atlanta, GA|         33.749|       -84.38798|     61.21806|    -149.90028|    9.0|             25.75|\n",
            "|   ATL|           EV|  Atlanta, GA|         33.749|       -84.38798|     39.29038|     -76.61219|   82.0|              17.6|\n",
            "|   ATL|           EV|  Atlanta, GA|         33.749|       -84.38798|     39.36415|     -74.42306|    9.0|  46.1578947368421|\n",
            "|   ATL|           EV|  Atlanta, GA|         33.749|       -84.38798|     41.08144|     -81.51901|   99.0| 30.99437148217636|\n",
            "|   ATL|           OH|  Atlanta, GA|         33.749|       -84.38798|     30.44332|     -91.18747|   82.0| 48.13333333333333|\n",
            "|   ATL|           OH|  Atlanta, GA|         33.749|       -84.38798|     40.60843|     -75.49018|    8.0|              16.5|\n",
            "|   ATL|           OO|  Atlanta, GA|         33.749|       -84.38798|     33.52066|     -86.80249|   31.0|               0.0|\n",
            "|   ATL|           OO|  Atlanta, GA|         33.749|       -84.38798|      39.1911|    -106.81754|   81.0|13.571428571428571|\n",
            "|   ATW|           OH| Appleton, WI|       44.26193|       -88.41538|       33.749|     -84.38798|   70.0|             46.25|\n",
            "|   AUS|           DL|   Austin, TX|       30.26715|       -97.74306|       33.749|     -84.38798|   96.0| 22.71904761904762|\n",
            "|   AUS|           OH|   Austin, TX|       30.26715|       -97.74306|       33.749|     -84.38798|   90.0|             43.64|\n",
            "+------+-------------+-------------+---------------+----------------+-------------+--------------+-------+------------------+\n",
            "only showing top 20 rows\n",
            "\n",
            "--- 1.254105567932129 seconds ---\n"
          ],
          "name": "stdout"
        }
      ]
    },
    {
      "cell_type": "code",
      "metadata": {
        "colab": {
          "base_uri": "https://localhost:8080/"
        },
        "id": "3P82CRVDxk7s",
        "outputId": "81113b4c-3fdb-4fca-8398-d4370d11495e"
      },
      "source": [
        "# Remember to uncache the table as soon as you are done.\n",
        "spark.sql(\"uncache table delayed\")\n",
        "spark.sql(\"uncache table lookup_geo\")"
      ],
      "execution_count": null,
      "outputs": [
        {
          "output_type": "execute_result",
          "data": {
            "text/plain": [
              "DataFrame[]"
            ]
          },
          "metadata": {
            "tags": []
          },
          "execution_count": 53
        }
      ]
    },
    {
      "cell_type": "code",
      "metadata": {
        "colab": {
          "base_uri": "https://localhost:8080/"
        },
        "id": "aHEPdkk_x0Ep",
        "outputId": "08cd24d4-7ec1-4361-c8da-a338f6f707d9"
      },
      "source": [
        "#Verify that the table is no longer cached\n",
        "if spark.catalog.isCached(\"delayed\") or spark.catalog.isCached(\"lookup_geo\"):\n",
        "  print(\"a table is till cached\")\n",
        "else:\n",
        "  print(\"all clear\")"
      ],
      "execution_count": null,
      "outputs": [
        {
          "output_type": "stream",
          "text": [
            "all clear\n"
          ],
          "name": "stdout"
        }
      ]
    },
    {
      "cell_type": "code",
      "metadata": {
        "id": "3XLLlG2kx4s3"
      },
      "source": [
        ""
      ],
      "execution_count": null,
      "outputs": []
    }
  ]
}