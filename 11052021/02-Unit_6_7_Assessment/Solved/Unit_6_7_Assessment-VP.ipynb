{
  "nbformat": 4,
  "nbformat_minor": 0,
  "metadata": {
    "colab": {
      "name": "Unit_6_7_Assessment.ipynb",
      "provenance": [],
      "collapsed_sections": [],
      "include_colab_link": true
    },
    "kernelspec": {
      "name": "python3",
      "display_name": "Python 3"
    }
  },
  "cells": [
    {
      "cell_type": "markdown",
      "metadata": {
        "id": "view-in-github",
        "colab_type": "text"
      },
      "source": [
        "<a href=\"https://colab.research.google.com/github/vuhpham94/nflx-adv-data-hw/blob/main/11052021/02-Unit_6_7_Assessment/Solved/Unit_6_7_Assessment-VP.ipynb\" target=\"_parent\"><img src=\"https://colab.research.google.com/assets/colab-badge.svg\" alt=\"Open In Colab\"/></a>"
      ]
    },
    {
      "cell_type": "markdown",
      "metadata": {
        "id": "Dqr96HasFnC8"
      },
      "source": [
        "1. Which is the best schema for creating a new database table called weather_history?\n",
        "\n",
        "a. \n",
        "```\n",
        "CREATE TABLE weatherhistory (\n",
        "  date VARCHAR NOT NULL,\n",
        "  temperature VARCHAR,\n",
        "  rainfall_amount VARCHAR,\n",
        ");\n",
        "```\n",
        "\n",
        "b. \n",
        "\n",
        "```\n",
        "CREATE TABLE weather_history (\n",
        "  date VARCHAR,\n",
        "  temperature VARCHAR,\n",
        "  rainfall_amount VARCHAR,\n",
        ");\n",
        "```\n",
        "\n",
        "c. \n",
        "```\n",
        "CREATE TABLE weather_history (\n",
        "  date DATE NOT NULL,\n",
        "  temperature FLOAT,\n",
        "  rainfall_amount INT,\n",
        ");\n",
        "```\n",
        "\n",
        "d. \n",
        "```\n",
        "CREATE TABLE weather_history (\n",
        "  date DATE NOT NULL,\n",
        "  temperature FLOAT,\n",
        "  rainfall_amount FLOAT,\n",
        ");\n",
        "```"
      ]
    },
    {
      "cell_type": "code",
      "metadata": {
        "id": "JiuxgScaIr5q",
        "outputId": "0c19e801-b089-4ae5-a6ea-b0d1499bbffb",
        "colab": {
          "base_uri": "https://localhost:8080/"
        }
      },
      "source": [
        "# Please provide answer below.\n",
        "print(\"My answer is D\")"
      ],
      "execution_count": 1,
      "outputs": [
        {
          "output_type": "stream",
          "name": "stdout",
          "text": [
            "My answer is D\n"
          ]
        }
      ]
    },
    {
      "cell_type": "markdown",
      "metadata": {
        "id": "yshvJVf5Fr2S"
      },
      "source": [
        "2. Which is the best way to select all from weather_history?\n",
        "\n",
        "a. \n",
        "\n",
        "```\n",
        "SELECT ALL FROM weather_history;\n",
        "```\n",
        "\n",
        "b. \n",
        "\n",
        "```\n",
        "SELECT date, temperature, rainfall_amount FROM weather_history;\n",
        "```\n",
        "\n",
        "c. \n",
        "\n",
        "```\n",
        "SELECT * FROM weather_history;\n",
        "```\n",
        "\n",
        "d. \n",
        "\n",
        "```\n",
        "SELECT ALL(*) FROM weather_history;\n",
        "```"
      ]
    },
    {
      "cell_type": "code",
      "metadata": {
        "id": "assQn1-9KEXR",
        "outputId": "35f44c78-35f1-463f-d62a-915d1803077a",
        "colab": {
          "base_uri": "https://localhost:8080/"
        }
      },
      "source": [
        "# Please provide your answer below.\n",
        "print(\"My answer is C\")"
      ],
      "execution_count": 2,
      "outputs": [
        {
          "output_type": "stream",
          "name": "stdout",
          "text": [
            "My answer is C\n"
          ]
        }
      ]
    },
    {
      "cell_type": "markdown",
      "metadata": {
        "id": "Z55y12zwFsma"
      },
      "source": [
        "3. Which is the best way to select temperature and rainfall_amount, then group by date?\n",
        "\n",
        "a. \n",
        "\n",
        "```\n",
        "select * FROM weather_history GROUP BY date;\n",
        "```\n",
        "\n",
        "b. \n",
        "\n",
        "```\n",
        "select temperature, rainfall_amount FROM weather_history GROUP BY date;\n",
        "```\n",
        "\n",
        "c. \n",
        "\n",
        "```\n",
        "select temperature, rainfall_amount FROM weather_history;\n",
        "```\n",
        "\n",
        "d. \n",
        "\n",
        "```\n",
        "select * FROM weather_history GROUP BY temperature, rainfall_amount, date;\n",
        "```"
      ]
    },
    {
      "cell_type": "code",
      "metadata": {
        "id": "NAlfc5y9ONMX",
        "outputId": "61a7d1b1-a12a-4a38-ccfd-3fcfa2c325a7",
        "colab": {
          "base_uri": "https://localhost:8080/"
        }
      },
      "source": [
        "# Please provide your answer below.\n",
        "print(\"My answer is B\")"
      ],
      "execution_count": 3,
      "outputs": [
        {
          "output_type": "stream",
          "name": "stdout",
          "text": [
            "My answer is B\n"
          ]
        }
      ]
    },
    {
      "cell_type": "markdown",
      "metadata": {
        "id": "FKCmL7JmFvfd"
      },
      "source": [
        "4. Which is the best way to find the number of rows in the weather_history database table?\n",
        "\n",
        "a. \n",
        "```\n",
        "select count(date) FROM weather_history;\n",
        "```\n",
        "\n",
        "b. \n",
        "```\n",
        "select * FROM weather_history;\n",
        "```\n",
        "\n",
        "c.\n",
        "```\n",
        "select count(*) FROM weather_history;\n",
        "```\n",
        "\n",
        "d. \n",
        "```\n",
        "select *, count(*) FROM weather_history;\n",
        "```"
      ]
    },
    {
      "cell_type": "code",
      "metadata": {
        "id": "G9sXU3XZeHhK",
        "outputId": "26993e08-ef16-4454-fa92-67cfbb6a0022",
        "colab": {
          "base_uri": "https://localhost:8080/"
        }
      },
      "source": [
        "# Please provide your answer below.\n",
        "print(\"My answer is A and C are correct\")"
      ],
      "execution_count": 4,
      "outputs": [
        {
          "output_type": "stream",
          "name": "stdout",
          "text": [
            "My answer is A and C are correct\n"
          ]
        }
      ]
    },
    {
      "cell_type": "markdown",
      "metadata": {
        "id": "I5ajhWSaFxXL"
      },
      "source": [
        "5. Which CTE is the best example of returning the number of days where the temperature is over 50 degrees?\n",
        "\n",
        "a. \n",
        "```\n",
        "WITH greater_than_50 AS (\n",
        "  SELECT *\n",
        "  FROM weather_history\n",
        ")\n",
        "SELECT *\n",
        "FROM greater_than_50\n",
        "WHERE temperature > 50;\n",
        "```\n",
        "\n",
        "b.\n",
        "```\n",
        "WITH greater_than_50 AS (\n",
        "  SELECT *\n",
        "  FROM weather_history\n",
        "  WHERE temperature > 50\n",
        ")\n",
        "SELECT *\n",
        "FROM greater_than_50\n",
        "```\n",
        "\n",
        "c.\n",
        "```\n",
        "WITH greater_than_50 AS (\n",
        "  SELECT *\n",
        "  FROM weather_history\n",
        "  WHERE temperature > 50\n",
        ")\n",
        "```\n",
        "\n",
        "d.\n",
        "```\n",
        "SELECT *\n",
        "FROM weather_history\n",
        "WHERE temperature > 50\n",
        "```"
      ]
    },
    {
      "cell_type": "code",
      "metadata": {
        "id": "8xgbeDyygyOw",
        "outputId": "b314f676-04d2-40ad-a805-868484704c12",
        "colab": {
          "base_uri": "https://localhost:8080/"
        }
      },
      "source": [
        "# Please provide your answer below.\n",
        "print(\"My answer is B\")"
      ],
      "execution_count": 5,
      "outputs": [
        {
          "output_type": "stream",
          "name": "stdout",
          "text": [
            "My answer is B\n"
          ]
        }
      ]
    },
    {
      "cell_type": "markdown",
      "metadata": {
        "id": "r3DHYAPgFzDc"
      },
      "source": [
        "6. What is the difference between AWS RDS and AWS S3?\n",
        "\n",
        "a. RDS is a file storage service. S3 is a database service.\n",
        "\n",
        "b. RDS is a server that can run PySpark code. S3 is a database service.\n",
        "\n",
        "c. RDS is a database service. S3 is also a database service.\n",
        "\n",
        "d. RDS is a database service. S3 is a file storage service."
      ]
    },
    {
      "cell_type": "code",
      "metadata": {
        "id": "K8-Wek6bgy6Q",
        "outputId": "7157bdb0-d285-45c6-fc92-6f8194d3a1a4",
        "colab": {
          "base_uri": "https://localhost:8080/"
        }
      },
      "source": [
        "# Please provide your answer below.\n",
        "print(\"My answer is B. If correct answer is C, it's NOT the difference.\")"
      ],
      "execution_count": 6,
      "outputs": [
        {
          "output_type": "stream",
          "name": "stdout",
          "text": [
            "My answer is B. If correct answer is C, it's NOT the difference.\n"
          ]
        }
      ]
    },
    {
      "cell_type": "markdown",
      "metadata": {
        "id": "JFUKVXYzGOi5"
      },
      "source": [
        "7. Which method should be used to change the data type of a DataFrame column in PySpark?\n",
        "\n",
        "a. \n",
        "```\n",
        "dataType()\n",
        "```\n",
        "\n",
        "b. \n",
        "```\n",
        "withType()\n",
        "```\n",
        "\n",
        "c.\n",
        "```\n",
        "withColumn()\n",
        "```\n",
        "\n",
        "d. \n",
        "```\n",
        "changeColumn()\n",
        "```"
      ]
    },
    {
      "cell_type": "code",
      "metadata": {
        "id": "mn2DKHtPhUOm",
        "outputId": "d292cdf7-6918-4681-a326-95ebbddb4c2b",
        "colab": {
          "base_uri": "https://localhost:8080/"
        }
      },
      "source": [
        "# Please provide your answer below.\n",
        "print(\"My answer is C\")"
      ],
      "execution_count": 7,
      "outputs": [
        {
          "output_type": "stream",
          "name": "stdout",
          "text": [
            "My answer is C\n"
          ]
        }
      ]
    },
    {
      "cell_type": "markdown",
      "metadata": {
        "id": "7jeSAt7vGQ3s"
      },
      "source": [
        "8. Which standard parameters are needed to insert into an RDS Postgres database table?\n",
        "\n",
        "a.\n",
        "```\n",
        "database_table, username, password, url, column_count\n",
        "```\n",
        "\n",
        "b.\n",
        "```\n",
        "database_table, username, password\n",
        "```\n",
        "\n",
        "c. \n",
        "```\n",
        "username, password, url\n",
        "```\n",
        "\n",
        "d.\n",
        "```\n",
        "username, password, driver\n",
        "```"
      ]
    },
    {
      "cell_type": "code",
      "metadata": {
        "id": "PnQNhVxFh6Tv",
        "outputId": "06434c43-c990-479e-ef26-d1619e103319",
        "colab": {
          "base_uri": "https://localhost:8080/"
        }
      },
      "source": [
        "# Please provide your answer below.\n",
        "print(\"My answer is C\")"
      ],
      "execution_count": 8,
      "outputs": [
        {
          "output_type": "stream",
          "name": "stdout",
          "text": [
            "My answer is C\n"
          ]
        }
      ]
    },
    {
      "cell_type": "markdown",
      "metadata": {
        "id": "qGO1gXrOGTAm"
      },
      "source": [
        "9. Suppose you had a dataframe with columns called transaction_id, item_id, and item_cost. What is the correct way to group all of the item_id’s together using PySpark such that it creates a new dataframe?\n",
        "\n",
        "a. \n",
        "```\n",
        "transaction_df.groupBy('item_id')\n",
        "```\n",
        "\n",
        "b. \n",
        "```\n",
        "transaction_df.groupBy('item_cost')\n",
        "```\n",
        "\n",
        "c. \n",
        "```\n",
        "transactionGroups = transaction_df.groupBy('item_id')\n",
        "```\n",
        "\n",
        "d. \n",
        "```\n",
        "transaction_df['item_id']\n",
        "```"
      ]
    },
    {
      "cell_type": "code",
      "metadata": {
        "id": "uH7g2Wk5isXz",
        "outputId": "5a6a9fdb-236d-4c58-c013-eafe21746fc6",
        "colab": {
          "base_uri": "https://localhost:8080/"
        }
      },
      "source": [
        "# Please provide your answer below.\n",
        "print(\"My answer is C\")"
      ],
      "execution_count": 9,
      "outputs": [
        {
          "output_type": "stream",
          "name": "stdout",
          "text": [
            "My answer is C\n"
          ]
        }
      ]
    },
    {
      "cell_type": "markdown",
      "metadata": {
        "id": "oOcMPpLMGVoi"
      },
      "source": [
        "10. What is the correct way to filter the dataframe such that we create a new dataframe with only items that cost more than $50?\n",
        "\n",
        "a.\n",
        "```\n",
        "transaction_df = transaction_df['item_cost>50']\n",
        "```\n",
        "\n",
        "b. \n",
        "```\n",
        "transaction_df = transaction_df['item_cost' > 50]\n",
        "```\n",
        "\n",
        "c.\n",
        "```\n",
        "transaction_df = transaction_df['item_cost'] > 50\n",
        "```\n",
        "\n",
        "d.\n",
        "```\n",
        "transaction_df = transaction_df.filter('item_cost>50').show()\n",
        "```"
      ]
    },
    {
      "cell_type": "code",
      "metadata": {
        "id": "dFbg3Fqrk7sr",
        "outputId": "a28b7b7e-8c38-4e02-d37a-db6f09b3bee0",
        "colab": {
          "base_uri": "https://localhost:8080/"
        }
      },
      "source": [
        "# Please provide your answer below.\n",
        "print(\"My answer is D\")"
      ],
      "execution_count": 10,
      "outputs": [
        {
          "output_type": "stream",
          "name": "stdout",
          "text": [
            "My answer is D\n"
          ]
        }
      ]
    },
    {
      "cell_type": "code",
      "metadata": {
        "id": "EcfY2LAiRtnu"
      },
      "source": [
        ""
      ],
      "execution_count": 10,
      "outputs": []
    }
  ]
}