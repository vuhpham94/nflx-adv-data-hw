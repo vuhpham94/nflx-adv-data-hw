{
  "nbformat": 4,
  "nbformat_minor": 0,
  "metadata": {
    "colab": {
      "name": "PeterPan-VP.ipynb",
      "provenance": [],
      "collapsed_sections": [],
      "authorship_tag": "ABX9TyOeFqt0CiSVH2w7KvGvo4De",
      "include_colab_link": true
    },
    "kernelspec": {
      "name": "python3",
      "display_name": "Python 3"
    },
    "language_info": {
      "name": "python"
    }
  },
  "cells": [
    {
      "cell_type": "markdown",
      "metadata": {
        "id": "view-in-github",
        "colab_type": "text"
      },
      "source": [
        "<a href=\"https://colab.research.google.com/github/vuhpham94/nflx-adv-data-hw/blob/main/11052021/01-SkillDrill/PeterPan_VP.ipynb\" target=\"_parent\"><img src=\"https://colab.research.google.com/assets/colab-badge.svg\" alt=\"Open In Colab\"/></a>"
      ]
    },
    {
      "cell_type": "code",
      "metadata": {
        "id": "dysJJN_oMqTq"
      },
      "source": [
        "import os\n",
        "# Find the latest version of spark 3.0  from http://www-us.apache.org/dist/spark/ and enter as the spark version\n",
        "# For example:\n",
        "# spark_version = 'spark-3.0.1'\n",
        "spark_version = 'spark-3.0.1'\n",
        "os.environ['SPARK_VERSION']=spark_version\n",
        "\n",
        "# Install Spark and Java\n",
        "!apt-get update\n",
        "!apt-get install openjdk-11-jdk-headless -qq > /dev/null\n",
        "!wget -q https://archive.apache.org/dist/spark/$SPARK_VERSION/$SPARK_VERSION-bin-hadoop2.7.tgz\n",
        "!tar xf $SPARK_VERSION-bin-hadoop2.7.tgz\n",
        "!pip install -q findspark\n",
        "\n",
        "# Set Environment Variables\n",
        "os.environ[\"JAVA_HOME\"] = \"/usr/lib/jvm/java-11-openjdk-amd64\"\n",
        "os.environ[\"SPARK_HOME\"] = f\"/content/{spark_version}-bin-hadoop2.7\"\n",
        "\n",
        "# Start a SparkSession\n",
        "import findspark\n",
        "findspark.init()"
      ],
      "execution_count": null,
      "outputs": []
    },
    {
      "cell_type": "code",
      "metadata": {
        "id": "FDqKzDyqlaqo"
      },
      "source": [
        "# remove punctuation, spaces and convert words to lowercase\n",
        "import re\n",
        "def clean_text(text):\n",
        "       return re.sub(re.compile(r'[^a-zA-Z0-9\\s]'),\"\",text).lower().strip()"
      ],
      "execution_count": null,
      "outputs": []
    },
    {
      "cell_type": "code",
      "metadata": {
        "id": "2E3kchKcNCkf"
      },
      "source": [
        " #import packages\n",
        "from pyspark.sql import SparkSession\n",
        "\n",
        "# Create a SparkSession\n",
        "spark = SparkSession.builder.appName(\"SparkSQL\").getOrCreate()"
      ],
      "execution_count": null,
      "outputs": []
    },
    {
      "cell_type": "code",
      "metadata": {
        "id": "YMCRyolGNX94"
      },
      "source": [
        "# Read in data\n",
        "from pyspark import SparkFiles\n",
        "\n",
        "peterpan_url = \"https://raw.githubusercontent.com/vuhpham94/nflx-adv-data-hw/main/11052021/01-SkillDrill/Resources/peterpan.txt\"\n",
        "\n",
        "sc = spark.sparkContext\n",
        "sc.addFile(peterpan_url)\n",
        "\n",
        "text_file = sc.textFile(SparkFiles.get(\"peterpan.txt\"))\n",
        "words = text_file.flatMap(lambda line: line.split(\" \"))\n",
        "\n",
        "word_counts = words.map(clean_text)\\\n",
        "                   .map(lambda word: (word, 1))\\\n",
        "                   .reduceByKey(lambda a, b: a + b)\n",
        "word_counts.take(20)"
      ],
      "execution_count": null,
      "outputs": []
    },
    {
      "cell_type": "code",
      "metadata": {
        "id": "gvhY96xne-Dp"
      },
      "source": [
        "# save word_counts RDD to file\n",
        "word_counts.saveAsTextFile(\"./peterpan_word_counts\")"
      ],
      "execution_count": null,
      "outputs": []
    },
    {
      "cell_type": "code",
      "metadata": {
        "id": "KcsWBCUpnr1f"
      },
      "source": [
        ""
      ],
      "execution_count": null,
      "outputs": []
    }
  ]
}