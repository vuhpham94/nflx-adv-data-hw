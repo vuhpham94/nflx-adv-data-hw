{
 "cells": [
  {
   "cell_type": "code",
   "execution_count": 1,
   "metadata": {},
   "outputs": [],
   "source": [
    "# Import the 'os' and 'csv' libraries\n",
    "import os, csv"
   ]
  },
  {
   "cell_type": "code",
   "execution_count": 2,
   "metadata": {},
   "outputs": [
    {
     "name": "stdout",
     "output_type": "stream",
     "text": [
      "..\\Resources\\yahoo_stock.csv\n"
     ]
    }
   ],
   "source": [
    "# Set path for importing our CSV file\n",
    "csvpath = os.path.join('..','Resources','yahoo_stock.csv')\n",
    "print(csvpath)"
   ]
  },
  {
   "cell_type": "code",
   "execution_count": 3,
   "metadata": {},
   "outputs": [
    {
     "name": "stdout",
     "output_type": "stream",
     "text": [
      "Greatest percent change: Date 3/12/2020, High 2660.949951, Low 2478.860107, Volume 8829380000, Percent change 5.71%\n"
     ]
    }
   ],
   "source": [
    "# Open a connection to the comma-delimited csv file \n",
    "with open(csvpath) as csvfile:\n",
    "    # Read in the CSV file using csv.DictReader() class\n",
    "    csvreader = csv.reader(csvfile, delimiter=',')\n",
    "    csv_header = next(csvreader)\n",
    "#     print(csv_header)\n",
    "    \n",
    "    # Create a variable to save our print row and greatest daily percent change\n",
    "    printrow = []\n",
    "    max_pct = 0.0\n",
    "    \n",
    "    # Iterate through each row\n",
    "    for row in csvreader:\n",
    "        # For each row, calculate the daily percent change\n",
    "        # opening price: row[3]; closing price: row[4]\n",
    "        daily_pct = round(((float(row[4])-float(row[3]))/float(row[3]))*100,2)\n",
    "        \n",
    "        # Check if the absolute daily percent change is greater than the previous max\n",
    "        if abs(daily_pct) > max_pct:\n",
    "            # If true, store new greatest daily percent change and print row\n",
    "            max_pct = abs(daily_pct)\n",
    "            printrow = row\n",
    "            \n",
    "    # Print out the date, stock high, stock low, volume and percent change for the day with the greatest percent change\n",
    "    print(f\"Greatest percent change: Date {printrow[0]}, High {printrow[1]}, Low {printrow[2]}, Volume {printrow[5]}, Percent change {max_pct}%\")"
   ]
  },
  {
   "cell_type": "code",
   "execution_count": null,
   "metadata": {},
   "outputs": [],
   "source": []
  }
 ],
 "metadata": {
  "kernelspec": {
   "display_name": "Python 3",
   "language": "python",
   "name": "python3"
  },
  "language_info": {
   "codemirror_mode": {
    "name": "ipython",
    "version": 3
   },
   "file_extension": ".py",
   "mimetype": "text/x-python",
   "name": "python",
   "nbconvert_exporter": "python",
   "pygments_lexer": "ipython3",
   "version": "3.8.8"
  }
 },
 "nbformat": 4,
 "nbformat_minor": 4
}
