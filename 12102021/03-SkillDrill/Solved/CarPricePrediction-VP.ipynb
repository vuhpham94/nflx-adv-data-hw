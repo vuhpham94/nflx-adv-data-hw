{
 "cells": [
  {
   "cell_type": "code",
   "execution_count": null,
   "metadata": {},
   "outputs": [],
   "source": [
    "# Import Dependencies\n",
    "from sklearn.linear_model import LinearRegression \n",
    "from sklearn.model_selection import train_test_split\n",
    "from statsmodels.multivariate.pca import PCA\n",
    "from sklearn.metrics import accuracy_score\n",
    "import pandas as pd\n",
    "import matplotlib.pyplot as plt\n",
    "import seaborn as sns"
   ]
  },
  {
   "cell_type": "markdown",
   "metadata": {},
   "source": [
    "## Car Prices\n",
    "Keywords: multivariate, regression.\n",
    "\n",
    "## Description\n",
    "An automobile company aspires to enter the market by setting up their manufacturing unit and producing cars. The goal of this analysis is to understand the factors on which the pricing of cars depends. Which variables are significant in predicting the price of a car.\n",
    "\n",
    "## Source\n",
    "https://archive.ics.uci.edu/ml/datasets/Automobile"
   ]
  },
  {
   "cell_type": "code",
   "execution_count": null,
   "metadata": {},
   "outputs": [],
   "source": [
    "# Read the csv file into a pandas DataFrame\n",
    "\n",
    "### YOUR CODE HERE"
   ]
  },
  {
   "cell_type": "code",
   "execution_count": null,
   "metadata": {},
   "outputs": [],
   "source": [
    "# Select our independent X variables, and our dependent y variable. \n",
    "\n",
    "### YOUR CODE HERE"
   ]
  },
  {
   "cell_type": "code",
   "execution_count": null,
   "metadata": {},
   "outputs": [],
   "source": [
    "# Split the data into training and testing\n",
    "X_train, X_test, y_train, y_test = train_test_split(X, y, random_state=0)\n",
    "print(X_train.shape, X_test.shape, y_train.shape, y_test.shape)"
   ]
  },
  {
   "cell_type": "markdown",
   "metadata": {},
   "source": [
    "## Multiple Linear Regression"
   ]
  },
  {
   "cell_type": "code",
   "execution_count": null,
   "metadata": {},
   "outputs": [],
   "source": [
    "# Create a LinearRegression model and fit it to the training data\n",
    "\n",
    "### YOUR CODE HERE"
   ]
  },
  {
   "cell_type": "code",
   "execution_count": null,
   "metadata": {},
   "outputs": [],
   "source": [
    "# Use the X_train & y_train to calculate the R2 in-sample value (training data)\n",
    "\n",
    "### YOUR CODE HERE\n",
    "r2 = \n",
    "\n",
    "print(f\"R2: {r2}\")"
   ]
  },
  {
   "cell_type": "code",
   "execution_count": null,
   "metadata": {},
   "outputs": [],
   "source": [
    "# Use the X_test & y_test to calculate the R2 out-of-sample value (testing data)\n",
    "\n",
    "### YOUR CODE HERE\n",
    "r2 = \n",
    "\n",
    "print(f\"R2: {r2}\")"
   ]
  },
  {
   "cell_type": "markdown",
   "metadata": {},
   "source": [
    "## Principal Component Analysis"
   ]
  },
  {
   "cell_type": "code",
   "execution_count": null,
   "metadata": {},
   "outputs": [],
   "source": [
    "# Run Principal Component Analysis and create a Components DataFrame\n",
    "# Standardize set to True to standardize and create covariance matrix\n",
    "# Method set to `eig` to perform eigendecomposition\n",
    "\n",
    "### YOUR CODE HERE\n",
    "pca = \n",
    "components_df = "
   ]
  },
  {
   "cell_type": "code",
   "execution_count": null,
   "metadata": {},
   "outputs": [],
   "source": [
    "### DO NOT EDIT\n",
    "\n",
    "# Combine the X varaibles and new principal compenents\n",
    "combined_df = pd.concat([X, components_df], axis=1)\n",
    "\n",
    "# Create a correlation matrix of all X variables and principal components\n",
    "correlation = combined_df.corr()\n",
    "\n",
    "# Creat a matrix showing the correlation between:\n",
    "# Features vs Principal Components\n",
    "# Remove the parts of the output to keep the correlation between features and principal components\n",
    "# Keep Rows up till components: correlation[:-len(components_df.columns)]\n",
    "# Keep Columns starting with compenents: .loc[:, 'comp_00':]\n",
    "correlation_plot_data = correlation[:-len(components_df.columns)].loc[:, 'comp_00':]\n",
    "\n",
    "# Plot Features vs Principal Components correlation matrix\n",
    "fig, ax = plt.subplots(figsize=(20, 7))\n",
    "sns.heatmap(correlation_plot_data, cmap='YlGnBu', linewidths=.7, annot=True, fmt='.2f')\n",
    "plt.show()"
   ]
  },
  {
   "cell_type": "code",
   "execution_count": null,
   "metadata": {},
   "outputs": [],
   "source": [
    "# Create a Scree Plot\n",
    "\n",
    "### YOUR CODE HERE"
   ]
  },
  {
   "cell_type": "code",
   "execution_count": null,
   "metadata": {},
   "outputs": [],
   "source": [
    "# Print the Cumulative Variance Explained\n",
    "\n",
    "### YOUR CODE HERE"
   ]
  },
  {
   "cell_type": "code",
   "execution_count": null,
   "metadata": {},
   "outputs": [],
   "source": [
    "# Update `n` to be the varible that reaches 80% variance explained\n",
    "\n",
    "n = 'comp_??'\n",
    "\n",
    "cumulative_df =  components_df.loc[:, :n]"
   ]
  },
  {
   "cell_type": "code",
   "execution_count": null,
   "metadata": {},
   "outputs": [],
   "source": [
    "# Split the data into training and testing with the new cumulative_df\n",
    "X_train, X_test, y_train, y_test = train_test_split(cumulative_df, y, random_state=0)\n",
    "print(X_train.shape, X_test.shape, y_train.shape, y_test.shape)"
   ]
  },
  {
   "cell_type": "markdown",
   "metadata": {},
   "source": [
    "## PCA Multiple Linear Regression"
   ]
  },
  {
   "cell_type": "code",
   "execution_count": null,
   "metadata": {},
   "outputs": [],
   "source": [
    "# Create a new LinearRegression model and fit it to the training data\n",
    "\n",
    "### YOUR CODE HERE"
   ]
  },
  {
   "cell_type": "code",
   "execution_count": null,
   "metadata": {},
   "outputs": [],
   "source": [
    "# Use the new X_train & y_train to calculate the R2 in-sample value (training data)\n",
    "\n",
    "### YOUR CODE HERE\n",
    "r2 = \n",
    "\n",
    "print(f\"R2: {r2}\")"
   ]
  },
  {
   "cell_type": "code",
   "execution_count": null,
   "metadata": {},
   "outputs": [],
   "source": [
    "# Use the new X_test & y_test to calculate the R2 out-of-sample value (testing data)\n",
    "\n",
    "### YOUR CODE HERE\n",
    "r2 = \n",
    "\n",
    "print(f\"R2: {r2}\")"
   ]
  }
 ],
 "metadata": {
  "kernelspec": {
   "display_name": "Python 3",
   "language": "python",
   "name": "python3"
  },
  "language_info": {
   "codemirror_mode": {
    "name": "ipython",
    "version": 3
   },
   "file_extension": ".py",
   "mimetype": "text/x-python",
   "name": "python",
   "nbconvert_exporter": "python",
   "pygments_lexer": "ipython3",
   "version": "3.6.8"
  }
 },
 "nbformat": 4,
 "nbformat_minor": 4
}
