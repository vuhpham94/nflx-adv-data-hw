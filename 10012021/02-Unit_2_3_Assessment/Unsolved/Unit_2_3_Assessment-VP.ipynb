{
 "cells": [
  {
   "cell_type": "markdown",
   "metadata": {},
   "source": [
    "# Instructions"
   ]
  },
  {
   "cell_type": "markdown",
   "metadata": {},
   "source": [
    "Read each question carefully and provide an appropriate answer in the following cells. Depending on the question, you may need to provide code or a text submission. **Be sure to label your answers with the question number for easy identification!**"
   ]
  },
  {
   "cell_type": "markdown",
   "metadata": {},
   "source": [
    "**Question 1: Which of the following statements is the correct way to import a csv into a Pandas DataFrame? (2 points)** \n",
    "\n",
    "A. \n",
    "\n",
    "```python\n",
    "import pandas as pd\n",
    "infile = pd.read_csv(file_name)\n",
    "```\n",
    "\n",
    "\n",
    "B. \n",
    "\n",
    "```python\n",
    "import pandas as pd\n",
    "infile = pd.readCSV(file_name)\n",
    "```\n",
    "\n",
    "\n",
    "C. \n",
    "\n",
    "```python\n",
    "import pandas as pd\n",
    "infile = read_file(file_name)\n",
    "```\n",
    "\n",
    "\n",
    "D. \n",
    "\n",
    "```python\n",
    "import pandas as pd\n",
    "df.read_file(file_name)\n",
    "```\n"
   ]
  },
  {
   "cell_type": "code",
   "execution_count": 1,
   "metadata": {},
   "outputs": [],
   "source": [
    "# Answer 1"
   ]
  },
  {
   "cell_type": "markdown",
   "metadata": {},
   "source": [
    "**Question 2: Create a code block that first imports the `student.json` file into a Pandas dataframe named `grades`, then creates a new dataframe named `passing` that contains only the students whose `Pass/Fail` status equals `PASS`. (5 points)**"
   ]
  },
  {
   "cell_type": "code",
   "execution_count": 2,
   "metadata": {},
   "outputs": [],
   "source": [
    "# Answer 2"
   ]
  },
  {
   "cell_type": "markdown",
   "metadata": {},
   "source": [
    "**Question 3: Create a code block that creates a Pandas dataframe with the following columns and values: (5 points)**\n",
    "\n",
    "* `Stock_Symbol`: AAPL, GOOG, TSLA, KO, MSFT\n",
    "* `Company_Name`: Apple, Google, Tesla, Coca-Cola, Microsoft\n",
    "* `52_Week_High`: 145.09, 1934.86, 900.40, 60.13, 242.64"
   ]
  },
  {
   "cell_type": "code",
   "execution_count": 3,
   "metadata": {},
   "outputs": [],
   "source": [
    "# Answer 3"
   ]
  },
  {
   "cell_type": "markdown",
   "metadata": {},
   "source": [
    "**Question 4: Which of the following `git` commands creates a new branch in your local repository? (2 points):**\n",
    "\n",
    "A. `git clone`\n",
    "\n",
    "B. `git pull <branch name>` \n",
    "\n",
    "C. `git checkout -b <branch name>`\n",
    "\n",
    "D. `git push -b <branch name>`"
   ]
  },
  {
   "cell_type": "code",
   "execution_count": 4,
   "metadata": {},
   "outputs": [],
   "source": [
    "# Answer 4"
   ]
  },
  {
   "cell_type": "markdown",
   "metadata": {},
   "source": [
    "**Question 5: Create a code block that performs the following operations: (10 points)**\n",
    "\n",
    "   1. Import the `bitcoin_cash_price.csv` file into a Pandas dataframe called `bitcoin`.\n",
    "   \n",
    "   2. Import the `dash_price.csv` file into a Pandas dataframe called `dash`.\n",
    "   \n",
    "   3. Merge the `bitcoin` and `dash` dataframes using the `Date` column as the identifier column. Name this new merged dataframe `crypto`. \n",
    "   \n",
    "   4. Create a new `Delta_Volume` column in the `crypto` dataframe that calculates the largest **absolute** difference between the bitcoin `Volume` versus dash `Volume`.\n",
    "   \n",
    "     * **Hint:** Use `abs()` to calculate absolute value.\n",
    "   \n",
    "   \n",
    "   5. Find the row in the `crypto` dataframe that contains the maximum `Delta_Volume` value. Print the row out. "
   ]
  },
  {
   "cell_type": "code",
   "execution_count": 5,
   "metadata": {},
   "outputs": [],
   "source": [
    "# Answer 5"
   ]
  },
  {
   "cell_type": "markdown",
   "metadata": {},
   "source": [
    "**Question 6: Which of the following statements adjusts the upper and lower limits on a Matplotlib visualization? (2 points)**\n",
    "\n",
    "A. \n",
    "\n",
    "```python\n",
    "import matplotlib.pyplot as plt\n",
    "plt.hlines(0,25,0, alpha=0.25)\n",
    "```\n",
    "\n",
    "B.\n",
    "\n",
    "```python\n",
    "import matplotlib.pyplot as plt\n",
    "plt.xlim(0,25)\n",
    "plt.ylim(0,25)\n",
    "```\n",
    "\n",
    "C.\n",
    "```python\n",
    "import matplotlib.pyplot as plt\n",
    "plt.grid(0,25,0,25)\n",
    "```\n",
    "\n",
    "D.\n",
    "```python\n",
    "import matplotlib.pyplot as plt\n",
    "plt.upper(0,25)\n",
    "plt.lower(0,25)\n",
    "```"
   ]
  },
  {
   "cell_type": "code",
   "execution_count": 6,
   "metadata": {},
   "outputs": [],
   "source": [
    "# Answer 6"
   ]
  },
  {
   "cell_type": "markdown",
   "metadata": {},
   "source": [
    "**Question 7: Generate a bar plot that visualizes the following Netflix show IMDB ratings: (5 points)**\n",
    "\n",
    "`{\"Series\":[\"The Witcher\",\"Disenchantment\",\"Tiger King\",\"Ozark\",\"Stranger Things\"],\"User Ratings\":[8.2,7.2,7.6,8.4,8.7]}`"
   ]
  },
  {
   "cell_type": "code",
   "execution_count": 7,
   "metadata": {},
   "outputs": [],
   "source": [
    "# Answer 7"
   ]
  },
  {
   "cell_type": "markdown",
   "metadata": {},
   "source": [
    "**Question 8: Which of the following statements corretly creates a Matplotlib visualization with four subplots? (2 points)**\n",
    "\n",
    "A. `plt.subplot()`\n",
    "\n",
    "B. `plt.subplot(1,2,3,4)`\n",
    "\n",
    "C. `plt.subplot(1,4)`\n",
    "\n",
    "D. `plt.subplot(2,2,1)`"
   ]
  },
  {
   "cell_type": "code",
   "execution_count": 8,
   "metadata": {},
   "outputs": [],
   "source": [
    "# Answer 8"
   ]
  },
  {
   "cell_type": "markdown",
   "metadata": {},
   "source": [
    "**Question 9: Which of the following Matplotlib methods would you use to add a label to your plot with an arrow pointing to the value? (2 points)**\n",
    "\n",
    "A. `plt.annotate()`\n",
    "\n",
    "B. `plt.label()`\n",
    "\n",
    "C. `plt.show()`\n",
    "\n",
    "D. `plt.arrow()`"
   ]
  },
  {
   "cell_type": "code",
   "execution_count": 9,
   "metadata": {},
   "outputs": [],
   "source": [
    "# Answer 9"
   ]
  },
  {
   "cell_type": "markdown",
   "metadata": {},
   "source": [
    "**Question 10: Create a code block that performs the following operations: (15 points)**\n",
    "\n",
    "1. Import the `earthquakes_database.csv` file into a Pandas dataframe named `earthquakes`\n",
    "\n",
    "2. Retrieve the names of the unique data sources found in the `Source` column within your `earthquakes` dataframe.\n",
    "\n",
    "    * **Hint:** There should be 13 data sources.\n",
    "\n",
    "\n",
    "3. Create a Matplotlib scatterplot for each data source that visualizes the `Magnitude` (y-axis) versus `Depth` (x-axis). Be sure to add axis labels to your axes and title each plot with the name of the data source.\n",
    "\n",
    "    * **Note:** You will need to filter the `earthquakes` dataframe for each category type.\n"
   ]
  },
  {
   "cell_type": "code",
   "execution_count": 10,
   "metadata": {
    "scrolled": false
   },
   "outputs": [],
   "source": [
    "# Answer 10"
   ]
  }
 ],
 "metadata": {
  "kernelspec": {
   "display_name": "Python 3",
   "language": "python",
   "name": "python3"
  },
  "language_info": {
   "codemirror_mode": {
    "name": "ipython",
    "version": 3
   },
   "file_extension": ".py",
   "mimetype": "text/x-python",
   "name": "python",
   "nbconvert_exporter": "python",
   "pygments_lexer": "ipython3",
   "version": "3.7.6"
  }
 },
 "nbformat": 4,
 "nbformat_minor": 4
}
